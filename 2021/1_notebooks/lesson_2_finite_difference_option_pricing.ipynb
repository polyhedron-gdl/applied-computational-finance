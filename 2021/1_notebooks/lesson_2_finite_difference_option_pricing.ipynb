{
 "cells": [
  {
   "cell_type": "markdown",
   "metadata": {},
   "source": [
    "<table align=\"left\">\n",
    "  <td>\n",
    "    <a target=\"_blank\" href=\"https://colab.research.google.com/github/polyhedron-gdl/applied-computational-finance/blob/master/2021/1_notebooks/lesson_2_finite_difference_option_pricing.ipynb\"><img src=\"https://www.tensorflow.org/images/colab_logo_32px.png\" />Run in Google Colab</a>\n",
    "  </td>\n",
    "</table>"
   ]
  },
  {
   "cell_type": "markdown",
   "metadata": {},
   "source": [
    "# Finite Difference Methods for Derivatives Pricing"
   ]
  },
  {
   "cell_type": "markdown",
   "metadata": {},
   "source": [
    "## Introduction ##\n",
    "\n",
    "There are so many excellent resources (web tutorials, books, etc...) on finite difference method for the solution of differential equations in computational finance that writing yet another one\n",
    "requires a different view on the topic. \n",
    "\n",
    "This notebook is not concerned with the traditional academic presentation of the topic, but is focused at teaching the practitioner how to obtain reliable computations involving finite difference methods. This focus is based on a set of learning outcomes:\n",
    "\n",
    "1. understanding of the ideas behind finite difference methods,\n",
    "2. understanding how to transform an algorithm to a computer code,\n",
    "3. understanding how to test (verify) the code,\n",
    "4. understanding potential artifacts in simulation results.\n",
    "\n",
    "This notebook assumes some basic knowledge of differential equations and scientific Python programming,\n",
    "as often met in an introductory numerical methods course. A significant portion of the text is consequently devoted\n",
    "to programming details.\n"
   ]
  },
  {
   "cell_type": "markdown",
   "metadata": {},
   "source": [
    "## Understanding Ideas behind Finite Difference Methods"
   ]
  },
  {
   "cell_type": "markdown",
   "metadata": {},
   "source": [
    "\n",
    "In numerical analysis, [finite-difference methods (FDM)](https://en.wikipedia.org/wiki/Finite_difference_method) are discretizations used for solving *differential equations* by approximating them with difference equations in which finite differences approximate the derivatives. Finite difference methods for option pricing are numerical methods used in mathematical finance for the valuation of options. Finite difference methods were first applied to option pricing by Eduardo Schwartz in 1977.\n",
    "\n",
    "In general, finite difference methods are used to price options by approximating the (continuous-time) differential equation that describes how an option price evolves over time by a set of (discrete-time) difference equations obtained by approximation of the partial derivative \n",
    "\n",
    "\\begin{equation}\n",
    "        \\frac{\\partial C}{\\partial S} \\Rightarrow \\frac{\\Delta C}{\\Delta S}\n",
    "\\end{equation}\n",
    "\n",
    "The discrete difference equations may then be solved iteratively to calculate a price for the option. The approach arises since the evolution of the option value can be modelled via a partial differential equation (PDE), as a function of (at least) time and price of underlying; see for example Black–Scholes PDE. Once in this form, a finite difference model can be derived, and the valuation obtained."
   ]
  },
  {
   "cell_type": "markdown",
   "metadata": {},
   "source": [
    "### A very simple example: the harmonic oscillator ###\n",
    "\n",
    "Let's start from a very simple case, the harmonic oscillator. The problem is described by a simple **ODE (Ordinary Differential Equation)** of 2nd degree:\n",
    "\n",
    "\\begin{equation}\n",
    "\\frac{d^2u(t)}{dt^2} + \\omega^2 \\, u(t) = 0,\\,\n",
    "u(0)=I, \\, u^\\prime(0) =0, \\, t \\in (0,T]\n",
    "\\label{eqn:simple_harmonic_1}\n",
    "\\end{equation}\n",
    "\n",
    "We know that the solution of this equation is a family of oscillatory functions like\n",
    "\n",
    "$$\n",
    "u(t) = I \\,\\cos{\\omega t}\n",
    "$$\n",
    "\n",
    "but we want to discover this solution only using a numerical approach. The equation in of second degree so we need two initial condition, the first one could be the position of the oscillator at the beginning ($t=0$), the second usually describe a condition on the velocity. \n"
   ]
  },
  {
   "cell_type": "markdown",
   "metadata": {},
   "source": [
    "#### The Finite Difference Scheme\n",
    "\n",
    "To formulate a finite difference method for the model problem we follow the following steps\n",
    "\n",
    "**Step 1: Discretizing the domain**. The domain is discretized by introducing a uniformly partitioned time mesh. The points in the mesh are $t_n = n\\Delta t,\\> n = 0, 1, \\dots ,N_t$, where $\\Delta t = T/N_t$ is the constant length of\n",
    "the time steps. We introduce a mesh function $u_n$ for $n = 0, 1, . . . ,N_t$, which approximates the exact solution at the mesh points. (Note that $n = 0$ is the known initial condition, so $u_n$ is identical to the mathematical\n",
    "$u$ at this point.) The mesh function un will be computed from algebraic equations derived from the differential equation problem.\n",
    "\n",
    "**Step 2: Fulfilling the equation at discrete time points**. The ODE (Ordinary Differential Equation) is\n",
    "to be satisfied at each mesh point where the solution must be found:\n",
    "\n",
    "\\begin{equation}\n",
    "u^{\\prime\\prime}(t_n) + \\omega^2 u(t_n) = 0, \\quad n = 1, . . . ,N_t\n",
    "\\end{equation}\n",
    "\n",
    "**Step 3: Replacing derivatives by finite differences**. The derivative\n",
    "$u^{\\prime\\prime}(t_n)$ is to be replaced by a finite difference approximation. A common\n",
    "second-order accurate approximation to the second-order derivative is\n",
    "\n",
    "\\begin{equation}\n",
    "f''(x) \\sim \\frac{f(x+h)-2f(x) + f(x-h)}{h^2} \\Rightarrow \n",
    "u^{\\prime\\prime}(t_n) \\sim \n",
    "\\frac{u_{n+1} - 2u_n + u_{n-1}}{(\\Delta t)^2}\n",
    "\\end{equation}\n",
    "\n",
    "Inserting this yields\n",
    "\n",
    "\\begin{equation}\n",
    "\\frac{u_{n+1} - 2u_n + u_{n-1}}{\\Delta t^2} = -\\omega^2 u_n\n",
    "\\end{equation}\n",
    "\n",
    "The **initial condition** for the velocity is simply $v=u^\\prime=0$, we also need to replace the derivative in the initial condition by a\n",
    "finite difference. Here we choose another centered difference approximation\n",
    "\n",
    "\\begin{equation}\n",
    "f^\\prime(x) \\sim \\frac{f(x+h)-f(x-h)}{2h} \\Rightarrow\n",
    "\\frac{u[1]-u[-1]}{2\\Delta t}=0\n",
    "\\end{equation}\n",
    "\n",
    "**Step 4: Formulating a recursive algorithm**. To formulate the computational\n",
    "algorithm, we assume that we have already computed $u_{n−1}$ and $u_n$, such that $u_{n+1}$ is the unknown value to be solved for. The ordinary differential equation $\\eqref{eqn:simple_harmonic_1}$ becomes\n",
    "\n",
    "$$\n",
    "\\frac{u[n+1] - 2 u[n] + u[n-1]}{\\left( \\Delta t \\right)^2} = -\\omega^2  \\, u[n]  \n",
    "$$\n",
    "which finally give us \n",
    "\n",
    "$$\n",
    "u[n+1] = 2\\, u[n] - u[n-1] - \\left(\\Delta t \\right)^2 \\omega^2 \\, u[n]\n",
    "$$\n",
    "\n",
    "$$\n",
    "\\text{\n",
    "u[n+1] = 2 * u[n] - u[n-1] - dt**2 * w**2 * u[n]\n",
    "}\n",
    "$$\n",
    "\n",
    "We observe that this equation cannot be used for $n=0$ since we have an undefined value of $u[-1]$ the condition on the velocity can help us because $v=0$ implies $u[1] = u[-1]$ so we have for $n = 0$\n",
    "\n",
    "$$\n",
    "u[1] = u[0] - 0.5*dt**2 * w**2 * u[0]\n",
    "$$\n",
    "\n",
    "**We have transformed our problem in an iterative equation (a *finite difference equation*) that starting from value at steps $n$ and $n-1$ gives us the value of our function to the next time step**. \n",
    "\n",
    "Now we are ready for coding. First of all let's import everything we need"
   ]
  },
  {
   "cell_type": "code",
   "execution_count": 4,
   "metadata": {},
   "outputs": [],
   "source": [
    "%matplotlib inline\n",
    "import math\n",
    "import numpy             as np\n",
    "import matplotlib.pyplot as plt\n",
    "\n",
    "from math import pi"
   ]
  },
  {
   "cell_type": "markdown",
   "metadata": {},
   "source": [
    "We have imported numpy and matplotlib under the names **np** and **plt**,\n",
    "respectively, as this is very common in the Python scientific computing\n",
    "community."
   ]
  },
  {
   "cell_type": "markdown",
   "metadata": {},
   "source": [
    "The algorithm from the previous section is readily translated to a complete\n",
    "Python function for computing and returning $u_0, u_1, \\dots , u_{N_t}$ and\n",
    "$t_0, t_1, \\dots , t_{N_t}$ , given the input $I$, $\\omega$, $\\Delta t$, and $T$:"
   ]
  },
  {
   "cell_type": "code",
   "execution_count": 5,
   "metadata": {},
   "outputs": [],
   "source": [
    "def solver(I, w, dt, T):\n",
    "    \"\"\"\n",
    "    Solve u'' + w**2*u = 0 for t in (0,T], u(0)=I and u'(0)=0,\n",
    "    by a central finite difference method with time step dt.\n",
    "    \"\"\"\n",
    "    dt   = float(dt)\n",
    "    Nt   = int(round(T/dt))\n",
    "    # initialize an array with Nt elements\n",
    "    u    = np.zeros(Nt+1)\n",
    "    # t is the temporal array, it is the independent variable in this problem\n",
    "    t    = np.linspace(0, Nt*dt, Nt+1)\n",
    "    #\n",
    "    # initial conditions \n",
    "    #\n",
    "    u[0] = I\n",
    "    u[1] = u[0] - 0.5*dt**2*w**2*u[0]\n",
    "    #\n",
    "    # solution cycle\n",
    "    #\n",
    "    for n in range(1, Nt):\n",
    "        u[n+1] = 2*u[n] - u[n-1] - dt**2*w**2*u[n]\n",
    "    \n",
    "    return u, t"
   ]
  },
  {
   "cell_type": "markdown",
   "metadata": {},
   "source": [
    "Is also convenient to have a function for plotting the numerical and the exact solution "
   ]
  },
  {
   "cell_type": "code",
   "execution_count": 6,
   "metadata": {},
   "outputs": [],
   "source": [
    "def u_exact(t, I, w):\n",
    "    return I*np.cos(w*t) "
   ]
  },
  {
   "cell_type": "code",
   "execution_count": 7,
   "metadata": {},
   "outputs": [],
   "source": [
    "def visualize(u, t, I, w):\n",
    "    plt.plot(t, u, 'o', color='r')         # plot with circle red dots\n",
    "    t_fine = np.linspace(0, t[-1], 1001)   # very fine mesh for u_e\n",
    "    u_e = u_exact(t_fine, I, w)          \n",
    "    plt.plot(t_fine, u_e,'b--', color='b')\n",
    "    plt.xlabel('t')\n",
    "    plt.ylabel('u')\n",
    "    dt = t[1] - t[0]\n",
    "    plt.title('dt=%g' % dt)\n",
    "    umin = 1.2*u.min(); umax = -umin\n",
    "    plt.axis([t[0], t[-1], umin, umax])"
   ]
  },
  {
   "cell_type": "code",
   "execution_count": 8,
   "metadata": {},
   "outputs": [
    {
     "data": {
      "image/png": "[encoded data removed]",
      "text/plain": [
       "<Figure size 432x288 with 1 Axes>"
      ]
     },
     "metadata": {
      "needs_background": "light"
     },
     "output_type": "display_data"
    }
   ],
   "source": [
    "I           = 1\n",
    "w           = 2*pi\n",
    "dt          = 0.1\n",
    "num_periods = 10\n",
    "P           = 2*pi/w # one period\n",
    "T           = P*num_periods\n",
    "\n",
    "u, t = solver(I, w, dt, T)\n",
    "visualize(u, t, I, w)"
   ]
  },
  {
   "cell_type": "markdown",
   "metadata": {},
   "source": [
    "\n",
    "\n",
    ">**Exercise** \n",
    ">\n",
    ">If you change the initial condition from \n",
    ">\n",
    ">    u[1] = u[0] - 0.5*dt**2*w**2*u[0]\n",
    ">\n",
    ">to\n",
    ">\n",
    ">    u[1] = u[0] - 0.5*dt**2*w**2*u[0] + 1\n",
    ">\n",
    ">the form of the solution change and goes out of phase with respect to the theoretical solution. Why? Discuss the result.\n"
   ]
  },
  {
   "cell_type": "markdown",
   "metadata": {},
   "source": [
    "#### Verification"
   ]
  },
  {
   "cell_type": "markdown",
   "metadata": {},
   "source": [
    "\n",
    ">**Exercise** \n",
    ">\n",
    ">The simplest type of verification, which is also\n",
    ">instructive for understanding the algorithm, is to compute $u_1$, $u_2$, and\n",
    ">$u_3$ with the aid of a spreadsheet and make a function for comparing these\n",
    ">results with those from the solver function.\n"
   ]
  },
  {
   "cell_type": "code",
   "execution_count": 9,
   "metadata": {},
   "outputs": [],
   "source": [
    "def test_three_steps():\n",
    "    from math import pi\n",
    "    I = 1; w = 2*pi; dt = 0.1; T = 1\n",
    "    u_by_hand = np.array([1.000000000000000,0.802607911978213,\n",
    "    0.288358920740053])\n",
    "    u, t = solver(I, w, dt, T)\n",
    "    diff = np.abs(u_by_hand - u[:3]).max()\n",
    "    tol = 1E-14\n",
    "    assert diff < tol"
   ]
  },
  {
   "cell_type": "code",
   "execution_count": 10,
   "metadata": {},
   "outputs": [],
   "source": [
    "test_three_steps()"
   ]
  },
  {
   "cell_type": "markdown",
   "metadata": {},
   "source": [
    "## Option Pricing\n",
    "\n",
    "The discussion in this section focuses on the derivation of the fundamental partial differential equations for pricing European and American derivatives. One can reasonably ask under what conditions the price of a derivative is described by a partial differential equation. This is a complex issue that we do not elaborate to any significant extent. We'll just remember that the basic condition that allows us to obtain a partial differential equation for the option price is the **markovian nature** of the underlying process that determine the option price. Difficulties aries if the process is not markovian that is if the underlying process depends on the history of the Brownian motion that describes the process.\n",
    "\n",
    "In the absence of jumps in the underlying process, there are fundamentally two different approaches for deriving the pricing equations for an European derivative. The first approach consists in constructing a hedging portfolio whose value tracks the value of the derivative as a function of time. The second approach is based on the [Faynmann-Kac Formula] (https://en.wikipedia.org/wiki/Feynman%E2%80%93Kac_formula), which states that the conditional expectation of a stochastic process obeys a partial differential equation. "
   ]
  },
  {
   "cell_type": "markdown",
   "metadata": {},
   "source": [
    "### Building a Uniform Grid\n",
    "\n",
    "The stock-time (or S-t) plane is discretized into a grid of nodes. The examined time\n",
    "points are $0,\\Delta t, 2\\Delta t, \\dots, K\\Delta t$, and the examined stock prices are \n",
    "$0,\\Delta S, 2\\Delta S,\\dots, I\\Delta S$.\n",
    "The numerical solution of $f$ means to find the values for all $U_{i,k}$ , where $i$ and $k$ are the\n",
    "indexes for the Stock price and the Time, respectively:\n",
    "\n",
    "$$\n",
    "    S = i \\Delta S, \\quad \\quad t = T - k \\Delta T\n",
    "$$"
   ]
  },
  {
   "cell_type": "markdown",
   "metadata": {},
   "source": [
    "**Figure 1.1**\n",
    "\n"
   ]
  },
  {
   "cell_type": "markdown",
   "metadata": {
    "id": "V31YZVuanntq"
   },
   "source": [
    "![fig_1_1.png](data:image/png;base64,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)"
   ]
  },
  {
   "cell_type": "markdown",
   "metadata": {},
   "source": [
    "where $0 \\le i \\le I$ and $0 \\le k \\le K$. This means that we will be solving for the asset value going from zero up to the asset value $I\\Delta S$. Remembering that the Black and Scholes equation is to be solved for $0 \\le S \\le \\infty$, then $I \\Delta S$ is our approximation to infinity. Please note that we are going backward in time starting from the expiration and going back to time 0. \n",
    "\n",
    "I will write the option value at each of these grid point as \n",
    "\n",
    "$$\n",
    "U_{i,k} = U(i\\Delta S, T - k \\Delta t)\n",
    "$$\n",
    "\n",
    "### Discrete Approximation for Derivative\n",
    "\n",
    "**Forward Approximation (1st order)**\n",
    "\n",
    "\\begin{equation}\n",
    "    f^\\prime (x) = \\frac{f(x+h)-f(x)}{h}+O(h)\n",
    "\\end{equation}\n",
    "\n",
    "**Backward Approximation  (1st order)**\n",
    "\n",
    "\\begin{equation}\n",
    "    f^\\prime (x) = \\frac{f(x)-f(x-h)}{h}+O(h)\n",
    "\\end{equation}\n",
    "\n",
    "**Central Approximation  (1st order)**\n",
    "\n",
    "\\begin{equation}\n",
    "    f^\\prime (x) = \\frac{f(x+h)-f(x-h)}{2h}+O(h^2)\n",
    "\\end{equation}\n",
    "\n",
    "\n",
    "From Taylor's series we can obtain a valid approximation up to third order terms\n",
    "\n",
    "\\begin{align}\n",
    "    &f(x+h) = f(x) + f^\\prime(x) h + \\frac{1}{2} f'' (x) h^2 + O(x^3) \\notag\\\\\n",
    "    &f(x-h) = f(x) - f^\\prime(x) h + \\frac{1}{2} f'' (x) h^2 + O(x^3) \\notag\\\\\n",
    "\\end{align}\n",
    "\n",
    "summing up we obtain\n",
    "\n",
    "\\begin{align}\n",
    "    f''(x) =\\frac{f(x+h)-2f(x) + f(x-h)}{h^2} + O(x^3)\n",
    "\\end{align}\n",
    "\n",
    "\n",
    "### Final Conditions and Payoff ###\n",
    "\n",
    "We know that at expiry the option value is just the payoff function. This means that we don't have to solve anything for time T. At expiry we have \n",
    "\n",
    "$$\n",
    "U(S,t) = \\text{Payoff}(S) \\Rightarrow U_{i,0} = \\text{Payoff}(i\\Delta S)\n",
    "$$\n",
    "\n",
    "The right-hand side is a known function. For example, if we are pricing a call option we put\n",
    "\n",
    "$$\n",
    "U_{i,0} =  \\max(i\\Delta S - K, 0)\n",
    "$$\n",
    "\n",
    "This final condition will get our finite-difference scheme started. It will be just like working down the tree in the binomial model. \n",
    "\n",
    "### Boundary Condition ###\n",
    "\n",
    "When we come to solving a PDE numerically we must specify the solution value at the extremes of the region. In our specific pricing problem this means that we have to prescribe the option value at $S=0$ and $S=I \\Delta S$. What we specify will depend on the type of option we are solving. Let's see some examples.\n",
    "\n",
    "**Call Option** - At $S=0$ we have always\n",
    "\n",
    "\\begin{equation}\\label{eqn:boundary_condition_1}\n",
    "U_{0,k}=0\n",
    "\\end{equation}\n",
    "\n",
    "For large value of $S$ the call value approximate $S-Ke^{-r(T-t)}$ so we can set \n",
    "\n",
    "\\begin{equation}\\label{eqn:boundary_condition_2}\n",
    "U_{I,k} = I \\Delta S - Ke^{-rk \\Delta t}\n",
    "\\end{equation}\n",
    "\n",
    "**Put Option** - For a put option we have the condition at $S=0$ that $P=Ke^{-r(T-t)}$, this becomes   \n",
    "\n",
    "\\begin{equation}\\label{eqn:boundary_condition_3}\n",
    "U_{0,k} = Ke^{-rk \\Delta t}\n",
    "\\end{equation}\n",
    "\n",
    "The put option become worthless for large $S$ so\n",
    "\n",
    "\\begin{equation}\\label{eqn:boundary_condition_4}\n",
    "U_{I,k}=0\n",
    "\\end{equation}\n",
    "\n",
    "When the option has a payoff that is most linear in the underlying for large value of $S$ then you can use the upper boundary condition\n",
    "\n",
    "$$\n",
    "\\frac{\\partial^2 U(S,t)}{\\partial S^2} \\rightarrow 0 \\quad \\text{as} \\quad S \\rightarrow \\infty\n",
    "$$\n",
    "\n",
    "The finite-difference representation is\n",
    "\n",
    "\\begin{equation}\\label{eqn:boundary_condition_5}\n",
    "U_{I,k} - 2U_{I-1,k} + U_{I-2,k} = 0 \\Rightarrow U_{I,k} = 2U_{I-1,k} - U_{I-2,k}\n",
    "\\end{equation}"
   ]
  },
  {
   "cell_type": "markdown",
   "metadata": {},
   "source": [
    "## The Explicite Finite-Difference Method ##\n",
    "\n",
    "Our goal is to solve the well known Black & Scholes PDE\n",
    "\n",
    "\\begin{equation}\n",
    "\\frac{\\partial}{\\partial t} U(S,t) +   \\frac{1}{2}\\sigma^2 S^2 \\cdot \\frac{\\partial^2}{\\partial S^2} U(S,t) + rS  \\cdot  \\frac{\\partial}{\\partial S} U(S,t)  -r  \\cdot  U(S,t)   = 0   \n",
    "\\end{equation}\n",
    "\n",
    "Let's rewrite the Black & Scholes PDE in a more general form to emphasize the wide applicability of the finite-difference method.\n",
    "\n",
    "\\begin{equation}\\label{eqn:finite_difference_1}  \n",
    "\\frac{\\partial}{\\partial t} U(S,t) +   a(S) \\cdot \\frac{\\partial^2}{\\partial S^2} U(S,t) + b(S)  \\cdot  \\frac{\\partial}{\\partial S} U(S,t)  +  c(S)  \\cdot  U(S,t)   = 0   \n",
    "\\end{equation}\n",
    "\n",
    "Make the following substitutions and group the factors:\n",
    "\n",
    "$$  \\frac{\\partial}{\\partial t} U(S,t)   \\longrightarrow   \\frac{U_{i,k}-U_{i,k+1}}{\\Delta t} $$\n",
    " \n",
    "Note that for the time derivative we choose the **backward difference** at time $n$, while for the space derivative we choose the central difference:\n",
    "\n",
    "\\begin{align}\n",
    "&\\frac{\\partial}{\\partial S} U(S,t)    \\longrightarrow   \\frac{U_{i+1,k}-U_{i-1,k}}{2\\Delta S} \\\\\n",
    "&\\frac{\\partial^2}{\\partial S^2} U(S,t)   \\longrightarrow   \\frac{U_{i+1,k}- 2 U_{i,k}+U_{i-1,k}}{\\Delta S^2}\n",
    "\\end{align}\n",
    "\n",
    "whith these subsitutions we can write $\\eqref{eqn:finite_difference_1}$ in the form\n",
    "\n",
    "\\begin{equation}\n",
    "\\frac{U_{i,k} - U_{i,k+1}}{\\Delta t} + a \\frac{U_{i+1,k}- 2 U_{i,k}+U_{i-1,k}}{\\Delta S^2} + b  \\frac{U_{i+1,k}-U_{i-1,k}}{2\\Delta S} +\n",
    "c U_{i,k} = 0\n",
    "\\end{equation}\n",
    "\n",
    "or\n",
    "\n",
    "\\begin{equation}\n",
    "\\frac{U_{i,k+1}-U_{i,k}}{\\Delta t} = a \\frac{U_{i+1,k}- 2 U_{i,k}+U_{i-1,k}}{\\Delta S^2} + b  \\frac{U_{i+1,k}-U_{i-1,k}}{2\\Delta S} +\n",
    "c U_{i,k}\n",
    "\\end{equation}\n",
    "\n",
    "Now let's rewrite the finite difference equation putting the term at the time step $k+1$ on the\n",
    "left side of the equal sign\n",
    "\n",
    "\\begin{align} \n",
    "U_{i,k+1} &= a \\Delta t \\frac{U_{i+1,k}- 2 U_{i,k}+U_{i-1,k}}{\\Delta S^2} +  b \\Delta t  \\frac{U_{i+1,k}-U_{i-1,k}}{2\\Delta S} + \\Delta t c U_{i,k} + U_{i,k} \\notag\\\\\n",
    "&= {a \\Delta t \\over \\Delta S^2}U_{i+1,k} + {b \\Delta t \\over 2\\Delta S}U_{i+1,k} -2 {a \\Delta t \\over \\Delta S^2} U_{i,k} + \\Delta t c U_{i,k} + U_{i,k} \\notag\\\\\n",
    "&+ {a \\Delta t \\over \\Delta S^2}U_{i-1,k} - {b \\Delta t \\over 2\\Delta S}U_{i-1,k} \\notag\\\\\n",
    "&= U_{i+1,k} \\left[ {a\\Delta t \\over \\Delta S^2} + {b\\Delta t \\over 2\\Delta S} \\right] \\notag\\\\\n",
    "&+ U_{i,k} \\left[1 + \\Delta tc  - 2 {a\\Delta t \\over \\Delta S^2}   \\right] \\notag\\\\\n",
    "&+ U_{i-1,k} \\left[{a\\Delta t \\over \\Delta S^2} - {b\\Delta t \\over 2\\Delta S} \\right]\n",
    "\\end{align}\n",
    "\n",
    "to arrive to the following form\n",
    " \n",
    "\\begin{equation}\\label{eqn:finite_difference_2}\n",
    "U_{i,k+1} =   A  U_{i+1,k}    +  B  U_{i,k}   + C    U_{i-1,k} \n",
    "\\end{equation}\n",
    " \n",
    "with\n",
    " \n",
    "\\begin{align} \n",
    "& A = \\frac{\\Delta t}{\\Delta S^2} a + \\frac{\\Delta t}{2\\Delta S} b = \\nu_1 a + \\frac{1}{2}\\nu_2 b \\\\\n",
    "& B = 1 + \\Delta t \\> c - \\frac{2\\Delta t}{\\Delta S^2} a = 1 -2 \\nu_1 a + \\Delta t \\> c \\\\\n",
    "& C = \\frac{\\Delta t}{\\Delta S^2} a - \\frac{\\Delta t}{2\\Delta S} b  = \\nu_1 a - \\frac{1}{2}\\nu_2 b\n",
    "\\end{align}\n",
    "\n",
    "where\n",
    "\n",
    "$$ \\nu_1 = \\frac{\\Delta t}{\\Delta S^2}, \\quad \\quad \\nu_2 = \\frac{\\Delta t}{\\Delta S}$$\n",
    "\n",
    "This is a finite difference equation where $U_{i,k+1}$'s can be calculated from $U_{i,k}$'s and so forth, at the boundary $U$ has to be fixed.\n",
    "\n",
    "Equation $\\eqref{eqn:finite_difference_2}$ is the core of the explicit finite difference method. It relates the derivative price at $t-\\Delta t$ to three possible values of it at time $t$. So if, at time step $k$ we know $U_{i,k}$ for all $i$, we can explicitly calculate $U_{i,k+1}$. **This is why this method is called explicit and this is the reason why it can be easily generalized to handle the early exercise feature of american options**. This kind of generalization is not so easy for other computational methods for solving PDE.\n",
    "\n",
    "The option value is know with certainty at expiration $T$. As we have already said, the price at time $t$ can be obtained by using $\\eqref{eqn:finite_difference_2}$ recursively to work backward from time to time $t$. The explicit finite difference method has several features in common with a trinomial lattice."
   ]
  },
  {
   "cell_type": "markdown",
   "metadata": {},
   "source": [
    "### Python Implementation of Explicit Method ###"
   ]
  },
  {
   "cell_type": "code",
   "execution_count": 11,
   "metadata": {},
   "outputs": [],
   "source": [
    "# local module\n",
    "from gdl_finance.analytic import BlackScholes\n",
    "from gdl_finance.trees    import *"
   ]
  },
  {
   "cell_type": "code",
   "execution_count": 12,
   "metadata": {},
   "outputs": [],
   "source": [
    "S0    =  90.0   # initial stock level\n",
    "K     = 100.0   # strike price\n",
    "T     =   1.0   # time-to-maturity\n",
    "r     =   0.05  # short rate\n",
    "sigma =   0.20  # volatility\n",
    "delta =   0.0   # dividend yield"
   ]
  },
  {
   "cell_type": "code",
   "execution_count": 13,
   "metadata": {},
   "outputs": [],
   "source": [
    "# Explicit Method\n",
    "\n",
    "import math\n",
    "import numpy as np\n",
    "#\n",
    "# Parameters to define the range in space and time\n",
    "#\n",
    "S_min = 0.0;\n",
    "S_max = 200.0;\n",
    "L     = S_max - S_min;\n",
    "\n",
    "N     = 1000;               # Number of time steps\n",
    "k     = float(T)/float(N);  # time step size\n",
    "I     = 100;                # Number of space steps\n",
    "h     = float(L)/float(I);  # space step size\n",
    "\n",
    "sig   = sigma\n",
    "sig2  = sig*sig\n",
    "\n",
    "S     = np.zeros((I+1))\n",
    "u     = np.zeros((I+1,N+1))"
   ]
  },
  {
   "cell_type": "markdown",
   "metadata": {},
   "source": [
    "Here we choose the payout of this example. You can choose among 'call', 'put' "
   ]
  },
  {
   "cell_type": "code",
   "execution_count": 14,
   "metadata": {},
   "outputs": [],
   "source": [
    "payout = 'put'"
   ]
  },
  {
   "cell_type": "markdown",
   "metadata": {},
   "source": [
    "Here we define payout and boundary condition for a call option. \n",
    "First of all we calculate the expiry value of a call option strategy expiring in a year. The payout is simply:\n",
    "\n",
    "$$ f(S) = max(S(T)-K,0) $$\n",
    "    \n",
    "Remember that we used backward indexing of time , so maturity is $k = 0$ , the payout is the initial condition of the PDE $ U_{i,0}$. For large value of $S$ the call value approximate $S-Ke^{-r(T-t)}$ so we can set \n",
    "\n",
    "\\begin{equation}\n",
    "U_{I,k} = I \\Delta S - Ke^{-rk \\Delta t} \\rightarrow u\\left[I, n\\right] = S\\left[I\\right] - K\\,e^{r\\cdot k\\cdot n} \n",
    "\\notag\n",
    "\\end{equation}"
   ]
  },
  {
   "cell_type": "code",
   "execution_count": 15,
   "metadata": {},
   "outputs": [],
   "source": [
    "if payout == 'call':\n",
    "    for i in range(0,I+1):\n",
    "        S[i]   = i*h;\n",
    "        u[i,0] = max(S[i]-K,0);\n",
    "    #\n",
    "    # We suppose that the range of S is sufficiently large, therefore impose the \n",
    "    # boundary conditions for all times:\n",
    "    #\n",
    "    # Value at the boundary \n",
    "    for n in range (0, N + 1):\n",
    "        # If the underlying is zero even the option value is zero\n",
    "        u[0,n] = 0.0;\n",
    "        # for large values of the underlying value of the option tends asymptotically\n",
    "        # to S - K * exp(-rt)\n",
    "        u[I,n] = S[I] - K * math.exp(-r*k*n);"
   ]
  },
  {
   "cell_type": "markdown",
   "metadata": {},
   "source": [
    "Here we define payout and boundary condition for a put option"
   ]
  },
  {
   "cell_type": "code",
   "execution_count": 16,
   "metadata": {},
   "outputs": [],
   "source": [
    "if payout == 'put':\n",
    "    for i in range(0,I+1):\n",
    "        S[i] = i*h;\n",
    "        u[i,0] = max(K - S[i],0);\n",
    "    #\n",
    "    # Value at the boundary \n",
    "    #\n",
    "    for n in range (0, N + 1):\n",
    "        u[0,n] = K * math.exp(-r*k*n);\n",
    "        u[I,n] = 0.0;"
   ]
  },
  {
   "cell_type": "markdown",
   "metadata": {},
   "source": [
    "Remember that\n",
    "\n",
    "\\begin{align} \n",
    "& A = \\frac{\\Delta t}{\\Delta S^2} a + \\frac{\\Delta t}{2\\Delta S} b  \\notag\\\\\n",
    "& B = 1 + \\Delta t \\> c - \\frac{2\\Delta t}{\\Delta S^2} a  \\notag\\\\\n",
    "& C = \\frac{\\Delta t}{\\Delta S^2} a - \\frac{\\Delta t}{2\\Delta S} b \\notag \n",
    "\\end{align}\n",
    "\n",
    "for the Black and Scholes equation we have\n",
    "\n",
    "\\begin{align} \n",
    "& a = \\frac{1}{2} \\sigma^2 S^2  \\notag\\\\\n",
    "& b = rS  \\notag\\\\\n",
    "& c = -r \n",
    "\\end{align}\n",
    "\n",
    "and due to the discretization process we have also $S = i \\Delta S$ and $\\Delta t = k$. Putting all this togheter we finally have\n",
    "\n",
    "\\begin{align}\n",
    "&A_i = \\frac{1}{2} \\left( \\sigma^2 i^2 + r i \\right) \\cdot k \\notag\\\\\n",
    "&B_i = 1 - \\left( \\sigma^2 i^2 +r \\right) \\cdot k \\notag\\\\\n",
    "&C_i = \\frac{1}{2} \\left( \\sigma^2 i^2 - r i \\right) \\cdot k \\notag\n",
    "\\end{align}"
   ]
  },
  {
   "cell_type": "code",
   "execution_count": 17,
   "metadata": {},
   "outputs": [],
   "source": [
    "#\n",
    "# Implementation of the explicit method\n",
    "#\n",
    "for n in range(0,N): # time loop\n",
    "    for i in range (0,I): # space loop\n",
    "        A = 0.5 * (sig2 * i * i + r * i ) * k\n",
    "        B = 1.0 - (sig2 * i * i + r) * k \n",
    "        C = 0.5 * (sig2 * i * i - r * i) * k\n",
    "        u[i,n+1] = A * u[i+1,n] + B * u[i,n] + C * u[i-1,n];\n",
    "        #\n",
    "        # early exercise condition\n",
    "        #\n",
    "        if payout == 'put':\n",
    "            exercise = np.maximum(K-S[i],0)\n",
    "        else:\n",
    "            exercise = np.maximum(S[i]-K,0)\n",
    "        if exercise > u[i, n+1]:\n",
    "            u[i, n+1] = exercise                    "
   ]
  },
  {
   "cell_type": "markdown",
   "metadata": {},
   "source": [
    "Graphical representation of the premium at different stock prices"
   ]
  },
  {
   "cell_type": "code",
   "execution_count": 18,
   "metadata": {},
   "outputs": [
    {
     "data": {
      "text/plain": [
       "Text(0.5, 1.0, 'Premium (green) - Payoff (red) for put')"
      ]
     },
     "execution_count": 18,
     "metadata": {},
     "output_type": "execute_result"
    },
    {
     "data": {
      "image/png": "[encoded data removed]",
      "text/plain": [
       "<Figure size 1080x360 with 1 Axes>"
      ]
     },
     "metadata": {
      "needs_background": "light"
     },
     "output_type": "display_data"
    }
   ],
   "source": [
    "%matplotlib inline\n",
    "\n",
    "import matplotlib.pyplot as plt\n",
    "from pylab import *\n",
    "from mpl_toolkits.mplot3d.axes3d import Axes3D\n",
    "\n",
    "figure(figsize=(15,5))\n",
    "grid()\n",
    "plot(S,u[:,0],'r')\n",
    "plot(S,u[:,N],'g')\n",
    "\n",
    "xticks(arange(S_min,S_max,5))\n",
    "yticks(arange(0,100,5))\n",
    "ylim(0,100)\n",
    "xlim(S_min, S_max)\n",
    "xlabel('Stock Price')\n",
    "ylabel('Option Value')\n",
    "title('Premium (green) - Payoff (red) for ' + payout)"
   ]
  },
  {
   "cell_type": "code",
   "execution_count": 19,
   "metadata": {},
   "outputs": [
    {
     "name": "stdout",
     "output_type": "stream",
     "text": [
      "Option price (analytic)               :  10.214\n",
      "Option price (binomial tree european) :  10.215\n",
      "Option price (binomial tree american) :  11.493\n",
      "Option price (explicit finite diff)   :  11.483\n"
     ]
    }
   ],
   "source": [
    "import scipy.interpolate\n",
    "\n",
    "v = u[:,N]\n",
    "f = scipy.interpolate.interp1d(S,v)\n",
    "\n",
    "opt_european   = BlackScholes('P', S0, K, r, 0, sigma, T)\n",
    "opt_binomial_e = binomial_model_european(N, S0, sigma, r, K, T)[1][0][0] \n",
    "opt_binomial_a = binomial_model_american(N, S0, sigma, r, K, T)[1][0][0]\n",
    "opt_explicit   = f(S0).item(0)\n",
    "\n",
    "print('Option price (analytic)               : ', round(opt_european,3))\n",
    "print('Option price (binomial tree european) : ', round(opt_binomial_e,3))\n",
    "print('Option price (binomial tree american) : ', round(opt_binomial_a,3))\n",
    "print('Option price (explicit finite diff)   : ', round(opt_explicit,3))"
   ]
  },
  {
   "cell_type": "markdown",
   "metadata": {},
   "source": [
    "### The log Black-Scholes Equation ###\n",
    "\n",
    "Starting from the Black-Scholes PDE... \n",
    "\n",
    "\\begin{equation}\n",
    "\\frac{\\partial}{\\partial t} U(S,t) +   \\frac{1}{2}\\sigma^2 S^2 \\cdot \\frac{\\partial^2}{\\partial S^2} U(S,t) + rS  \\cdot  \\frac{\\partial}{\\partial S} U(S,t)  -r  \\cdot  U(S,t)   = 0   \n",
    "\\end{equation}\n",
    "\n",
    "Let's say $Z = \\ln S$, we have \n",
    "\n",
    "\\begin{align}\n",
    "&\\frac{\\partial U}{\\partial S} = \\frac{\\partial U}{\\partial Z}\\frac{\\partial Z}{\\partial S} = \\frac{1}{S} \\frac{\\partial U}{\\partial Z} \\notag\\\\\n",
    "&\\frac{\\partial^2 U}{\\partial S^2} = \\frac{\\partial}{\\partial S} \\left( \\frac{1}{S} \\frac{\\partial U}{\\partial Z} \\right) = \\frac{1}{S^2} \\left( \\frac{\\partial^2 U}{\\partial Z^2} - \\frac{\\partial U}{\\partial Z} \\right)\n",
    "\\end{align}\n",
    "\n",
    "and we can write the $log$ BS PDE as\n",
    "\n",
    "\\begin{equation}\n",
    "\\frac{\\partial}{\\partial t} U(Z,t)  \n",
    "+ \\frac{1}{2}\\sigma^2 \\cdot \\frac{\\partial^2}{\\partial Z^2} U(Z,t)\n",
    "+ \\left( r  - \\frac{1}{2}\\sigma^2 \\right)\\frac{\\partial}{\\partial Z} U(Z,t) \n",
    "-r  \\cdot  U(Z,t)   = 0   \n",
    "\\end{equation}\n",
    "\n",
    "a comparison with the general form give us:\n",
    "\n",
    "\\begin{align}\n",
    "& a = \\frac{1}{2} \\sigma^2 \\notag\\\\\n",
    "& b = \\left( r - \\frac{1}{2} \\sigma^2 \\right) \\notag\\\\\n",
    "& c = -r \\notag\n",
    "\\end{align}\n",
    "\n",
    "The change of variable approach has the property that the various coefficient are now independent of $i$ and it can be shown that it is numerically most stable and efficient.\n"
   ]
  },
  {
   "cell_type": "markdown",
   "metadata": {},
   "source": [
    "\n",
    ">**Exercise** \n",
    ">\n",
    ">Implement the explicit method to solve the $log$ Black and Scholes equation."
   ]
  },
  {
   "cell_type": "markdown",
   "metadata": {},
   "source": [
    "### Connection with Tree ###\n",
    "\n",
    "Now the discrete version with a small change in the last term (can you see it?) \n",
    "\n",
    "\\begin{equation}\n",
    "\\frac{U_{i,k+1}-U_{i,k}}{\\Delta t} = a \\frac{U_{i+1,k}- 2 U_{i,k}+U_{i-1,k}}{\\Delta S^2} + b  \\frac{U_{i+1,k}-U_{i-1,k}}{2\\Delta S} +\n",
    "c U_{i,k+1}\n",
    "\\end{equation}\n",
    "\n",
    "we can write\n",
    "\n",
    "\\begin{align} \n",
    "U_{i,k+1} \\left( 1- c \\Delta t\\right)\n",
    "&= U_{i+1,k} \\left[ {a\\Delta t \\over \\Delta S^2} + {b\\Delta t \\over 2\\Delta S} \\right] \\notag\\\\\n",
    "&+ U_{i,k} \\left[1 - 2 {a\\Delta t \\over \\Delta S^2}   \\right] \\notag\\\\\n",
    "&+ U_{i-1,k} \\left[{a\\Delta t \\over \\Delta S^2} - {b\\Delta t \\over 2\\Delta S} \\right]\n",
    "\\end{align}\n",
    "\n",
    "to arrive to the following form\n",
    " \n",
    "\\begin{equation}\n",
    "U_{i,k+1} =   A  U_{i+1,k}    +  B  U_{i,k}   + C    U_{i-1,k} \n",
    "\\end{equation}\n",
    "\n",
    "with\n",
    " \n",
    "\\begin{align} \n",
    "& A = \\frac{1}{1-c\\Delta t}\\left[\\frac{\\Delta t}{\\Delta S^2} a + \\frac{\\Delta t}{2\\Delta S} b \\right] \\notag\\\\\n",
    "& B = \\frac{1}{1-c\\Delta t}\\left[1 - \\frac{2\\Delta t}{\\Delta S^2} a\\right] \\notag\\\\\n",
    "& C = \\frac{1}{1-c\\Delta t}\\left[\\frac{\\Delta t}{\\Delta S^2} a - \\frac{\\Delta t}{2\\Delta S} b\\right]  \\notag\n",
    "\\end{align}\n",
    "\n",
    "substitution for $a, b, c$ values give us (remember that due to the discretization process we have also $S = i \\Delta S$ and $\\Delta t = k$)\n",
    "\n",
    "\\begin{align} \n",
    "& A = \\frac{1}{1+r\\Delta t}\n",
    "\\left[\\frac{\\Delta t}{2\\Delta S^2} \\sigma^2 S^2 + \\frac{\\Delta t}{2\\Delta S} rS \\right] =\n",
    "\\frac{1}{1+r\\Delta t}\n",
    "\\left[\\frac{1}{2} \\sigma^2 i^2 \\Delta t + \\frac{1}{2} r i \\Delta t \\right] = \n",
    "\\frac{1}{1+r\\Delta t}\n",
    "A^\\star\n",
    "\\notag\\\\\n",
    "& B = \\frac{1}{1+r\\Delta t}\n",
    "\\left[1 - \\frac{\\Delta t}{\\Delta S^2} \\sigma^2 S^2\\right] =\n",
    "\\frac{1}{1+r\\Delta t}\n",
    "\\left[1 -  \\sigma^2 i^2 \\Delta t\\right] =\n",
    "\\frac{1}{1+r\\Delta t}\n",
    "B^\\star\n",
    "\\notag\\\\\n",
    "& C = \\frac{1}{1+r\\Delta t}\n",
    "\\left[\\frac{\\Delta t}{2\\Delta S^2} \\sigma^2 S^2 - \\frac{\\Delta t}{2\\Delta S} rS\\right]  =\n",
    "\\frac{1}{1+r\\Delta t}\n",
    "\\left[\\frac{1}{2} \\sigma^2 i^2 \\Delta t - \\frac{1}{2} r i \\Delta t \\right] =\n",
    "\\frac{1}{1+r\\Delta t}\n",
    "C^\\star\n",
    "\\notag\n",
    "\\end{align}\n",
    "\n",
    "Now the relation with a trinomial tree is completely evident. Note that \n",
    "\n",
    "$$A^\\star + B^\\star + C^\\star = 1$$\n"
   ]
  },
  {
   "cell_type": "markdown",
   "metadata": {},
   "source": [
    "**Figure 1.2**"
   ]
  },
  {
   "cell_type": "markdown",
   "metadata": {
    "id": "_5fF2Y-2nupB"
   },
   "source": [
    "![fig_1_2.png](data:image/png;base64,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)"
   ]
  },
  {
   "cell_type": "markdown",
   "metadata": {},
   "source": [
    "Infact we can interpret terms as follows\n",
    "\n",
    "- $\\frac{1}{2} \\sigma^2 i^2 \\Delta t + \\frac{1}{2} r i \\Delta t$ : probability of stock price increasing from $i\\Delta S$ to $(i+1)\\Delta S$ in time $\\Delta t$;\n",
    "\n",
    "- $1 -  \\sigma^2 i^2 \\Delta t$ : probability of stock price remaining unchanged at $i\\Delta S$ in time $\\Delta t$;  \n",
    "\n",
    "- $\\frac{1}{2} \\sigma^2 i^2 \\Delta t - \\frac{1}{2} r i \\Delta t$ : probability of stock price decreasing from $i\\Delta S$ to $(i+1)\\Delta S$ in time $\\Delta t$;\n",
    "\n",
    "and the value at time $k+1$ is simply the discounted value of the expectation a time $k$.\n",
    "\n",
    "\\begin{equation}\n",
    "U_{i,k+1} =  \\frac{1}{1+r\\Delta t}\n",
    "\\left(\n",
    "A^\\star  U_{i+1,k}    +  B^\\star  U_{i,k}   + C^\\star    U_{i-1,k} \n",
    "\\right)\n",
    "\\end{equation}"
   ]
  },
  {
   "cell_type": "markdown",
   "metadata": {},
   "source": [
    "### Convergence of the Explicit Method ###\n",
    "\n",
    "Although the explicit method is simple to implement it does not always converge. Convergence of the method depends on the size of the time step, the size of the asset step and the size of coefficients $a$, $b$ and $c$. Tipically there is a severe limitation on the size of the time step\n",
    "\n",
    "$$\n",
    "\\Delta t \\le \\frac{\\Delta S^2}{2a}\n",
    "$$\n",
    "\n",
    "if we want to improve accuracy by halving the asset step, for example, we must reduce the timestep by a factor of four. The computation time then goes up by a factor of eight. If the time step constraint is not satisfied, if it is too large, then the instability is obvious from the results. It is unlikely that you will get a false but believable result if you use the explicit method.\n",
    "\n",
    "This can be understood very well by the analogy with the trinomial tree. Infact since all terms can be interpreted as probability, we must impose\n",
    "\n",
    "$$ 1- \\sigma^2 i^2 \\Delta t \\ge 0 \\Rightarrow \\sigma^2 i^2 \\Delta t \\le 1$$\n",
    "\n",
    "from this taking into account that $S = i \\Delta S$, \n",
    "\n",
    "$$ \\Delta t \\le \\frac{1}{\\sigma^2 S^2} \\Delta S^2$$\n",
    "\n",
    "And from the third probability \n",
    "\n",
    "$$ \\frac{1}{2} \\sigma^2 i^2 \\Delta t - \\frac{1}{2} r i \\Delta t \\ge 0 $$\n",
    "\n",
    "we can easily find a constraint on the step size of $S$\n",
    "\n",
    "$$ \\Delta S \\le \\frac{\\sigma^2 S}{r} $$\n",
    "\n",
    "So, without any control we can have some \"strange\" results. Let's see what happens, we change the number of steps in time keeping constant the step in space (stock price). There are in generale regions in which the solution given by the explicit method is clearly unstable."
   ]
  },
  {
   "cell_type": "code",
   "execution_count": 43,
   "metadata": {},
   "outputs": [
    {
     "name": "stdout",
     "output_type": "stream",
     "text": [
      "iter nr : 999"
     ]
    }
   ],
   "source": [
    "exact  = finite_difference_explicit('put', S0, K, sigma, T, True)\n",
    "prices = []\n",
    "nn     = range(1, 1000)\n",
    "for k in nn:\n",
    "    sys.stdout.write(\"\\r\" + 'iter nr : ' + str(k))\n",
    "    sys.stdout.flush()\n",
    "    prices.append(finite_difference_explicit('put', S0, K, sigma, T, True, k, 50))"
   ]
  },
  {
   "cell_type": "code",
   "execution_count": 44,
   "metadata": {},
   "outputs": [
    {
     "data": {
      "image/png": "[encoded data removed]",
      "text/plain": [
       "<Figure size 720x360 with 1 Axes>"
      ]
     },
     "metadata": {
      "needs_background": "light"
     },
     "output_type": "display_data"
    }
   ],
   "source": [
    "%matplotlib inline\n",
    "\n",
    "ref = np.array([exact for n in nn])\n",
    "\n",
    "fig = plt.figure(figsize=[10, 5])\n",
    "plt.plot(nn, prices, color = 'r')\n",
    "plt.plot(nn, ref,'b--',color = 'g')\n",
    "#pl.ylim(0,10000)\n",
    "plt.xlim(0,100)\n",
    "plt.grid()\n",
    "plt.show()"
   ]
  },
  {
   "cell_type": "markdown",
   "metadata": {},
   "source": [
    "\n",
    ">**Exercise** \n",
    ">\n",
    ">Implement the explicit method taking into considerations stability constraints."
   ]
  },
  {
   "cell_type": "markdown",
   "metadata": {},
   "source": [
    "### Conclusion ###\n",
    "\n",
    "The advantages of the explicit method are the following:\n",
    "\n",
    "- it is very easy to program and hard to make mistakes;\n",
    "- when it does go unstable it is usually obviuos;\n",
    "- it is easy to incorporate early exercise feature;\n",
    "\n",
    "on the other hand there is a serious disadvantage due to the restrictions on the timestep so the method can be slower than other schemes. \n"
   ]
  },
  {
   "cell_type": "markdown",
   "metadata": {},
   "source": [
    "## Implicit Methods ##\n"
   ]
  },
  {
   "cell_type": "markdown",
   "metadata": {},
   "source": [
    "### The Fully Implicit Method ###\n",
    "\n",
    "The **fully implicit method** uses the points as shown in Figure (...) to calculate the option value. The scheme is superficially just like the explicit scheme but now the delta and gamma (first and second derivative with respect to $S$) are calculated at time step $k+1$ instead of $k$\n",
    "\n",
    "\\begin{equation}\n",
    "\\frac{U_{i,k} - U_{i,k+1}}{\\Delta t} + \n",
    "a_i \\left( \\frac{U_{i+1,k+1}- 2 U_{i,k+1}+U_{i-1,k+1}}{\\Delta S^2} \\right) + \n",
    "b_i \\left( \\frac{U_{i+1,k+1}-U_{i-1,k+1}}{2\\Delta S} \\right) +\n",
    "c_i U_{i,k+1} = 0\n",
    "\\end{equation}\n",
    "\n",
    "this can be written as \n",
    "\n",
    "\\begin{equation}\n",
    "U_{i,k} =   A_i  U_{i+1,k+1}    +  B_i  U_{i,k+1}   + C_i    U_{i-1,k+1} \n",
    "\\end{equation}\n",
    " \n",
    "with\n",
    " \n",
    "\\begin{align} \n",
    "& A_i = -\\nu_1 a_i + \\frac{1}{2}\\nu_2 b_i \\\\\n",
    "& B_i = 1 + 2 \\nu_1 a_i - \\Delta t \\> c_i \\\\\n",
    "& C_i = -\\nu_1 a_i - \\frac{1}{2}\\nu_2 b_i\n",
    "\\end{align}\n",
    "\n",
    "where as above\n",
    "\n",
    "$$ \\nu_1 = \\frac{\\Delta t}{\\Delta S^2}, \\quad \\quad \\nu_2 = \\frac{\\Delta t}{\\Delta S}$$\n"
   ]
  },
  {
   "cell_type": "markdown",
   "metadata": {},
   "source": [
    "**Figure 1.3**"
   ]
  },
  {
   "cell_type": "markdown",
   "metadata": {
    "id": "0Ch0KT7znzt2"
   },
   "source": [
    "![fig_1_3.png](data:image/png;base64,iVBORw0KGgoAAAANSUhEUgAAAnkAAAFLCAYAAACqU5qaAAAAAXNSR0IArs4c6QAAAARnQU1BAACxjwv8YQUAAAAJcEhZcwAADsMAAA7DAcdvqGQAAClLSURBVHhe7d29ixtp2u9x/RuKlTprNplIkZIOvImTDSpoFhw4WHjAgg4GJlizQYFg2IGHNQh6BhYGTIFhGM64OaLhwTD0oc56wAxC7LIYrxDMMR7TiF1jGnGduu66b6mqVHprvZVK3w8Iu0ulUr2ou366XysCAACA0iHkAQAAlBAhDwAAoIQIeQAAACVEyAMAACghQh4AAEAJEfIAAABKiJAHAABQQoQ8AACAEiLkAQAAlBAhDwAAoIQIeQAAACVEyAMAACghQh4AAEAJEfIAAABKiJAHAABQQoQ8AACAEiLkAQAAlBAhDwAAoIQIeQAAACVEyAMAACghQh4AAEAJEfIAAABKiJAHAABQQoQ8AACAEiLkAQAAlBAhDwAAoIQIeQAAACVEyAMAACghQh4AAEAJEfIAAABKiJAHAABQQoQ8AACAEiLkAQAAlBAhDwAAoIQIeQAAACVEyAMAACghQh4AAEAJEfIAAABKiJBXaCMZ9n4Q37snlco98dqvZWifAQAAmIeQV1hRwOteiFc7k3b3g9x0zqV2Fkh/ZJ8GAACYg5BXVMNr8esncha8ieIeAADAagh5hfRJ+sEjqVbPpXNDxAMAAKsj5BWOraatVqXR7lKKBwAA7oSQVyCjXlsalYpUEo9qsyM39nkAAIBlEfIKZ2Q6WVBVCwAA1kHIK5x30mmeUIIHAADWQsgrmpuONGmPBwAA1kTIKxRbVVt5IO3eR7sMAABgdYS8QvkovfYDqTTa0tt2Md5oIGHgi3fPl/DWLgMAAKVByCuSUVfajVp+Ve1tKH6tLn64YGIzs15NvOCtXZDHlRhWpFIj5AEAUEaEvAKJh1DZRlXtrQyCz6cC4m3oS42QBwBAKRHyCmN2Va0JY1rqtqAaN14vr9MGIQ8AgGNDyCsKU1X7mTQ77+yCpHhYlZofRnFtHl3vNGcbhDwAAI4NIa8gRv1Azk5nlNSZYVVOZgTABNMe76EEgzi1jUsApx7xOoQ8AADKi5C3R6HvmeA2GryU1llTgv4n+0xa3FZvEt5mMevlhjZK8gAAODaEvD3qB49MD9eq15LL3qz5LVxbvT/J8+4vcwZItj1mvUAGdskEIQ8AgGNDyCu8oYR+Xar1h/I0/BAvGgTiVapS96+jZx1drzFjpozpkJeqyiXoAQBQOoS8QzXqykXrajK/7dyOGwAA4NgQ8g7RsCeXra/kubbh004Zp08lvG5Jvd6ScDhnjBUAAHA0CHmHzvS8rUilfi7BzHZ9AADg2BDyAAAASoiQBwAAUEKEPKztz3/+s3kAAIDiIORhbf/5z3/k97//vXno/wEAwP4R8rARGu60NI+gBwBAMRDysFEu6P3rX/+ySwAAwD4Q8rBxGvR+85vfEPQAANgjQh624uXLlwQ9AAD2iJCHrdGgp3Pj6r8AAGC3CHnYqlevXpkSPYIeAAC7RcjD1mmVrQa9IAjsEgAAsG2EPOyEC3oMmgwAwG4Q8rAzbtBkgh4AANtHyMNOMTsGAAC7QcjDzmm4e/LkCUEPAIAtIuRhb5gdAwCA7SHkYa+YHQMAgO0g5GHvmB0DAIDNI+ShEJgdAwCAzSLkoTCYHQMAgM0h5KFQmB0DAIDNIOShcJgdAwCA9RHyUEjMjgEAwHoIeSgsZscAAODuCHkoNGbHAADgbgh5OAjMjgEAwGoIeTgYzI4BAMDyCHk4KMyOAQDAcgh5ODjMjgEAwGKEPBwkZscAAGA+Qh4OFrNjAAAwGyEPB43ZMQAAyEfIw8FjdgwAAKYR8lAKLug9fvyYQZMBAIgQ8lAazI4BAMAEIQ+l42bHeP/+vV0CAMDxIeShlJgdAwBw7Ah5KC1mxwAAHDNCHkrNBT0GTQYAHBtCHkqP2TEAAMeIkIej4AZNfvHihV0CAEC5EfJwNJgdAwBwTAh5OCrMjgEAOBaEPBwdZscAABwDQh6OErNjAADKjpCHo8bsGACAsiLk4egxOwYAoIwIeUCE2TEAAGVDyAMsZscAAJQJIQ9IYHYMAEBZEPKADGbHAACUASEPyMHsGACAQ0fIA2bQYVWYHQMAcKgIecAczI4BADhUhDxgAQ13GvKYHQMAcEgIecCSmB0DAHBICHnACpgdAwBwKAh5wIp0aBWCHgCg6Ah5wB0wOwYAoOgIecAdEfQAAEVGyAPWwOwYAICiIuQBa2J2DABAERHygA1gdgwAQNEQ8oANYXYMAECREPKADWJ2DABAURDygC1gdgwAwL4R8oAtYXYMAMA+EfKALWJ2DADAvhDygC1j0GQAwD4Q8oAdIOgBAHaNkAfsCLNjAAB2iZAH7BCzYwAAdoWQB+wYs2MAAHaBkAfsAbNjAAC2jZAH7AmzYwAAtomQB+wZs2MAALaBkAcUALNjAAA2jZAHFASzYwAANomQBxSIGzT51atXdgkAAHdDyAMKhtkxAACbQMgDCsgNmkzQAwDcFSEPKChmxwAArIOQBxQYs2MAAO6KkAcUnJsd48mTJwyaDABYGiEPOADMjgEAWBUhDzggbnYMgh4AYBFCHnBgmB0DALAMQh5wgJgdAwCwCCEPOFDMjgEAmIeQBxwwZscAAMxCyAMOHLNjAADyEPKAEmB2DABAFiEPKAlmxwAAJBHygBJhdgwAgEPIA0qG2TEAAIqQB5QUs2MAwHEj5AElxuwYAHC8CHlAyQVBQNADgCNEyAOOALNjAMDxIeQV2bAnl74n1UpFqt6FdIcj+wSwOg16leiztJ9Bk2+kd9kSr1qRSvVM2t0buxwAsC2EvKIavpa2Vxev/VqGNx1p1h5J0P9knwTuZj+zY9xIt30mNfNF5RfpNBtyFrwRvrIAwHYR8grpg4T+qVTPAulzJ8SG7XZ2jJEMw5bUq3xJAYBdI+QV0KgfyFn1RJqdd3YJsFka9HYyO8bojQRn96Ta7AgVtACwW4S8ojHVtPek0mhLj1I8bNH2Z8eIq2mrlQfS7n20ywAAu0LIK4pRV9qNqmkYP35Uz6VzQ9LD9rigt9lBkz9Kr/0g/VmuUDINALtGyCsa7WRBVS12bDuzY7yTTvOEqloA2BNCXqGMoox3LlVK8LAHGvROTk7k73//u12yJr6wAMBeEfIKJS752Ed7vHTVGo9jf6zPfmGhPR4A7A0hr0hMyUdVGu0uY4hhp3q9nhlW5cWLF3bJuvb3hQXTRoNQnrebUl94PYo6fNMd9ms0kPD5U2nWf8cXjUK4kV4nkHbzlHvcDhHyCmTUa0uDkg/s2FZmwjAdiWpr/THXYBL4ntzzQ7m1y7ZGA0HgxzNyaGlm1RP/2fcSDhaM7Rd9Mfu8FdofCirZqSsb8m5+lOAqWZ1elpCX7PyzxN/UqfOAzXIl+3o9KMjYJUJeYdg/SrnftIfRH7i61Bbd7G5D8Ws18YK3dgEwXxAEpgRPx83bpHlfWG5DX2o1X8K5H2ZbEhjdFBZ+7tU6n/1RXzrnDRsIso+q1Jtt6fTyuo58kn5wLueH0ObQBb3U35cD2v87cUFvUcgr+3kojvjvAiFvlwh5RbGBkg9gFdrR4v79+xsPePO/sMwwCOThVJhb8svNWuIShpr3lVy7UrthTzqBVvMlhzTSsPdUnocD+/v5SQbXX4nXaEl4EHNKZ6vPRzLsXohX6o4xy7QLPYbzUByEvN0j5BXEzJIPU0KhN5n530ZN6Qi/PFiCDpPy+PHjLQyZYs38whKHttzqmjVC3nqf/Sj8nP9pRm92bUPUzoS95ONU/PCDXXcdUdDoXUng2szd9OTS9+Kqrfq5BFqKGAXP8bKqJ63rKGwmq2Fdj/zkstTfjGTIc8FG13GPOORMt92L9+2Zvne0rNu/lotmXOpZTQZjQ9f9QXwdzN1ssyHNdkd64xCcbJP1s9yM19UAHUTr3aZen9x+fpvCKGiH3ySuzz3x/B8S77co5M06D/9I7OdP0u98IfVo2+P5lrVq/yLaF7O+7vs3mWr9zH7Vm3Ix/nKQZ/5xmGN/5otXi65x/2cJ7PkffzbilSR8/tfo3EXnXPc/OLf7F/0cdKPfJJU8/znHpc9ftibnI9rvdqdnXxsbDSbXXx9VryWXqVJuPZZg8hnQZg+Xk21MQp5e/8Aec3S8rZcymH2CsAZCXiHEJR/544nZP1RLVW+d8m0Uc71//96EOy3F20rAi5g/5LOGATKdi+pROEreOiJrleSt8dmP9uf8fNE4fu7m6G5u86pw78Cck8SN9XlobnijwaWcRzfBqvdHedr+Pr7p22nixiVy7ufk+XbLZoa8eEl8w02UYCX3w62X2reH4l/8GO+bmXoxGayjwGTmKD6TdlfPyyRAxe3o0m2yJqWiUSiwYcP7039Hxx4HktT28/ZrvI4L2vb9TYCY7NPikrxordR5yOzn2ZfSefvP6IvAqdT9axmaqv2H4+A0GryUVmqGIj2eP4pnQqueqIFctzScz96HuceRCvJRYAriz8Z4ZiQzJ3T0+Ry3P9SAGNjQ6Wac0SD3T/l13nG5No/ehXRNuEy+1oVb/Vyd2PUjw2vxNaSNj93ue/0L6Zj3d9Xlky9DLuTVz/4kF/pFJTpf/eDR3POD9RDyisD88kR/HHM/5PEf54UDypoSv4cSDObfDnG8tFpW299td75a/aP9BznNLVWzN1AXSMal1NmHa1u3SlvUA//su5t5IsSMg1kqMGfbmS2zjloi5Km8/Vhmmfk5W3rrAtPkPdxNPrWeDXGpv3G520/vg9lW8rintnOXkBfL3c+ILj9N/S3OHKPu5+nniWsRyTu+hMXHkXeNo9elgvb0uTYyXwrmHdd0TVLmfc01+Cyx/czzJvQln49eYkKwli7Gy/Lef9Y+YTMIeXui33ga+ktsvuk9kofjIvMM84sVfTtb0KDc/KIsLO3DsXr16pUJeBvtQevoH/eG3tg+mnZqZw9n9YC04cMLZGCXjK1RkreRz/6+e9fmhJjlAtwy6yi7XjYkbSjk5W5LZQJL7g09LwRl3zP3/Dha0vrtpJp3vJ1Nhzx3XpNfSNwjXvfWvC7v+eiRu+9Js44j7xpHUudkRsjLfBbmHld2++Pzl93maFKFr8dlXxdve5lznX7//H3CphDy9iT+Fqa/IOk2C1nxL8BvxX/+ek6bBfvLmHfzxNHTYLe1gKfG1YPptkRTzE2pJg3/O+lmw9OdQ94GPvtF6F2bG2IOJeTNCgORzGtzb+h3DnmuLdtJXEXZ/T6zHbdfmwp58TlM7WeKfb+psLTIouPYdsibsf1Idn3XJq/q+RKEP8nl+HW3K5zr9Pvn7xM2hZBXcKZRebUu3tPQBsG3Eng1qdSTvfr0ZtjglwRTtGp2G0Ok3Ikd5qTuPZ3ukToV8uKA58KWCXrROl50Mxi3CTLW/ezHN8e9967NDTHLBLhl1lF2vcT245vrJkKe21bOjdqu5wJL7np3Cnmu7Vqi88vUdjYd8ux5Tf3tTYtft0qHnGWOY37Ii9dbEPLsa+ceV855Sp0bUx0b/f6Of//S+5W/7bS8dZZ5He6OkHeQol/Ki6eTX3jzy55uC4Hjpp0qNOBpJwvtbFEa0Wf9onWVCQPrfPajG9Xee9dGpkKMWibALbOOsusltp+6gTt5+7HMstz9j5jAMt3wPnVDv1PIyznurYc8tzx6j2yv0mEoF0Fv0lFiqobmg4QX36XPjbHMceRd44hZz+33rJAXv9Zta/5xZZfbbZpQ60rqktvP7Jfd73SPXvVB/tb5aeb7z9onbAYh7+BEN57L/5bW8zdxr7PTpxJea4+mQxmvC9umAU/D3daGSNkXHUak9ZU873+Kbyib+OxH29l771rleiomj8VVg5selK56295YxwHT3dwbct7pRz9p1d93iX21N2W3/eS2zE3Z3lyHr6UTRl8GxutNh45UgJva30mv0Pr5Zdy0xFSDn05+Tq6TKI11TVdSs1m493Tbn9ovF2TteUgMa1JtXkr/b/8j4c170R6j2oxgMkxIjqnz8P/sOc0JHuOmCXpuE4/xeXW9RTPPz9yHZY7jF3vN74nXfh2fN9vEYHLO3OdAA6jrIas9fb+Q+njf3Dp5gSruXasBLf4c6a5o7+7Tyc82jMXXzlUx22vS/yk6b4MZx579rCavf/5nAptDyDtk4z+EifGScNS0WtYNkVJqJfrsxzfP5E3xgbSvv4uPL7ms+7e4lGi8zAW47njstLiE6ZcoOPzOVC8HOs6ZO1fJbZmSrckwGWacsl+n1/tL8GV63/SG/vYyvd44eCVu/GZ5YsiPcZhJvK7xVK4v42AyWdaWbjd7PrIPu/9uGBENCGasuij4aBgyn4l/2GDkXjOvpCh5Hi7lf/8lvZ+pEkaVCGLm+dyx4jLnYU676/nHodt1JWZ/kPazz+37Ztu/ugB1Iv/VvjBD76T3bfr8Lz4ubXeXHN/PnafoeTP2X18+mPfMjMWXO9Ze3vtfylsbTCfLFn3hwqoIeUBJuCFSdKoyAGUxo7o2ZRLy0tW1OHaEPKAEtOesfhPeWg9aAHtCyMPdEfKAA/fixQtTgtfr9ewSAKWR2zYzy7UFXND+EEeHkAccsEINkQJgs2a2p0xynXHcOvPaH+LYEPKAA6S9Zh8/fly+HrQAgI0h5AEHxg2R8uTJEwIeAGAmQh5wQFwP2tIPkQIAWBshDzgQ2rFCA552tAAAYBFCHnAAdGgUDXgMkQIAWBYhDyi4r7/+mh60AICVEfKAAtO2d9rJgoAHAFgVIQ8oINeDliFSAAB3RcgDCkZL7TTcaSkeAQ8AcFeEPKBA3BAp2g4PAIB1EPKAgqAHLQBgkwh5QAG4gPfq1Su7BMfrkwzCb+Tc/1/SDb+TdrMh1WZHbuyzx2o0CCXwPama+Vkbct7pb2l+1hvpdYLovJ8eyBywIxn2riRoN6XeaEvvECatHfakEzyVZv13OXPxYpMIecCeads7hkhB7Ea67YfSaAZRwPuLNOyk88cd8qIQ070Qr3pPvNZLGYziCfm3c05GctM5t0HyQCb6v+lIsxp/TiqFDXnv5Cr40V6v+PqZ/a08IORtGSEP2BPtVKHzz2oni/fv39ulOF6fpB/8QRrnl1GQsYvsDfyoQ97wWvx6dafnYNRrRwH7QEKeGnWl3agWNuSN+oE8PE9ev4/Saz8g5O0AIQ/YAzdEyuPHj+lBC0NvhGe1c+ncJO7Sxx7yRn3pnDd2HgYIeRs0fC1t717mM0zI2xVCHrBjWi17//59U00LxD5I6J9Oh7lxyPteuuE30qxHN/IofNSbgfSGybt53I4vfr4ilXpTLsJBKqCk27TdE8//YbKN0UDCi6bUzXPRo+qJf9mT4fhmrMtPpNl5F62cXJYMQtE+XH8lnlYd1s8l6P1DOq1vE6Fj8T4m3Ya+1Nz+mMcWA8GwJ5fu3NS/kMvOV9MhL3WO9Bp8I+HgU/SEHtf38ix6fa15Kf1ecMfrpG0BvxXfO4ne9yfpj9dz1dRmJSta97IVn2ttn3j5gzxNhbxF1yJPcpvxvrU7+hmwtB3dMz96ProO3X9OzkX0WWldz7iONuBNrqH7wpIMeb9ILzifua3R4Foumhr09fUNaV5cZ84F5iHkATvkhkgJgsAuASImzLkQleDaW5kbtcY/1z4tulmeBdJ3N/TOH8VzgSIKI9ctDSyJUGSqPE/HnRVcSVXdv45u4lpN/Eiq9ZaEJpDEgXMSquzz45Cn3LJJENJtnnoX0jXb0H36ItERYIl9zHMbil/bcknm6I0EZydSd9XkUTC5aP5WPkuGPFOi+FCaQdeEntHgpbQ0vETH1+3qubQBxvMlMKFt1ev07+hST9oC1s/+JBcm7LjznDxP7np9IR0TMm+kGwWuxmeTkDf/WuSxXzLGr9G2oWfR+96Ts+BNtB/JdnR1OfP/Ktf63ubcxedh5rZtKWN+Sd78bY0Gl3LufW4/+9FxmOB6QCWsBUDIA3ZEe9DqH0mGSEFWHLpyAk9udW3mxq830dPP51Tz5pQS2oBRM8viG+7kedf5wIW67M+xdJVmvE5tHGhUFAxc6dHCfcyXfo9tsOcyE1Ky72tCU2o/M+dkI9cp/3in9kWr9bU0LflZSVXXLrgWOeL3yH7+bLCruiYEydI3t17esoy5IW/etvTnKFinvvhk9wmLEPKAHdCSO3rQIp8LDDk3yhlBKHnjvzX/j0uSph5607/Vm2xtuaA0rpLT168S8tzP0b56vjxLVvNF3HMz9zF3x25lEDyM1qmLHya3tkG5ASR7bC585Oy7W2cT1yk6B9lzmt3GeF+yIScV8txr8q/FtBnbnLru2RCm8pZl3DXkuWPKnivzmPN+SCHkAVumbe+0DR4BD/nm3CgXhoef5Ve9Ec8r2TDbSAeHKa69mbbFC66le5m8uS8X8ibVafZGnKhiNq9fufRlB6U2S4QzV1WZXSdlE9cpMn1O8/dlUcibfS3yzD7P6ffeccgz5zT9mcPqCHnAlmivWe09q71o6UGL2e5akhffAOP/n4offrDPZkwFgCzbBm/cJi8b6pYNeZYGxsCWBlYfSdD/tHgf8yzc7w1YKuTZ8DE+Pzk2cZ0ieec0vWzZkGflXItps4Nacv+XCmZ57hryzOtqtt0o7oqQB2yBjnun4U7HwSPgYZH4Zppzo8wND67hvQ0d7gY/7hHrROHt4rvopm+DQRQU0r09RzL82/9I+PYy8x53CXnROlffyvNkiEiWxCzcR/tj0iAQLxN4Ym8l8E7EC97an/Mss47KD03ZsBX/HJ0jryWXyRKxYSgXQW9Gda09b27bS5yD7PuqqfOccy3G2zYhb8G1yJH3vtHS+L3G4XbHIW/8c6YneLRfw/CZBLPeDymEPGDDXA9ahkjB0mbdhN3NO9u7tnYm7a67ZboG/rZqbvxwPSOjV5nG+tnnbe/a8XvEN/PJkBW6Pz35W+cnuTH7F61ve6DqcCzPdRotu61q81LeRoGg5n0V95Qc76crPVq8j2kzwswWuHNTdfs+6stV60w+s/towonr+Zna9+jhSsdsyKtUJ9fF9AytnySOb9E5cMecDFsaaFrReXY9oXWR3ZfxcCOfZHD1pXjau9bs02N59uzxnGuRx5bmJqaLi/d/0iN7HIhTwcy9bl4JpX2dCaAf4s/TeFvJ101vK/9zG12TVKcSzEPIAzZI557VgEcPWqwmvsGlSzss7QwxDlRaGteWzlT7quhGnxx/baq0KLrR934QfzxmWUOa7Y4tHbEhwNxM7ThkH2yoG5f83aTGMtNt32jpj46lFlxF69zKzdV3ctX/WQI3ptlUO7BF+5g0jM5HPVonUy1pSvf0tdPtx8bcOktX8+q5cWPbxWHvRx0nT/fvmR6b3Yhrt6jbNuslSvVcSd5/PZVnZvDmWcc36xy4Uqt422b7NjgnQ+H48zHsTs5ztI3Wj5fytHEinv9t9Nn4dYlrkWPq+NxwMPqc/SJgn4u/APxsg1pyWV4gn3y+TJDu/7TSttLj5GVL9bAIIQ/YEA12BDzcVe6MF8fKhIq8HsE2DHmBDOySafE6uYF5W1zI2+V7Aksg5AEb8PXXXzNECtak1XmZuWuPlGkjlldaNzP8JWl7vPrWq3lTCHkoKEIesAbtVKFt77SThXa2ANajMw08lEaqg8QxmFRXfzCzSTxItAWbiDsIzGnkr0zgWrDOho3b9dFWDAVDyAPuSAOehjuGSMFmxe22zv2rIyoVSnRKmDmnre2YUK3L2bNe/Lxpf5fuvGHmvN3msCsprrOEa0sWPXb23sBihDzgDrRaVsMdPWiBPbu5ktbF/5X/43vih++k1/4dY6sBFiEPWJEbIkXb4QHYH9Pz0v9GwuG/Z4ypBhw3Qh6wAu05q1Uy9KAFABQdIQ9Y0osXL0wJXq/Xs0sAACguQh6wBG17xxApAIBDQsgD5tBeszr/LD1oAQCHhpAHzOCGSNGQR8ADABwaQh6Qw/WgZYgUAMChIuQBGdqxQgOedrQAAOBQEfKABIZIAQCUBSEPsHRwY3rQAgDKgpAHRLTtnXayIOABAMqCkIej5nrQMkQKAKBsCHk4Wu/fvzfhTkvxCHgog9EglOftptQbbekdzPStIxn2OtJuNkx72EqlIc2LaxnM2X89zsD3pGrXP+/0o60co08yCAPxvXvxuat/IZ3BJ/vcJr2Tjv9HuQgHR3qeDxchD0eJIVJQOqOutBvV+GZ/QCFv1A/krPZIgr6GkxvpBedSr55L5ybvAKJA2L0Qr3pPvNbLKAhG4aN5ItVmJ3rlsbmRbvtMqlVPWtdR+LrpSLN6Is3OO/v8hg27EjQfiNd+LUO7CMVHyMPR0Z6zGvDoQYvScUHvYELeR+m1H0hlZqjLGF6LX68eaahLisJu2JJ6ZYuhLs/ojQRndTkL3lCidyAIeTgqLuC9evXKLgHKJC7ZOpyQZ/d3mZA36kvnXKt0H0i799EuPE6jwaWcR2F3H9c5XfKKoiPk4Who1SxDpKB4bGmWaV+mj6o02l1TUjLqtaVhl2vp1a+Da7kYt12Llnktuewly7SSIS+5XVfik1w2eR81Sm072y7ukwyuvxKvGj1XP5eg9w/ptL5dEDBupHfZil+j26w3pd3p2aq+kdx0zm2buuQjP8Ddhr7Ulliv/IYS+vXEeYgeOw96+hn7LPXZQXER8lB62qnCDZGinS2A4olCVOcLqWeClxr1LuTMv5ahqSo7kbr+X5+wVZfpm3y2JO+T9INHUZhKVuu5ZYkwqSVD3udReNPA6AJdOmyeehfSHepPdl/nhosPURg5jUKoe41tP1a5l6nqW6Ek7zYUvxaH3eOuqnWhd8dVtWM2oC9bxY69IuSh1NwQKY8fP6YHLYrNtqdLhxi9oT6VCy21Ms9/lrix5wWkbMhzJWbpQBCXELoQp6V7DzOBIbntW7ON2lkg/fE9PXp+TklevP1saduc/V0iMKT3+Zi50tj9lWbmX18UESEPpaXVsvfv36cHLQ5ETgnJ6I08v3iZKbnSIUeu5JkbQmTdkJfslTv1iG/k8fpaPezLs3GV6yw2hEwFt7x9WTbk3cogeBjtT138sGB9O12Jar0loSm1tFZdvrS3Eng1qdR8CW/toh2LPw/7KknEKgh5KCU3REoQBHYJcADMMBjJatJvpZUMZ7bdnIatIPxJLmeVjK0S8pYaeiPRJk/Dn2mXN6vSdHZwS72vWbJsyFt2vT3Ydcgz12u/1dbT1xFFRchD6WgPWr0RMUQKDk/cli0OaR+ld/F0EmpMOKhN2uTlBp87hDxTkpfc7hyjgYSBH4e96qwelrOrE6dLgJYMbwc3NMz2FCFgTV9HFBUhD6WiJXdagtfr9ewS4LDEN9BT8Ts/SLsd2uC1bFXnHULeOJTdE8//QXrj0iUdi+2ZBL1/y83Vt/I8GegWlP7lBxG7L6kSrCVD3iAQ767Bxrw2CqV7rN7cHFdtfZf2cO61Fan5YfRTDjPgsfawdoNN2+UZ8fWlTd4hIOShNLTtnbbBY4gUHLRxG7n0TdQFp7jE7ZMMwm+kqdV+GpD6P0knfD+pCkyWstkq4Pr5pblpj6c+0+ATPczQLDr2mauKTTyqprNFHM5q3ldybabMsrNOzB0rzZZIJqYci8d2O01PQTZ8LW2dkmtmqaDKD6oxbZ92Il7w1v6sPU+/lIeJnw0NemuGPDM+XOI8bspq250Xipc5F3HQyw95cdg31/xWe3I3ZoR4ez0WBXMUAiEPB097zWrvWe1FSw9aHD47xMlU1aQbhiQKYPWmXIR9+WDCT3QzDroytG21JiHNhUQ7VZguq3riX/bkRgOjjlsXXI1L7tLj5CVL9aKb+tV3ctX/2ZbyRM/PbZNnadXuRSJMmnaEbu5TF9zi58aP3OpYOzbckqFiuyFP93Oz1ZQrbXfFYWRWCnnmy0XDdmyJ18t/Hw2any1XvY+9I+ThoLkhUp48eULAA8rIthmcqqp11bCZ8LdSyLOhqVL9g7SffW7HKfxRfjZzwuaHylHvB3m+hWrKZbY7s5p06XMxJ+SZczHZthmLzwtkYH5K0C8TzHhxMAh5OFiuBy1DpADlZYJNbuCybQk1iLiwliwV1IcLdjNL8myJ4mcN8Vp/NVXHnzWacnH5VLy89xz15eqbq8R4gRuy1HZtdWpu6dqy52JRyHsowUCfseclG/LM1HIPmLv2gBDycJB07lkNePSgBcrGzpYRhZkPg5fS8h6k2/E5M0r4VquutVXB2hmkf2naLjbaP8fV4JmqY9OWMVG9vSlzt2vaWOoA2P14CJvGF9Ix7SIzlj4Xa1TXmk4ZD8Rrv6aa9oAQ8nBwNNgR8ICyctOuVWzbQ9eOL21W1eVKIc8Em3viBW8SnQl+MW3O7tSTd9PMVHb3ROcZrje/kTAv4EWWPxdzQp4pDfxd3NbOdIhJdrx4Jx3/jzOvBYqLkIeD8vXXX5uARw9a4Ji5Hp51OXvWm196lay+NEEvnjHC9CLta1s2DUcfJlWhdv38atEiWv5cxHPexuciDnqJc6EvdL2dFwyhgsNByMNB0E4V2vZOO1kQ8ACs593cuXePC+eizAh5KDzXg5YhUgCszQzt8qW0ww92wRHjXJQeIQ+FpqV2Gu7oQQsAwGoIeSgsN0SKtsMDAACrIeShkOhBCwDAegh5KJwXL16YgNfr9ewSAACwKkIeCkXb3jFECgAA6yPkoRC016zOP0sPWgAANoOQh71zQ6Q8fvyYgAcAwIYQ8rBXWi17//59hkgBAGDDCHnYG+1Yoe3vtKMFAADYLEIe9kKHRtH5ExkiBQCA7SDkYeeCIKAHLQAAW0bIw05p2zttg0fAAwBguwh52AnXg5YhUgAA2A1CHrbu/fv3JtxpKR4BDwCA3SDkYau0Wlbb3zFECgAAu0XIw9a8evXKBDx60AIAsHuEPGyFBjsNeBr0AADA7hHysHFaNcsQKQAA7BchDxujnSo04GknC+1sAQAA9oeQh41giBQAAIqFkIe1abWsDnBMD1oAAIqDkIe1uCFSdKoyAABQHIQ83Jn2oK1UKgyRAgBAARHycCcvXrwwJXi9Xs8uAQAARULIw8q07Z22wWOIFAAAiouQh5W4IVLoQQsAQLER8rASLb0j4AEAUHyEPAAAgBIi5AEAAJQQIQ8AAKCECHkAAAAlRMgDAAAoIUIeAABACRHyAAAASoiQBwAAUEKEPAAAgBIi5AEAAJQQIa9Ihj259D2pVipS9S6kOxzZJwAAAFZDyCuK4Wtpe3Xx2q9leNORZu2RBP1P9kkAAIDVEPIK4YOE/qlUzwLpU3gHAAA2gJBXAKN+IGfVE2l23tklAAAA6yHk7Zuppr0nlUZbepTiAQCADSHk7cuoK+1GVSqVyuRRPZfODUkPAACsj5C3b9rJgqpaAACwYYS8vRpFGe9cqpTgAQCADSPk7dU76TRPaI8HAAA2jpC3T6aqtiqNdlfIeAAAYJMIeXs06rWlUXkg7d5HuwQAAGAzCHl781F67Qe7qaodDSQMfPHu+RLe2mUAAKDUCHn7YoZQqc2oqh1K6Nel5ocyP5PF61W8QAZ2yTTbuUOHaKkR8gAAOBaEvD3ZdVXtbehLjZAHAMDRIOTtRVxVW2125MYuGbsNxa/p4MgLAqBbb8nqXkIeAADHhZC3D6M3EpydzQhxtnp1YSCL16vlBcUchDwAAI4LIW9HhmFLGhrIRgO5bj2Sh8GbGcOmxGPn5ZbypWh7vFPxgrfmJxPiklOkjR8PJRjcEvIAADgyhLwdGfUDOatGoavqiX/ZiyLaDKZDxr1xeJvJrNcQP5y5pRRCHgAAx4WQVzBxh4zfiv/8tQzmtbUzAynHpXTLIOQBAHBcCHkFY8JYtS7e0zAu7RsE4lWqUvevU6V/Zr1VOl246luCHgAAR4GQdwhGXbloXSXa6M3pnQsAABAh5BXdsCeXra/kef9T9IN2yngo7fBK/PpvxQ8/xOsAAABkEPIOStzztlJpSDPozu68AQAAjh4hDwAAoIQIeQAAACVEyAMAACghQh4AAEAJEfIAAABKiJAHAABQQoQ8AACAEiLkAQAAlBAhDwAAoIQIeQAAACVEyAMAACghQh4AAEAJEfIAAABKiJAHAABQQoQ8AACAEiLkAQAAlBAhDwAAoIQIeQAAACVEyAMAACghQh4AAEAJEfIAAABKiJAHAABQQoQ8AACAEiLkAQAAlI7I/wdWfOSxyyjomAAAAABJRU5ErkJggg==)"
   ]
  },
  {
   "cell_type": "markdown",
   "metadata": {},
   "source": [
    "Also in this case this equation doesn't hold for $i=0$ or $i=I$ and the boundary conditions supply the two remaining equations. \n",
    "\n",
    "These scheme is very different from the explicit scheme, first of all it's possible to demonstrate that the method doesn't suffer anymore from the restriction on the time step. The asset step can be small and the time step large without the method running into stability problem. The second difference concern the solution procedure, infact the solution of the difference equation is no longer so straightforward. To get $U_{i,k+1}$ from $U_{i,k}$ we have to solve a set of linear equations, each $U_{i,k+1}$ is directly linked to its two neighbours and thus indirectly linked to every option value at the same time step.  \n",
    "\n",
    "\\begin{equation}\n",
    "\\begin{bmatrix} \n",
    "A_1 &  1+B_1 &  C_1 &  0 &  \\cdots &  0 \n",
    "\\\\ 0 &  A_2 &  1+B_2  &  C_2 &  \\cdots &  0 \n",
    "\\\\ 0 &  0 &  A_3 &  1+B_3  &  \\cdots &  0 \n",
    "\\\\ \\vdots &  &  \\ddots &  \\ddots &  \\ddots &  \\vdots \n",
    "\\\\ 0 &  \\cdots &  &   A_{I-1} &  1+B_{I-1} &  C_{I-1}\n",
    "\\end{bmatrix} \\cdot \n",
    "\\left[ \n",
    "\\begin{array}{c} U_{0,k+1} \\\\ U_{1,k+1} \\\\ U_{2,k+1}  \\\\ \\vdots \\\\ U_{I-1,k+1}\\\\ U_{I,k+1}  \n",
    "\\end{array}  \n",
    "\\right]\n",
    "=\n",
    "\\left[\\begin{array}{c} U_{0,k} \\\\ U_{1,k} \\\\ U_{2,k}  \\\\ \\vdots \\\\ U_{I-1,k}\\\\ U_{I,k}  \\end{array} \\right] \n",
    "\\end{equation}\n",
    "\n",
    "The matrix have $I-1$ rows and $I+1$ columns so this is a representation of $I-1$ equations in $I+1$ unknowns. The two equations that we are missing come from the boundary conditions. We can rewrite the previous equation taking explicitly into account the boundary conditions as:\n",
    "\n",
    "\\begin{equation}\n",
    "\\begin{bmatrix} \n",
    "   &  1+B_1 &  C_1    &  0      &  \\cdots  \n",
    "\\\\ &  A_2   &  1+B_2  &  C_2    &  \\cdots  \n",
    "\\\\ &  0     &  A_3    &  1+B_3  &  \\cdots  \n",
    "\\\\ & \\ddots &  \\ddots &  \\ddots &  \\vdots \n",
    "\\\\ & \\cdots &  \\cdots & A_{I-1} &  1+B_{I-1} \n",
    "\\end{bmatrix} \\cdot \n",
    "\\left[ \n",
    "\\begin{array}{c}  U_{1,k+1} \\\\ U_{2,k+1}  \\\\ \\vdots \\\\ U_{I-1,k+1}   \n",
    "\\end{array}  \n",
    "\\right]\n",
    "+\n",
    "\\left[\n",
    "\\begin{array}{c}  A_1U_{0,k+1} - U_{0,k} \\\\ 0  \\\\ \\vdots \\\\ C_I U_{I,k+1} -U_{I,k}   \n",
    "\\end{array}  \n",
    "\\right]\n",
    "=\n",
    "\\left[\\begin{array}{c} U_{1,k} \\\\ U_{2,k}  \\\\ \\vdots \\\\ U_{I-1,k}  \\end{array} \\right] \n",
    "\\end{equation}\n",
    "\n",
    "or\n",
    "\n",
    "\\begin{equation}\n",
    "\\begin{bmatrix} \n",
    "   &  1+B_1 &  C_1    &  0      &  \\cdots  \n",
    "\\\\ &  A_2   &  1+B_2  &  C_2    &  \\cdots  \n",
    "\\\\ &  0     &  A_3    &  1+B_3  &  \\cdots  \n",
    "\\\\ & \\ddots &  \\ddots &  \\ddots &  \\vdots \n",
    "\\\\ & \\cdots &  \\cdots & A_{I-1} &  1+B_{I-1} \n",
    "\\end{bmatrix} \\cdot \n",
    "\\left[ \n",
    "\\begin{array}{c}  U_{1,k+1} \\\\ U_{2,k+1}  \\\\ \\vdots \\\\ U_{I-1,k+1}   \n",
    "\\end{array}  \n",
    "\\right]\n",
    "=\n",
    "\\left[\\begin{array}{c} U_{1,k} \\\\ U_{2,k}  \\\\ \\vdots \\\\ U_{I-1,k}  \\end{array} \\right] \n",
    "-\n",
    "\\left[\n",
    "\\begin{array}{c}  A_1U_{0,k+1} - U_{0,k} \\\\ 0  \\\\ \\vdots \\\\ C_I U_{I,k+1} -U_{I,k}   \n",
    "\\end{array}  \n",
    "\\right]\n",
    "=\n",
    "\\left[\n",
    "\\begin{array}{c}  q_{1,k} \\\\ q_{2, k}  \\\\ \\vdots \\\\ q_{I-1,k}   \n",
    "\\end{array}  \n",
    "\\right]\n",
    "\\end{equation}\n",
    "\n",
    "$$\n",
    "\\mathbf{M_{imp}}\\mathbf{U}=\\mathbf{q}\n",
    "$$\n",
    "\n",
    "This matrix equation holds whichever of the boundary conditions we have. Solution methods are various but two of the most used are **LU Decomposition** and **Successive Over Relaxation**. The LU decomposition is an example of a 'direct method'. This means that it finds the exact solution of the equations in one go through matrix operations.  An alternative strategy is to employ an *iterative method*. Iterative methods differ from direct methods in that one starts with a guess for the solution and successively improves it until it converges near enough to the exact solution. In a direct method one obtains the solution without any interaction. An advantage of iterative methods over direct methods is that they generalise in straightforward ways to American option problems whereas direct methods do not. For this reason in the following we shall concentrate only on a particular kind of iterative method: the SOR (successive over-relaxation).\n",
    "\n",
    "#### Successive Over-Relaxation Method (SOR) ####\n",
    "\n",
    "This is an example of an 'indirect method', with this we solve the equations iteratively. We'll give a description of this method from a very generic point of view.\n",
    "\n",
    "Suppose that the **square** matrix $\\mathbf{M}$ in the matrix equation\n",
    "\n",
    "$$\n",
    "\\mathbf{M}\\mathbf{v}=\\mathbf{q}\n",
    "$$\n",
    "\n",
    "has entries $M_{ij}$ then the system of equations can be written as\n",
    "\n",
    "\\begin{align}\n",
    "&M_{11}v_1 + M_{12}v_2 + \\dots + M_{1N}v_N = q_1 \\notag\\\\\n",
    "&M_{21}v_1 + M_{22}v_2 + \\dots + M_{2N}v_N = q_2 \\notag\\\\\n",
    "&\\dots \\dots\\notag\\\\\n",
    "&M_{N1}v_1 + M_{N2}v_2 + \\dots + M_{NN}v_N = q_N \\\\\n",
    "\\end{align}\n",
    "\n",
    "$N$ is the number of equations. Rewrite this as\n",
    "\n",
    "\\begin{align}\n",
    "&M_{11}v_1 = q_1 - (M_{12}v_2 + \\dots + M_{1N}v_N )\\notag\\\\\n",
    "&M_{22}v_2 = q_2 - (M_{21}v_1 + \\dots + M_{2N}v_N ) \\notag\\\\\n",
    "&\\dots \\dots\\notag\\\\\n",
    "&M_{NN}v_N = q_N - ( M_{N1}v_1 + \\dots)\\\\\n",
    "\\end{align}\n",
    "\n",
    "The system is easily *iteratively* using\n",
    "\n",
    "\\begin{align}\n",
    "&v_1^{n+1} = \\frac{1}{M_{11}} \\left( q_1 - (M_{12}v_2^n + \\dots + M_{1N}v_N^n )\\right) \\notag\\\\\n",
    "&v_2^{n+1} = \\frac{1}{M_{22}} \\left( q_2 - (M_{21}v_1^n + \\dots + M_{2N}v_N^n )\\right) \\notag\\\\\n",
    "&\\dots \\dots\\notag\\\\\n",
    "&v_N^{n+1} = \\frac{1}{M_{NN}} \\left( q_N - ( M_{N1}v_1^n + \\dots)\\right)\\\\\n",
    "\\end{align}\n",
    "\n",
    "where the superscript $n$ denotes the level of the iteration **and not the timestep**. This iteration is started from some initial guess $\\mathbf{v}^0$. In our case it is usual to start with the value of the option at the previous timestep as the initial guess for the next timestep. This iterative method is called the **Jacobi Method**.\n",
    "\n",
    "The matrix $\\mathbf{M}$ can be written as the sum of a diagonal matrix $\\mathbf{D}$, an upper triangular matrix $\\mathbf{U}$ with zeros on the diagonal and a lower triangular matrix $\\mathbf{L}$ also with zeros on the diagonal:\n",
    "\n",
    "$$\\mathbf{M} = \\mathbf{D} + \\mathbf{U} + \\mathbf{L}$$\n",
    "\n",
    "Using this representation we can write the Jacobi method in a different but elegant way\n",
    "\n",
    "\\begin{equation}\n",
    "\\mathbf{v}^{n+1} = \\mathbf{D}^{-1} \\left( \\mathbf{q} - \\mathbf{U}\\cdot \\mathbf{v}^n - \\mathbf{L}\\cdot \\mathbf{v}^n \\right)\n",
    "\\end{equation}\n",
    "\n",
    "The idea of the *successive over-relaxation method* is to speed up convergence of the procedure using the right hand side of the previous equation as a correction factor of the value of $\\mathbf{v}$ estimated at the previous step\n",
    "\n",
    "\\begin{equation}\n",
    "\\mathbf{v}^{n+1} = \\mathbf{v}^{n+1} + \\omega \\mathbf{D}^{-1} \\left( \\mathbf{q} - \\mathbf{U}\\cdot \\mathbf{v}^n - \\mathbf{L}\\cdot \\mathbf{v}^n \\right)\n",
    "\\end{equation}\n",
    "\n",
    "$\\omega$ is the so called *over-relaxation* parameter and its value must lie between 1 and 2. Usually this parameter is estimated by experiment making some test for the optimal value. \n"
   ]
  },
  {
   "cell_type": "markdown",
   "metadata": {},
   "source": [
    "### Python Implementation of Fully Implicit Method ###"
   ]
  },
  {
   "cell_type": "code",
   "execution_count": 20,
   "metadata": {},
   "outputs": [],
   "source": [
    "payout = 'put'   # option type "
   ]
  },
  {
   "cell_type": "code",
   "execution_count": 41,
   "metadata": {},
   "outputs": [],
   "source": [
    "import sys\n",
    "#\n",
    "# Parameters to define the range in space and time\n",
    "#\n",
    "S_min  =   0.0;               # minimum value for stock price\n",
    "S_max  = 150.0;               # maximum value for stock price\n",
    "L      = S_max - S_min;\n",
    "\n",
    "N      = 1002;                # Number of time steps\n",
    "k      = float(T)/float(N);   # time step size\n",
    "I      = 100;                 # Number of space steps\n",
    "h      = float(L)/float(I);   # space step size\n",
    "\n",
    "S      = np.zeros((I+1))      # stock price array   \n",
    "A      = np.zeros((I+1))      #A, B and C are the constituents of matrix M\n",
    "B      = np.zeros((I+1))\n",
    "C      = np.zeros((I+1))\n",
    "Payoff = np.zeros((I+1))      # option payoff\n",
    "UOld   = np.zeros((I+1))      # value of option price at time t\n",
    "UNew   = np.zeros((I+1))      # value of option price at time t+1\n",
    "#\n",
    "# Relaxation parameters\n",
    "#\n",
    "omega = 1.5\n",
    "error = 1e6\n",
    "#\n",
    "# Precision parameters\n",
    "#\n",
    "EPS     = 0.00001\n",
    "MAXITER = 100\n",
    "#\n",
    "# Initial Conditions. We Estimate the payoff and this is the value of the option\n",
    "# at the starting time (remember that we compute time starting from option expiry!)\n",
    "#\n",
    "for i in range(0, I+1):\n",
    "    S[i] = i * h\n",
    "    if payout == 'call':\n",
    "        UOld[i] = np.maximum(S[i] - K,0)\n",
    "    else:\n",
    "        UOld[i] = np.maximum(K - S[i],0)    \n",
    "Payoff = UOld\n"
   ]
  },
  {
   "cell_type": "markdown",
   "metadata": {},
   "source": [
    "The implicit method matrix coefficients are\n",
    "\n",
    "\\begin{align} \n",
    "& A_i = -\\nu_1 a_i + \\frac{1}{2}\\nu_2 b_i \\notag\\\\\n",
    "& B_i = 1 + 2 \\nu_1 a_i - \\Delta t \\> c_i \\notag\\\\\n",
    "& C_ = -\\nu_1 a_i - \\frac{1}{2}\\nu_2 b_i  \\notag\n",
    "\\end{align}\n",
    "\n",
    "so due to discretization process they transform into\n",
    "\n",
    "\\begin{align}\n",
    "&A_i = -\\frac{1}{2} i \\> k \\left( \\sigma^2 i - r \\right) \\notag\\\\\n",
    "&B_i = 1 + k \\left( \\sigma^2 i^2 +r \\right) \\notag\\\\\n",
    "&C_i = - \\frac{1}{2} k \\> i \\left( \\sigma^2 i + r \\right) \\cdot k \\notag\n",
    "\\end{align}"
   ]
  },
  {
   "cell_type": "code",
   "execution_count": 22,
   "metadata": {},
   "outputs": [],
   "source": [
    "#\n",
    "# Matrix elements\n",
    "#\n",
    "for i in range(1,I):\n",
    "    A[i] = -k * 0.5 * i * (sigma * sigma * i - r)\n",
    "    B[i] =  1 + 1.0 * k * (sigma * sigma * i * i + r)\n",
    "    C[i] = -k * 0.5 * i * (sigma * sigma * i + r)"
   ]
  },
  {
   "cell_type": "markdown",
   "metadata": {},
   "source": [
    "Note that in our parametrization, $A$ is the subdiagonal matrix, $C$ is the superdiagonal matrix and $B$ is the diagonal one."
   ]
  },
  {
   "cell_type": "code",
   "execution_count": 27,
   "metadata": {},
   "outputs": [
    {
     "name": "stdout",
     "output_type": "stream",
     "text": [
      "Now running time step nr: 1000/1000\n",
      "Option price (implicit finite diff)   :  13.696\n"
     ]
    }
   ],
   "source": [
    "#\n",
    "# Cycle on time\n",
    "#\n",
    "for n in range(1, N-1):\n",
    "    sys.stdout.write(\"\\r\" + \"Now running time step nr: \" + str(n) + \"/\" + str(N-2))\n",
    "    sys.stdout.flush()\n",
    "    t = n * k\n",
    "    #\n",
    "    # initially UNew is set equal to UOld\n",
    "    #\n",
    "    UNew[1:I-1] = UOld[1:I-1]\n",
    "    m = 0\n",
    "    #\n",
    "    # Boundary Conditions\n",
    "    #\n",
    "    if payout == 'call':\n",
    "        UNew[0] = 0\n",
    "        UNew[I] = h * I * math.exp(-delta * t) - K * math.exp(-r * t)\n",
    "    else:\n",
    "        UNew[0] = K * math.exp(-r * t)\n",
    "        UNew[I] = 0\n",
    "\n",
    "    while (error > EPS) and (m < MAXITER): \n",
    "        error = 0\n",
    "        for i in range(1,I):\n",
    "            y       = (UOld[i] - A[i] * UNew[i - 1] - C[i] * UNew[i + 1] ) / B[i]\n",
    "            diff    = y - UNew[i]\n",
    "            error   = error + diff * diff\n",
    "            UNew[i] = UNew[i] + omega * diff\n",
    "            #\n",
    "            # this is were we introduce the early exercise \n",
    "            #\n",
    "            UNew[i] = max(UNew[i], Payoff[i])\n",
    "        m = m + 1\n",
    "    #\n",
    "    UOld[1:I-1] = UNew[1:I-1]\n",
    "\n",
    "f = scipy.interpolate.interp1d(S,UNew)\n",
    "opt_implicit = f(S0).item(0)\n",
    "\n",
    "print('\\r')\n",
    "print('Option price (implicit finite diff)   : ', round(opt_implicit,3))"
   ]
  },
  {
   "cell_type": "markdown",
   "metadata": {},
   "source": [
    "### The Crank-Nicolson Method ###\n",
    "\n",
    "The Fully Implicit Method can be significantly improved with a relatively limited computational effort.\n",
    "\n",
    "This method can be thought of as an average of the explicit method and the fully implicit method. It uses the six points shown in Figure (...).\n",
    "\n",
    "The Crank-Nicolson scheme is \n",
    "\n",
    "\\begin{align}\n",
    "\\frac{U_{i,k} - U_{i,k+1}}{\\Delta t}  \n",
    "&+ \\frac{a_i}{2}\\left( \\frac{U_{i+1,k+1}- 2 U_{i,k+1}+U_{i-1,k+1}}{\\Delta S^2} \\right)\n",
    " + \\frac{a_i}{2}\\left(\\frac{U_{i+1,k}- 2 U_{i,k}+U_{i-1,k}}{\\Delta S^2}\\right)\\notag\\\\\n",
    "&+ \\frac{b_i}{2}\\left( \\frac{U_{i+1,k+1}-U_{i-1,k+1}}{2\\Delta S} \\right)\n",
    " + \\frac{b_i}{2}\\left( \\frac{U_{i+1,k}-U_{i-1,k}}{2\\Delta S}  \\right)\\notag\\\\\n",
    "&+ \\frac{1}{2}c_i U_{i,k}\n",
    " + \\frac{1}{2}c_i U_{i,k+1}\n",
    "= 0\n",
    "\\end{align}\n",
    "\n",
    "This can be written as\n",
    "\n",
    "\\begin{equation}\n",
    "-A_i  U_{i-1,k+1} + (1 - B_i) U_{i,k+1} - C_i U_{i+1,k+1} =\n",
    " A_i  U_{i-1,k} + (1 + B_i) U_{i,k} + C_i U_{i+1,k}\n",
    "\\end{equation}\n",
    "\n",
    "where\n",
    "\n",
    "\\begin{align} \n",
    "& A = \\frac{1}{2}\\nu_1 a_i + \\frac{1}{4}\\nu_2 b_i \\\\\n",
    "& B = - \\nu_1 a_i + \\frac{1}{2} \\Delta t \\> c_i \\\\\n",
    "& C = \\frac{1}{2}\\nu_1 a_i - \\frac{1}{4}\\nu_2 b_i\n",
    "\\end{align}\n",
    "\n",
    "These equations only hold for $1 \\le i \\le I-1$. The boundary contitions again supply the two missing equations but in this case they are harder to deal with than in the explicit methods. We shall return on this subject in a while."
   ]
  },
  {
   "cell_type": "markdown",
   "metadata": {},
   "source": [
    "\\begin{align}\n",
    "&\\begin{bmatrix} \n",
    "A_1 &  1+B_1 &  C_1 &  0 &  \\cdots &  0 \n",
    "\\\\ 0 &  A_2 &  1+B_2  &  C_2 &  \\cdots &  0 \n",
    "\\\\ 0 &  0 &  A_3 &  1+B_3  &  \\cdots &  0 \n",
    "\\\\ \\vdots &  &  \\ddots &  \\ddots &  \\ddots &  \\vdots \n",
    "\\\\ 0 &  \\cdots &  &   A_{I-1} &  1+B_{I-1} &  C_{I-1}\n",
    "\\end{bmatrix} \\cdot \n",
    "\\left[\\begin{array}{c} U_{0,k+1} \\\\ U_{1,k+1} \\\\ U_{2,k+1}  \\\\ \\vdots \\\\ U_{I-1,k+1}\\\\ U_{I,k+1}  \\end{array} \\right] \n",
    "= \\\\\n",
    "&\\begin{bmatrix} \n",
    "-A_1 &  1-B_1 &  -C_1 &  0 &  \\cdots &  0 \n",
    "\\\\ 0 &  -A_2 &  1-B_2  &  -C_2 &  \\cdots &  0 \n",
    "\\\\ 0 &  0 &  -A_3 &  1-B_3  &  \\cdots &  0 \n",
    "\\\\ \\vdots &  &  \\ddots &  \\ddots &  \\ddots &  \\vdots \n",
    "\\\\ 0 &  \\cdots &  &   -A_{I-1} &  1-B_{I-1} & - C_{I-1}\n",
    "\\end{bmatrix} \\cdot \n",
    "\\left[\\begin{array}{c} U_{0,k} \\\\ U_{1,k} \\\\ U_{2,k}  \\\\ \\vdots \\\\ U_{I-1,k}\\\\ U_{I,k}  \\end{array} \\right] \n",
    "\\end{align}\n",
    "\n",
    "The two matrices have $I-1$ rows and $I+1$ columns so this is a representation of $I-1$ equations in $I+1$ unknowns. The two equations that we are missing come from the boundary conditions.\n",
    "\n"
   ]
  },
  {
   "cell_type": "markdown",
   "metadata": {},
   "source": [
    "#### Boundary Conditions ####\n",
    "\n",
    "**$U_{0,k+1}$ and/or $U_{I,k+1}$ given**\n",
    "\n",
    "We can write\n",
    "\n",
    "\\begin{equation}\n",
    "\\begin{bmatrix} \n",
    "A_1 &  1+B_1 &  C_1 &  0 &  \\cdots &  0 \n",
    "\\\\ 0 &  A_2 &  1+B_2  &  C_2 &  \\cdots &  0 \n",
    "\\\\ 0 &  0 &  A_3 &  1+B_3  &  \\cdots &  0 \n",
    "\\\\ \\vdots &  &  \\ddots &  \\ddots &  \\ddots &  \\vdots \n",
    "\\\\ 0 &  \\cdots &  &   A_{I-1} &  1+B_{I-1} &  C_{I-1}\n",
    "\\end{bmatrix} \\cdot \n",
    "\\left[\\begin{array}{c} U_{0,k+1} \\\\ U_{1,k+1} \\\\ U_{2,k+1}  \\\\ \\vdots \\\\ U_{I-1,k+1}\\\\ U_{I,k+1}  \\end{array} \\right] \n",
    "\\end{equation}\n",
    "\n",
    "as \n",
    "\n",
    "\\begin{equation}\n",
    "\\begin{bmatrix} \n",
    "1+B_1 &  C_1 &  0 &  \\cdots &  0 \n",
    "\\\\ A_2 &  1+B_2  &  C_2 &  \\cdots &  0 \n",
    "\\\\ 0 &  A_3 &  1+B_3  &  \\cdots &  0 \n",
    "\\\\ \\vdots &  &  \\ddots &  \\ddots &  \\vdots \n",
    "\\\\ 0 &  \\cdots &  &   A_{I-1} &  1+B_{I-1} \n",
    "\\end{bmatrix} \\cdot \n",
    "\\left[\\begin{array}{c} U_{1,k+1} \\\\ U_{2,k+1} \\\\ U_{3,k+1}  \\\\ \\vdots \\\\ U_{I-1,k+1}  \\end{array} \\right] \n",
    "+\n",
    "\\left[\\begin{array}{c} A_1U_{0,k+1} \\\\ 0 \\\\ 0  \\\\ \\vdots \\\\ C_{I-1}U_{I,k+1}  \\end{array} \\right] \n",
    "= \\mathbf{M}_L^{k+1} \\mathbf{U}_{k+1} + \\mathbf{r}_k\n",
    "\\end{equation}\n",
    "\n",
    "We can do the same for the right hand side of the equation, so we finally get\n",
    "\n",
    "\\begin{equation}\n",
    "\\mathbf{M}_L^{k+1} \\mathbf{U}_{k+1} + \\mathbf{r}_k = \\mathbf{M}_R^{k} \\mathbf{U}_{k}\n",
    "\\end{equation}\n",
    "\n",
    "The solution of this matrix equation can be implemented using the SOR method we discussed previously.\n",
    "\n"
   ]
  },
  {
   "cell_type": "markdown",
   "metadata": {},
   "source": [
    "\n",
    "\n",
    ">**Exercise**\n",
    ">\n",
    ">Try to code the Crank-Nicolson Method with Python. Apply to the solution of the Black and Scholes equation.\n"
   ]
  },
  {
   "cell_type": "markdown",
   "metadata": {},
   "source": [
    "# References #\n",
    "\n",
    "*John C. Hull*, **Option, Futures and Other Derivatives**, 6th Edition, Prentice Hall\n",
    "\n",
    "*Domingo Tavella and Cut Randall*, **Pricing Financial Instrument: The Finite Difference Approach**, Wiley\n",
    "\n",
    "*Paul Wilmott*, **Derivatives, The Theory and Practice of Financial Engineering**, University Edition\n",
    "\n",
    "*Paul Wilmott, Sam Howison and Jeff Dewinne*, **The Mathematics of Financial Derivatives, A Student Introduction**, Cambridge University Press"
   ]
  },
  {
   "cell_type": "markdown",
   "metadata": {},
   "source": [
    "# Appendix - Function Code #"
   ]
  },
  {
   "cell_type": "code",
   "execution_count": 28,
   "metadata": {},
   "outputs": [],
   "source": [
    "def finite_difference_explicit(payout, S0, K, sigma, T, american = True, N = 1000, I = 100):\n",
    "    #\n",
    "    # N is the Number of time steps\n",
    "    # I is the Number of space steps \n",
    "    #\n",
    "    #\n",
    "    # Parameters to define the range in space and time\n",
    "    #\n",
    "    S_min = 0.0;\n",
    "    S_max = 200.0;\n",
    "    L     = S_max - S_min;\n",
    "\n",
    "    k     = float(T)/float(N);  # time step size\n",
    "    h     = float(L)/float(I);  # space step size\n",
    "\n",
    "    sig   = sigma\n",
    "    sig2  = sig*sig\n",
    "\n",
    "    S     = np.zeros((I+1))\n",
    "    u     = np.zeros((I+1,N+1))\n",
    "\n",
    "    if payout == 'call':\n",
    "        for i in range(0,I+1):\n",
    "            S[i]   = i*h;\n",
    "            u[i,0] = max(S[i]-K,0);\n",
    "        #\n",
    "        # We suppose that the range of S is sufficiently large, therefore impose the \n",
    "        # boundary conditions for all times:\n",
    "        #\n",
    "        # Value at the boundary \n",
    "        for n in range (0, N + 1):\n",
    "            # If the underlying is zero even the option value is zero\n",
    "            u[0,n] = 0.0;\n",
    "            # for large values of the underlying value of the option tends asymptotically\n",
    "            # to S - K * exp(-rt)\n",
    "            u[I,n] = S[I] - K * math.exp(-r*k*n);\n",
    "\n",
    "    if payout == 'put':\n",
    "        for i in range(0,I+1):\n",
    "            S[i] = S_min + i*h;\n",
    "            u[i,0] = max(K - S[i],0);\n",
    "        #\n",
    "        # Value at the boundary \n",
    "        #\n",
    "        for n in range (0, N + 1):\n",
    "            u[0,n] = K * math.exp(-r*k*n);\n",
    "            u[I,n] = 0.0;\n",
    "    #\n",
    "    # Implementation of the explicit method\n",
    "    #\n",
    "    for n in range(0,N): # time loop\n",
    "        for i in range (0,I): # space loop\n",
    "            A = 0.5 * (sig2 * i * i + r * i ) * k\n",
    "            B = 1.0 - (sig2 * i * i + r) * k \n",
    "            C = 0.5 * (sig2 * i * i - r * i) * k\n",
    "            u[i,n+1] = A * u[i+1,n] + B * u[i,n] + C * u[i-1,n];\n",
    "            #\n",
    "            # early exercise condition\n",
    "            #\n",
    "            if payout == 'put':\n",
    "                exercise = np.maximum(K-S[i],0)\n",
    "            else:\n",
    "                exercise = np.maximum(S[i]-K,0)\n",
    "            if american:    \n",
    "                u[i, n+1] = np.maximum(exercise, u[i, n+1]) \n",
    "    \n",
    "    f = scipy.interpolate.interp1d(S,u[:,N])\n",
    "    return f(S0).item(0)               "
   ]
  },
  {
   "cell_type": "code",
   "execution_count": 39,
   "metadata": {},
   "outputs": [],
   "source": [
    "def finite_difference_implicit(payout, S0, K, sigma, T, american = True, N = 1000, I = 250):\n",
    "    import sys\n",
    "    #\n",
    "    # Parameters to define the range in space and time\n",
    "    #\n",
    "    S_min  =   0.0;\n",
    "    S_max  = 150.0;\n",
    "    L      = S_max - S_min;\n",
    "\n",
    "    k      = float(T)/float(N);   # time step size\n",
    "    h      = float(L)/float(I);   # space step size\n",
    "\n",
    "    S      = np.zeros((I+1))\n",
    "    A      = np.zeros((I+1))\n",
    "    B      = np.zeros((I+1))\n",
    "    C      = np.zeros((I+1))\n",
    "    Payoff = np.zeros((I+1))\n",
    "    UOld   = np.zeros((I+1))\n",
    "    UNew   = np.zeros((I+1))\n",
    "    #\n",
    "    # Relaxation parameters\n",
    "    #\n",
    "    omega = 1.5\n",
    "    error = 1e6\n",
    "    #\n",
    "    # Precision parameters\n",
    "    #\n",
    "    EPS     = 0.00001\n",
    "    MAXITER = 100\n",
    "    #\n",
    "    # Initial Conditions\n",
    "    #\n",
    "    for i in range(0, I+1):\n",
    "        S[i] = i * h\n",
    "        if payout == 'call':\n",
    "            UOld[i] = np.maximum(S[i] - K,0)\n",
    "        else:\n",
    "            UOld[i] = np.maximum(K - S[i],0)    \n",
    "    Payoff = UOld\n",
    "    #\n",
    "    # Matrix elements\n",
    "    #\n",
    "    for i in range(1,I):\n",
    "        A[i] = -k * 0.5 * i * (sigma * sigma * i - r)\n",
    "        B[i] = 1 + 1.0 * k * (sigma * sigma * i * i + r)\n",
    "        C[i] = -k * 0.5 * i * (sigma * sigma * i + r)\n",
    "    #\n",
    "    # Cycle on time\n",
    "    #\n",
    "    for n in range(1, N-1):\n",
    "        #sys.stdout.write(\"\\r\" + \"Now running time step nr: \" + str(n) + \"/\" + str(N-2))\n",
    "        #sys.stdout.flush()\n",
    "        t = n * k\n",
    "        #\n",
    "        # initially UNew is set equal to UOld\n",
    "        #\n",
    "        UNew[1:I-1] = UOld[1:I-1]\n",
    "        m = 0\n",
    "        #\n",
    "        # Boundary Conditions\n",
    "        #\n",
    "        if payout == 'call':\n",
    "            UNew[0] = 0\n",
    "            UNew[I] = h * I * math.exp(-delta * t) - K * math.exp(-r * t)\n",
    "        else:\n",
    "            UNew[0] = K * math.exp(-r * t)\n",
    "            UNew[I] = 0\n",
    "\n",
    "        while (error > EPS) and (m < MAXITER): \n",
    "            error = 0\n",
    "            for i in range(1,I):\n",
    "                y       = (UOld[i] - A[i] * UNew[i - 1] - C[i] * UNew[i + 1] ) / B[i]\n",
    "                diff    = y - UNew[i]\n",
    "                error   = error + diff * diff\n",
    "                UNew[i] = UNew[i] + omega * diff\n",
    "                #\n",
    "                # this is were we introduce the early exercise opportunity\n",
    "                #\n",
    "                if american:\n",
    "                    UNew[i] = max(UNew[i], Payoff[i])\n",
    "            m = m + 1\n",
    "        #\n",
    "        UOld[1:I-1] = UNew[1:I-1]\n",
    "\n",
    "    print('\\r')\n",
    "    f = scipy.interpolate.interp1d(S,UNew)\n",
    "    return f(S0).item(0)"
   ]
  },
  {
   "cell_type": "code",
   "execution_count": 35,
   "metadata": {},
   "outputs": [],
   "source": [
    "S0    =  80.0   # initial stock level\n",
    "K     = 100.0   # strike price\n",
    "T     =   1.0   # time-to-maturity\n",
    "r     =   0.01  # short rate\n",
    "sigma =   0.25  # volatility\n",
    "delta =   0.0   # dividend yield"
   ]
  },
  {
   "cell_type": "code",
   "execution_count": 36,
   "metadata": {},
   "outputs": [
    {
     "name": "stdout",
     "output_type": "stream",
     "text": [
      "Now running time step nr: 998/998\n",
      "Option price (analytic)               :  21.429\n",
      "Option price (binomial tree european) :  21.424\n",
      "Option price (binomial tree american) :  21.689\n",
      "Option price (explicit finite diff)   :  21.687\n",
      "Option price (implicit finite diff)   :  21.687\n"
     ]
    }
   ],
   "source": [
    "payout = -1\n",
    "N      = 250\n",
    "\n",
    "opt_european   = BlackScholes(payout, S0, K, r, 0, sigma, T)\n",
    "opt_binomial_e = binomial_model_european(N, S0, sigma, r, K, T, 'put')[1][0][0] \n",
    "opt_binomial_a = binomial_model_american(N, S0, sigma, r, K, T, 'put')[1][0][0]\n",
    "opt_explicit   = finite_difference_explicit('put', S0, K, sigma, T, True)\n",
    "opt_implicit   = finite_difference_implicit('put', S0, K, sigma, T, True)\n",
    "\n",
    "print('Option price (analytic)               : ', round(opt_european,3))\n",
    "print('Option price (binomial tree european) : ', round(opt_binomial_e,3))\n",
    "print('Option price (binomial tree american) : ', round(opt_binomial_a,3))\n",
    "print('Option price (explicit finite diff)   : ', round(opt_explicit,3))\n",
    "print('Option price (implicit finite diff)   : ', round(opt_implicit,3))        "
   ]
  },
  {
   "cell_type": "code",
   "execution_count": 48,
   "metadata": {},
   "outputs": [
    {
     "ename": "KeyboardInterrupt",
     "evalue": "",
     "output_type": "error",
     "traceback": [
      "\u001b[1;31m---------------------------------------------------------------------------\u001b[0m",
      "\u001b[1;31mKeyboardInterrupt\u001b[0m                         Traceback (most recent call last)",
      "\u001b[1;32m<ipython-input-48-228355439054>\u001b[0m in \u001b[0;36m<module>\u001b[1;34m\u001b[0m\n\u001b[0;32m      1\u001b[0m \u001b[1;32mimport\u001b[0m \u001b[0msys\u001b[0m\u001b[1;33m\u001b[0m\u001b[1;33m\u001b[0m\u001b[0m\n\u001b[0;32m      2\u001b[0m \u001b[1;33m\u001b[0m\u001b[0m\n\u001b[1;32m----> 3\u001b[1;33m \u001b[0mexact\u001b[0m  \u001b[1;33m=\u001b[0m \u001b[0mfinite_difference_implicit\u001b[0m\u001b[1;33m(\u001b[0m\u001b[1;34m'put'\u001b[0m\u001b[1;33m,\u001b[0m \u001b[0mS0\u001b[0m\u001b[1;33m,\u001b[0m \u001b[0mK\u001b[0m\u001b[1;33m,\u001b[0m \u001b[0msigma\u001b[0m\u001b[1;33m,\u001b[0m \u001b[0mT\u001b[0m\u001b[1;33m,\u001b[0m \u001b[1;32mTrue\u001b[0m\u001b[1;33m,\u001b[0m \u001b[1;36m1000\u001b[0m\u001b[1;33m)\u001b[0m\u001b[1;33m\u001b[0m\u001b[1;33m\u001b[0m\u001b[0m\n\u001b[0m\u001b[0;32m      4\u001b[0m \u001b[0mprices\u001b[0m \u001b[1;33m=\u001b[0m \u001b[1;33m[\u001b[0m\u001b[1;33m]\u001b[0m\u001b[1;33m\u001b[0m\u001b[1;33m\u001b[0m\u001b[0m\n\u001b[0;32m      5\u001b[0m \u001b[0mnn\u001b[0m     \u001b[1;33m=\u001b[0m \u001b[0mrange\u001b[0m\u001b[1;33m(\u001b[0m\u001b[1;36m1\u001b[0m\u001b[1;33m,\u001b[0m \u001b[1;36m1000\u001b[0m\u001b[1;33m)\u001b[0m\u001b[1;33m\u001b[0m\u001b[1;33m\u001b[0m\u001b[0m\n",
      "\u001b[1;32m<ipython-input-39-4c639e030f1a>\u001b[0m in \u001b[0;36mfinite_difference_implicit\u001b[1;34m(payout, S0, K, sigma, T, american, N, I)\u001b[0m\n\u001b[0;32m     73\u001b[0m                 \u001b[0mdiff\u001b[0m    \u001b[1;33m=\u001b[0m \u001b[0my\u001b[0m \u001b[1;33m-\u001b[0m \u001b[0mUNew\u001b[0m\u001b[1;33m[\u001b[0m\u001b[0mi\u001b[0m\u001b[1;33m]\u001b[0m\u001b[1;33m\u001b[0m\u001b[1;33m\u001b[0m\u001b[0m\n\u001b[0;32m     74\u001b[0m                 \u001b[0merror\u001b[0m   \u001b[1;33m=\u001b[0m \u001b[0merror\u001b[0m \u001b[1;33m+\u001b[0m \u001b[0mdiff\u001b[0m \u001b[1;33m*\u001b[0m \u001b[0mdiff\u001b[0m\u001b[1;33m\u001b[0m\u001b[1;33m\u001b[0m\u001b[0m\n\u001b[1;32m---> 75\u001b[1;33m                 \u001b[0mUNew\u001b[0m\u001b[1;33m[\u001b[0m\u001b[0mi\u001b[0m\u001b[1;33m]\u001b[0m \u001b[1;33m=\u001b[0m \u001b[0mUNew\u001b[0m\u001b[1;33m[\u001b[0m\u001b[0mi\u001b[0m\u001b[1;33m]\u001b[0m \u001b[1;33m+\u001b[0m \u001b[0momega\u001b[0m \u001b[1;33m*\u001b[0m \u001b[0mdiff\u001b[0m\u001b[1;33m\u001b[0m\u001b[1;33m\u001b[0m\u001b[0m\n\u001b[0m\u001b[0;32m     76\u001b[0m                 \u001b[1;31m#\u001b[0m\u001b[1;33m\u001b[0m\u001b[1;33m\u001b[0m\u001b[1;33m\u001b[0m\u001b[0m\n\u001b[0;32m     77\u001b[0m                 \u001b[1;31m# this is were we introduce the early exercise opportunity\u001b[0m\u001b[1;33m\u001b[0m\u001b[1;33m\u001b[0m\u001b[1;33m\u001b[0m\u001b[0m\n",
      "\u001b[1;31mKeyboardInterrupt\u001b[0m: "
     ]
    }
   ],
   "source": [
    "import sys\n",
    "\n",
    "exact  = finite_difference_implicit('put', S0, K, sigma, T, True, 1000)\n",
    "prices = []\n",
    "nn     = range(1, 1000)\n",
    "for k in nn:\n",
    "    sys.stdout.write('\\r' + 'iter nr : ' + str(k))\n",
    "    sys.stdout.flush()\n",
    "    prices.append(finite_difference_implicit('put', S0, K, sigma, T, True, k, 50))"
   ]
  },
  {
   "cell_type": "code",
   "execution_count": 46,
   "metadata": {},
   "outputs": [
    {
     "data": {
      "image/png": "[encoded data removed]",
      "text/plain": [
       "<Figure size 720x360 with 1 Axes>"
      ]
     },
     "metadata": {
      "needs_background": "light"
     },
     "output_type": "display_data"
    }
   ],
   "source": [
    "%matplotlib inline\n",
    "\n",
    "ref = np.array([exact for n in nn])\n",
    "\n",
    "fig = plt.figure(figsize=[10, 5])\n",
    "plt.plot(nn, prices, color = 'r')\n",
    "plt.plot(nn, ref,'b--',color = 'g')\n",
    "#pl.ylim(0,10000)\n",
    "plt.xlim(0,100)\n",
    "plt.grid()\n",
    "plt.show()"
   ]
  },
  {
   "cell_type": "code",
   "execution_count": null,
   "metadata": {},
   "outputs": [],
   "source": []
  }
 ],
 "metadata": {
  "kernelspec": {
   "display_name": "Python 3",
   "language": "python",
   "name": "python3"
  },
  "language_info": {
   "codemirror_mode": {
    "name": "ipython",
    "version": 3
   },
   "file_extension": ".py",
   "mimetype": "text/x-python",
   "name": "python",
   "nbconvert_exporter": "python",
   "pygments_lexer": "ipython3",
   "version": "3.7.4"
  },
  "toc": {
   "base_numbering": 1,
   "nav_menu": {},
   "number_sections": true,
   "sideBar": true,
   "skip_h1_title": false,
   "title_cell": "Table of Contents",
   "title_sidebar": "Contents",
   "toc_cell": false,
   "toc_position": {},
   "toc_section_display": true,
   "toc_window_display": false
  }
 },
 "nbformat": 4,
 "nbformat_minor": 2
}
