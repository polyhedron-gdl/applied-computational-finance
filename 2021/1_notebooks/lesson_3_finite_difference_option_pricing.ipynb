{
 "cells": [
  {
   "cell_type": "markdown",
   "metadata": {},
   "source": [
    "<table align=\"left\">\n",
    "  <td>\n",
    "    <a target=\"_blank\" href=\"https://colab.research.google.com/github/polyhedron-gdl/applied-computational-finance/blob/master/2021/1_notebooks/lesson_3_finite_difference_option_pricing.ipynb\"><img src=\"https://www.tensorflow.org/images/colab_logo_32px.png\" />Run in Google Colab</a>\n",
    "  </td>\n",
    "</table>"
   ]
  },
  {
   "cell_type": "markdown",
   "metadata": {},
   "source": [
    "# Finite Difference Methods for Heston PDE  "
   ]
  },
  {
   "cell_type": "code",
   "execution_count": 10,
   "metadata": {},
   "outputs": [],
   "source": [
    "%matplotlib inline\n",
    "\n",
    "\n",
    "import math\n",
    "import numpy             as np\n",
    "import pandas            as pd\n",
    "import scipy.stats       as ss\n",
    "import matplotlib\n",
    "import pylab\n",
    "\n",
    "from pylab import *\n",
    "from matplotlib import pyplot as pl"
   ]
  },
  {
   "cell_type": "markdown",
   "metadata": {},
   "source": [
    "## Introduction\n",
    "\n",
    "In this notebook, we present methods to obtain the European call price by solving the Heston PDE along a two-dimensional grid representing the stock price and the volatility. We first show how to construct uniform and nonuniform grids for the\n",
    "discretization of the stock price and the volatility, and present formulas for finite difference approximations to the derivatives in the Heston PDE.\n",
    "\n",
    "As you alredy known, one of the limitations of using the famous Black-Scholes model is the assumption of a constant volatility $\\sigma$. A major modeling step away from the assumption of constant volatility in asset pricing, was made by modeling the volatility/variance as a diffusion process. The resulting models are the stochastic volatility (SV) models. The idea to model volatility as a random variable is confirmed by practical financial data which indicates the variable and unpredictable nature of the stock price’s volatility. The most significant argument to consider the volatility to be stochastic is the implied volatility smile/skew, which is present in the financial market data, and can be accurately recovered by SV models, especially\n",
    "for options with a medium to long time to the maturity date T. With an additional stochastic process, which is correlated to the asset price process St, we deal with a system of SDEs, for which option valuation is more expensive than for a scalar asset price process.\n",
    "\n",
    "The most popular SV model is the Heston model, for which the system of stochastic equations under the risk-neural measure reads:\n",
    "\n",
    "$$\n",
    "dS_t = rS_t dt + \\sqrt{v_t} S_t dZ_t^1\n",
    "$$\n",
    "\n",
    "with the variance following the square-root diffusion\n",
    "\n",
    "$$\n",
    "dv_t = \\kappa_v (\\theta_v - v_t) dt + \\sigma_v \\sqrt{v_t} dZ_t^2\n",
    "$$\n",
    "\n",
    "The two Brownian motions are instantaneously correlated with $dZ_t^1 dZ_t^2 = \\rho$. The second equation models a mean reversion process for the variance, with the parameters, $r$ the risk-free interest rate, $\\theta_v$ the long term variance, $\\kappa_v$ the reversion speed; $\\sigma_v$ is the volatility of the variance,\n",
    "determining the volatility of $v_t$. There is an additional parameter $v_0$, the $t_0$-value of the variance.\n",
    "\n",
    "\n"
   ]
  },
  {
   "cell_type": "markdown",
   "metadata": {},
   "source": [
    "### The Heston PDE\n",
    "\n",
    "The Heston partial differential equation (PDE) for the value $U(S,,v,t)$ of an option on a dividend-paying stock, when the spot price is $S$, the volatility is $v$ and the maturity is $t$, is\n",
    "\n",
    "\\begin{equation}\n",
    "    \\frac{\\partial U}{\\partial t} = \\frac{1}{2}v S^2 \\frac{\\partial^2 U}{\\partial S^2} +\n",
    "    \\rho \\sigma v S \\frac{\\partial^2 U}{\\partial v \\partial S} + \\frac{1}{2} \\sigma^2 v  \\frac{\\partial^2 U}{\\partial v^2}\n",
    "    -rU + (r-q)S \\frac{\\partial U}{\\partial S} + \\kappa(\\theta-v)\\frac{\\partial U}{\\partial v}\n",
    "\\end{equation}\n",
    "\n",
    "In a compact notation, we can express the PDE as\n",
    "\n",
    "\\begin{equation}\n",
    "      \\frac{\\partial U}{\\partial t} = LU(t)\n",
    "\\end{equation}\n",
    "\n",
    "As we have already seen, to implement finite differences, we first need a discretization grid for the\n",
    "**two state variables (the stock price and the variance)**, and a discretization grid for the\n",
    "maturity. These grids can have equally or unequally spaced increments. Second, we\n",
    "need **discrete approximations to the continuous derivatives** that appear in the PDE.\n",
    "Finally, we need a **finite difference methodology** to solve the PDE."
   ]
  },
  {
   "cell_type": "markdown",
   "metadata": {},
   "source": [
    "**See Lecture Notes for the derivation of the Heston PDE**"
   ]
  },
  {
   "cell_type": "markdown",
   "metadata": {},
   "source": [
    "## How to check the PDE solution?\n",
    "\n",
    "As we have already said, it is extremely important to have procedures for verifying and controlling the developed algorithms. For this reason we will now develop a simple Python code to calculate the price of a European option in the Heston model by implementing the well-known semi-analytical solution.\n",
    "\n",
    "The time-$t$ price of a European call on a non-dividend-paying stock with spot price $S_t$, when the strike is $K$ and the time\n",
    "to maturity is $\\tau = T − t$ in the Heston Model can be written as:\n",
    "\n",
    "\\begin{equation}\n",
    "C(K) = S_t P_1 - Ke^{-r\\tau}P_2\n",
    "\\end{equation}\n",
    "\n",
    "where $P_1$ and $P_2$ are two probabilities under two different measures:\n",
    "\n",
    "\\begin{equation}\n",
    "C(K) = S_t \\mathbb{Q}^S(S_T >K) - Ke^{-r\\tau}\\mathbb{Q}(S_T >K)\n",
    "\\end{equation}\n",
    "\n",
    "The measure $\\mathbb{Q}$ uses the bond $B_t$ as the numeraire, while the measure $\\mathbb{Q}^S$ uses the stock price $S_t$.\n"
   ]
  },
  {
   "cell_type": "markdown",
   "metadata": {},
   "source": [
    "### Calculation of Probability for Heston Model\n",
    "\n",
    "In the Heston model, it can be shown that $P_1$ and $P_2$ can be written as:\n",
    "\n",
    "\\begin{equation}\n",
    "P_j = \\text{Pr}_j \\left( \\ln S_T - \\ln K \\right) = \\frac{1}{2} + \\frac{1}{\\pi} \\int\\limits_0^\\infty\n",
    "\\text{Re} \\left[\n",
    "\\frac{e^{-i\\phi \\ln K}f_j(\\phi;x,v)}{i\\phi}\n",
    "\\right]\\, d\\phi\n",
    "\\end{equation}\n",
    "\n",
    "Heston postulates that these characteristic functions are of the log linear form\n",
    "\n",
    "\\begin{equation}\n",
    "f_j(\\phi;x_t,v_t) =\\exp \\left( C_j(\\tau, \\phi) + D_j (\\tau, \\phi) v_t + i \\phi x_t \\right) \n",
    "\\end{equation}\n",
    "\n",
    "where $C_j$ and $D_j$ are constant coefficients and $\\tau = T-t$ is the time to maturity. The coefficients can be shown to be\n",
    "\n",
    "\\begin{equation}\n",
    "D_j(\\tau, \\phi) = \\frac{b_j - \\rho \\sigma i \\phi + d_j}{\\sigma^2} \n",
    "\\left(\n",
    "\\frac{1-e^{d_j\\tau}}{1-g_je^{d_j\\tau}}\n",
    "\\right)\n",
    "\\end{equation}\n",
    "\n",
    "and\n",
    "\n",
    "\\begin{equation}\n",
    "C_j (\\tau, \\phi) = ri\\phi \\tau + \\frac{a}{\\sigma^2}\n",
    "\\left[\n",
    "(b_j - \\rho \\sigma i \\phi + d_j)\\tau - 2\\ln \\left(\n",
    "\\frac{1-g_je^{d_j\\tau}}{1-g_j}\n",
    "\\right)\n",
    "\\right]\n",
    "\\end{equation}\n",
    "\n",
    "where $a = \\kappa \\theta$ and \n",
    "\n",
    "\\begin{equation}\n",
    "d_j = \\sqrt{(\\rho \\sigma i \\phi - b_j)^2 - \\sigma^2(2u_j i \\phi - \\phi^2)}\n",
    "\\end{equation}\n",
    "\n",
    "\\begin{equation}\n",
    "g_j = \\frac{b_j - \\rho \\sigma i \\phi + d_j}{b_j - \\rho \\sigma i \\phi - d_j}\n",
    "\\end{equation}\n",
    "\n",
    "and with\n",
    "\n",
    "\\begin{equation}\n",
    "u_1 = \\frac{1}{2} \\quad u_2 = -\\frac{1}{2} \n",
    "\\end{equation}\n",
    "\n",
    "\\begin{equation}\n",
    "b_1 = \\kappa + \\lambda - \\rho \\sigma \\quad b_2 = \\kappa + \\lambda \n",
    "\\end{equation}\n",
    "\n",
    "We will use two functions to implement the Heston call price using the *trapezoidal rule* to solve the integral: *HestonProb* and *HestonPriceTrapz*. The first function calculates the characteristic functions and returns the real part of the integral. Since this is the most complicated calculation, we are going to describe all the single steps befor collect all into the single block function. First of all we define model and option parameters:"
   ]
  },
  {
   "cell_type": "code",
   "execution_count": 11,
   "metadata": {},
   "outputs": [],
   "source": [
    "'''\n",
    "Model Parameters\n",
    "\n",
    "Heston parameters:\n",
    "    kappa  = volatility mean reversion speed parameter\n",
    "    theta  = volatility mean reversion level parameter\n",
    "    lambda = risk parameter\n",
    "    rho    = correlation between two Brownian motions\n",
    "    sigma  = volatility of variance\n",
    "    v0     = initial variance\n",
    "    \n",
    "    phi    = integration variable\n",
    "    Pnum   = 1 or 2 (for the probabilities)\n",
    "'''\n",
    "kappa  = 1.5  \n",
    "theta  = 0.04 \n",
    "sigma  = 0.3 \n",
    "rho    = 1 \n",
    "lambd  = 0.0 \n",
    "v0     = 0.05412 \n",
    "\n",
    "Pnum   = 1\n",
    "phi    = 0.00000001\n",
    "'''\n",
    "Option features\n",
    "\n",
    "    K = strike price\n",
    "    tau = maturity\n",
    "    r = risk free rate\n",
    "    q = dividend yield\n",
    "    S = spot price\n",
    "'''\n",
    "K      = 100.0 \n",
    "tau    = 0.15 \n",
    "r      = 0.02 \n",
    "q      = 0.05 \n",
    "S      = 101.52 "
   ]
  },
  {
   "cell_type": "code",
   "execution_count": 12,
   "metadata": {},
   "outputs": [],
   "source": [
    "import math\n",
    "import cmath\n",
    "\n",
    "x = math.log(S)\n",
    "a = kappa*theta\n",
    "# Parameters \"u\" and \"b\" are different for P1 and P2 (see equations 7 and 8).\n",
    "if(Pnum == 1):\n",
    "    u = 0.5\n",
    "    b = kappa + lambd - rho * sigma\n",
    "else:\n",
    "    u = -0.5\n",
    "    b = kappa + lambd\n"
   ]
  },
  {
   "cell_type": "markdown",
   "metadata": {},
   "source": [
    "Now we can start calculating the factors: $i \\rho\\sigma \\phi$, $2ui \\phi$ and $i \\phi \\tau$  "
   ]
  },
  {
   "cell_type": "code",
   "execution_count": 13,
   "metadata": {},
   "outputs": [],
   "source": [
    "rhosigmaphi = complex(0, rho * sigma * phi)\n",
    "twouphi     = complex(0, 2 * u * phi)\n",
    "phitaui     = complex(0, phi * tau)\n",
    "\n",
    "one         = complex(1, 0)\n",
    "two         = complex(2, 0)"
   ]
  },
  {
   "cell_type": "markdown",
   "metadata": {},
   "source": [
    "which can be used to calculate:\n",
    "\n",
    "\\begin{equation}\n",
    "d_j = \\sqrt{(\\rho \\sigma i \\phi - b_j)^2 - \\sigma^2(2u_j i \\phi - \\phi^2)}\n",
    "\\end{equation}"
   ]
  },
  {
   "cell_type": "code",
   "execution_count": 14,
   "metadata": {},
   "outputs": [
    {
     "data": {
      "text/plain": [
       "(1.2-3.375e-09j)"
      ]
     },
     "execution_count": 14,
     "metadata": {},
     "output_type": "execute_result"
    }
   ],
   "source": [
    "d1 = (rhosigmaphi - complex(b, 0))**2\n",
    "d2 = (twouphi     - complex(phi * phi, 0)) * complex(sigma*sigma, 0)\n",
    "d  = cmath.sqrt(d1 - d2)\n",
    "d"
   ]
  },
  {
   "cell_type": "markdown",
   "metadata": {},
   "source": [
    "and ...\n",
    "\n",
    "\\begin{equation}\n",
    "g_j = \\frac{b_j - \\rho \\sigma i \\phi + d_j}{b_j - \\rho \\sigma i \\phi - d_j}\n",
    "\\end{equation}"
   ]
  },
  {
   "cell_type": "code",
   "execution_count": 15,
   "metadata": {},
   "outputs": [
    {
     "data": {
      "text/plain": [
       "(-16.999999999999996-6399999999.999999j)"
      ]
     },
     "execution_count": 15,
     "metadata": {},
     "output_type": "execute_result"
    }
   ],
   "source": [
    "g = (complex(b, 0) - rhosigmaphi + d)/(complex(b, 0) - rhosigmaphi - d)\n",
    "g"
   ]
  },
  {
   "cell_type": "markdown",
   "metadata": {},
   "source": [
    "Now we compute the ratio ...\n",
    "\n",
    "\\begin{equation}\n",
    "\\frac{1-g_je^{d_j\\tau}}{1-g_j}\n",
    "\\end{equation}"
   ]
  },
  {
   "cell_type": "code",
   "execution_count": 16,
   "metadata": {},
   "outputs": [
    {
     "data": {
      "text/plain": [
       "(1.1972173631218102-5.752760770926336e-10j)"
      ]
     },
     "execution_count": 16,
     "metadata": {},
     "output_type": "execute_result"
    }
   ],
   "source": [
    "BigG = (one - g*cmath.exp(d*complex(tau, 0)))/(one - g)\n",
    "BigG"
   ]
  },
  {
   "cell_type": "markdown",
   "metadata": {},
   "source": [
    "... and finally we can calculate $C_j$:\n",
    "\n",
    "\\begin{equation}\n",
    "C_j (\\tau, \\phi) = (r-q)i\\phi \\tau + \\frac{a}{\\sigma^2}\n",
    "\\left[\n",
    "(b_j - \\rho \\sigma i \\phi + d_j)\\tau - 2\\ln \\left(\n",
    "\\frac{1-g_je^{d_j\\tau}}{1-g_j}\n",
    "\\right)\n",
    "\\right]\n",
    "\\end{equation}"
   ]
  },
  {
   "cell_type": "code",
   "execution_count": 17,
   "metadata": {},
   "outputs": [
    {
     "data": {
      "text/plain": [
       "-4.181870595598485e-11j"
      ]
     },
     "execution_count": 17,
     "metadata": {},
     "output_type": "execute_result"
    }
   ],
   "source": [
    "term2 = (complex(b, 0) - rhosigmaphi + d)\n",
    "term3 = complex(r - q, 0) * phitaui\n",
    "c1    = complex(tau, 0) * term2\n",
    "c2    = two * cmath.log(BigG)\n",
    "c3    = c1 - c2\n",
    "term4 = complex(a/sigma**2, 0) * c3\n",
    "bigC  = term3 + term4\n",
    "bigC"
   ]
  },
  {
   "cell_type": "markdown",
   "metadata": {},
   "source": [
    "... and $D_j$:\n",
    "\n",
    "\\begin{equation}\n",
    "D_j(\\tau, \\phi) = \\frac{b_j - \\rho \\sigma i \\phi + d_j}{\\sigma^2} \n",
    "\\left(\n",
    "\\frac{1-e^{d_j\\tau}}{1-g_je^{d_j\\tau}}\n",
    "\\right)\n",
    "\\end{equation}"
   ]
  },
  {
   "cell_type": "code",
   "execution_count": 18,
   "metadata": {},
   "outputs": [
    {
     "data": {
      "text/plain": [
       "(1.6723187497605994e-18+6.863741191196999e-10j)"
      ]
     },
     "execution_count": 18,
     "metadata": {},
     "output_type": "execute_result"
    }
   ],
   "source": [
    "# (bj - i*rho*sigma*phi + dj) is term2\n",
    "term5 = term2/complex(sigma * sigma, 0)\n",
    "b1    = cmath.exp(d*complex(tau, 0))\n",
    "term6 = (one - b1)/(one - g*b1)\n",
    "bigD  = term5*term6\n",
    "bigD"
   ]
  },
  {
   "cell_type": "markdown",
   "metadata": {},
   "source": [
    "Now we can calculate the *characteristic function*:\n",
    "\n",
    "\\begin{equation}\n",
    "f_j(\\phi; x_t, v_t) = \\exp \\left( C_j(\\tau, \\phi) + D_j(\\tau, \\phi)v_t + i\\phi x_t \\right)\n",
    "\\end{equation}"
   ]
  },
  {
   "cell_type": "code",
   "execution_count": 19,
   "metadata": {},
   "outputs": [
    {
     "data": {
      "text/plain": [
       "(0.9999999999999989+4.619788609543208e-08j)"
      ]
     },
     "execution_count": 19,
     "metadata": {},
     "output_type": "execute_result"
    }
   ],
   "source": [
    "# characteristic function\n",
    "\n",
    "phixi = complex(0, phi * x)\n",
    "f     = cmath.exp(bigC + bigD * complex(v0, 0) + phixi)\n",
    "f"
   ]
  },
  {
   "cell_type": "markdown",
   "metadata": {},
   "source": [
    "and the integrand in the formula for probability:\n",
    "\n",
    "\\begin{equation}\n",
    "\\text{Re} \\left[\n",
    "\\frac{e^{-i\\phi \\ln K}f_j(\\phi;x,v)}{i\\phi}\n",
    "\\right]\\\n",
    "\\end{equation}"
   ]
  },
  {
   "cell_type": "code",
   "execution_count": 20,
   "metadata": {},
   "outputs": [
    {
     "data": {
      "text/plain": [
       "0.014618423555117976"
      ]
     },
     "execution_count": 20,
     "metadata": {},
     "output_type": "execute_result"
    }
   ],
   "source": [
    "philogKi   = complex(0, -math.log(K) * phi)\n",
    "e1         = cmath.exp(philogKi)\n",
    "e2         = e1 * f\n",
    "E          = e2/complex(0, phi)\n",
    "HestonProb = E.real\n",
    "HestonProb"
   ]
  },
  {
   "cell_type": "markdown",
   "metadata": {},
   "source": [
    "### Probability Density Function\n",
    "\n",
    "Below we simply put all the pieces together in a single function:"
   ]
  },
  {
   "cell_type": "code",
   "execution_count": 21,
   "metadata": {},
   "outputs": [],
   "source": [
    "def HestonProb(phi,kappa,theta,lambd,rho,sigma,tau,K,S,r,q,v0,Pnum):\n",
    "    \n",
    "    x      = math.log(S)\n",
    "\n",
    "    a = kappa*theta\n",
    "    # Parameters \"u\" and \"b\" are different for P1 and P2.\n",
    "    if(Pnum == 1):\n",
    "        u = 0.5\n",
    "        b = kappa + lambd - rho * sigma\n",
    "    else:\n",
    "        u = -0.5\n",
    "        b = kappa + lambd\n",
    "    \n",
    "    rhosigmaphi = complex(0, rho * sigma * phi)\n",
    "    twouphi     = complex(0, 2 * u * phi)\n",
    "    phitaui     = complex(0, phi * tau)\n",
    "\n",
    "    d1   = (rhosigmaphi - complex(b, 0))**2\n",
    "    d2   = (twouphi     - complex(phi * phi, 0)) * complex(sigma*sigma, 0)\n",
    "    d    = cmath.sqrt(d1 - d2)\n",
    "\n",
    "    g    = (complex(b, 0) - rhosigmaphi + d)/(complex(b, 0) - rhosigmaphi - d)\n",
    "    BigG = (1 - g*cmath.exp(d*complex(tau, 0)))/(1 - g)\n",
    "\n",
    "    term2 = (complex(b, 0) - rhosigmaphi + d)\n",
    "    term3 = complex(r - q, 0) * phitaui\n",
    "    c1    = complex(tau, 0) * term2\n",
    "    c2    = 2 * cmath.log(BigG)\n",
    "    c3    = c1 - c2\n",
    "    term4 = complex(a/sigma**2, 0) * c3\n",
    "    bigC  = term3 + term4\n",
    "    \n",
    "    term5 = term2/complex(sigma * sigma, 0)\n",
    "    b1    = cmath.exp(d*complex(tau, 0))\n",
    "    term6 = (1 - b1)/(1 - g*b1)\n",
    "    bigD  = term5*term6\n",
    "\n",
    "    dv0   = bigD * complex(v0, 0)\n",
    "    phixi = complex(0, phi * x)\n",
    "    f     = cmath.exp(bigC + dv0 + phixi)\n",
    "\n",
    "    philogKi   = complex(0, -math.log(K) * phi)\n",
    "    e1         = cmath.exp(philogKi)\n",
    "    e2         = e1 * f\n",
    "    E          = e2/complex(0, phi)\n",
    "    HestonProb = E.real\n",
    "\n",
    "    return HestonProb"
   ]
  },
  {
   "cell_type": "code",
   "execution_count": 22,
   "metadata": {},
   "outputs": [
    {
     "name": "stdout",
     "output_type": "stream",
     "text": [
      "0.014618423555117976\n"
     ]
    }
   ],
   "source": [
    "print(HestonProb(phi,kappa,theta,lambd,rho,sigma,tau,K,S,r,q,v0,Pnum))"
   ]
  },
  {
   "cell_type": "markdown",
   "metadata": {},
   "source": [
    "## Pricing an European Call Option"
   ]
  },
  {
   "cell_type": "markdown",
   "metadata": {},
   "source": [
    "\\begin{equation}\n",
    "C(K)= S_t P_1 - K e^{-r\\tau}P_2\n",
    "\\end{equation}"
   ]
  },
  {
   "cell_type": "code",
   "execution_count": 23,
   "metadata": {},
   "outputs": [],
   "source": [
    "def HestonPriceTrapz(PutCall,kappa,theta,lambd,rho,sigma,T,K,S,r,q,v0,trap,Lphi,Uphi,N):\n",
    "    '''\n",
    "    ' Heston (1993) price of a European option.\n",
    "    ' Uses the original formulation by Heston\n",
    "    ' Heston parameters:\n",
    "    '    kappa  = volatility mean reversion speed parameter\n",
    "    '    theta  = volatility mean reversion level parameter\n",
    "    '    lambda = risk parameter\n",
    "    '    rho    = correlation between two Brownian motions\n",
    "    '    sigma  = volatility of variance\n",
    "    '    v0     = initial variance\n",
    "    ' Option features.\n",
    "    '    PutCall = 'C'all or 'P'ut\n",
    "    '    K = strike price\n",
    "    '    S = spot price\n",
    "    '    r = risk free rate\n",
    "    '    q = dividend yield\n",
    "    '    T = maturity\n",
    "    ' Integration features\n",
    "    '    Lphi = lower limit\n",
    "    '    Uphi = upper limit\n",
    "    '    N    = Number of grid points\n",
    "    '''        "
   ]
  },
  {
   "cell_type": "code",
   "execution_count": 24,
   "metadata": {},
   "outputs": [],
   "source": [
    "    N = 500\n",
    "    T = tau\n",
    "    \n",
    "    Lphi = 0.00000001\n",
    "    Uphi = 150\n",
    "\n",
    "    dphi = (Uphi - Lphi) / (N - 1)\n",
    "    phi  = np.arange(Lphi, Uphi+dphi, dphi)\n",
    "    \n",
    "    # Weights for trapezoidal rule\n",
    "    W = np.full(N, dphi)\n",
    "    W[0] = W[N-1] = 0.5*dphi\n",
    "    \n",
    "    int1 = np.array([HestonProb(ph, kappa, theta, lambd, rho, sigma, T, K, S, r, q, v0, 1) for ph in phi])*W\n",
    "    int2 = np.array([HestonProb(ph, kappa, theta, lambd, rho, sigma, T, K, S, r, q, v0, 2) for ph in phi])*W\n",
    "    \n",
    "    I1 = np.sum(int1)\n",
    "    I2 = np.sum(int2)\n",
    "    \n",
    "    P1 = 0.5 + 1 / np.pi * I1\n",
    "    P2 = 0.5 + 1 / np.pi * I2\n",
    "\n",
    "    # The call price\n",
    "    HestonC = S * math.exp(-q * T) * P1 - K * math.exp(-r * T) * P2\n",
    "\n",
    "    # The put price by put-call parity\n",
    "    HestonP = HestonC - S * math.exp(-q * T) + K * math.exp(-r * T)\n"
   ]
  },
  {
   "cell_type": "code",
   "execution_count": 25,
   "metadata": {},
   "outputs": [
    {
     "name": "stdout",
     "output_type": "stream",
     "text": [
      "Call price : 4.0490387831701184\n",
      "Put  price : 2.9880402082684867\n"
     ]
    }
   ],
   "source": [
    "print('Call price : ' + str(HestonC))\n",
    "print('Put  price : ' + str(HestonP))"
   ]
  },
  {
   "cell_type": "markdown",
   "metadata": {},
   "source": [
    "Of course we could have used directly the 'trapz' method of Numpy library. Below the simple code to obtain the same result as above..."
   ]
  },
  {
   "cell_type": "code",
   "execution_count": 26,
   "metadata": {},
   "outputs": [],
   "source": [
    "    y1 = np.array([HestonProb(ph, kappa, theta, lambd, rho, sigma, T, K, S, r, q, v0, 1) for ph in phi])\n",
    "    y2 = np.array([HestonProb(ph, kappa, theta, lambd, rho, sigma, T, K, S, r, q, v0, 2) for ph in phi])\n",
    "    \n",
    "    # call trapz method of numply\n",
    "    I1np = np.trapz(y1, phi)\n",
    "    I2np = np.trapz(y2, phi)\n",
    "\n",
    "    P1np = 0.5 + 1 / np.pi * I1np\n",
    "    P2np = 0.5 + 1 / np.pi * I2np\n",
    "\n",
    "    # The call price\n",
    "    HestonC2 = S * math.exp(-q * T) * P1np - K * math.exp(-r * T) * P2np\n",
    "\n",
    "    # The put price by put-call parity\n",
    "    HestonP2 = HestonC - S * math.exp(-q * T) + K * math.exp(-r * T)\n"
   ]
  },
  {
   "cell_type": "code",
   "execution_count": 27,
   "metadata": {},
   "outputs": [
    {
     "name": "stdout",
     "output_type": "stream",
     "text": [
      "Call price : 4.0490387831701184\n",
      "Put  price : 2.9880402082684867\n"
     ]
    }
   ],
   "source": [
    "print('Call price : ' + str(HestonC2))\n",
    "print('Put  price : ' + str(HestonP2))"
   ]
  },
  {
   "cell_type": "markdown",
   "metadata": {},
   "source": [
    "## Finite Differences for Heston Model"
   ]
  },
  {
   "cell_type": "markdown",
   "metadata": {},
   "source": [
    "Now, having a challenge algorithm, we can start to work on the main problem of this lesson: the solution of the Heston PDE equation in Two Dimension with Finite Difference Method. We first show how to construct uniform and nonuniform grids for the discretization of the stock price and the volatility, and present formulas for finite difference approximations to the derivatives in the Heston PDE. Next, we explain the boundary conditions of the PDE for a European call and then we will implement an Explicit scheme."
   ]
  },
  {
   "cell_type": "markdown",
   "metadata": {},
   "source": [
    "### Explicit Scheme"
   ]
  },
  {
   "cell_type": "code",
   "execution_count": 28,
   "metadata": {},
   "outputs": [],
   "source": [
    "# Heston Parameters\n",
    "params = (kappa, theta, sigma, v0, rho, lambd)"
   ]
  },
  {
   "cell_type": "code",
   "execution_count": 29,
   "metadata": {},
   "outputs": [],
   "source": [
    "# Boundary Values for Stock Price, Volatility, and Maturity\n",
    "\n",
    "Smin = 0.0000\n",
    "Smax = 2 * K\n",
    "Vmin = 0 \n",
    "Vmax = 0.5\n",
    "Tmin = 0\n",
    "Tmax = 0.15\n",
    "\n",
    "# Number of Steps in Each Dimension\n",
    "\n",
    "NS = 30\n",
    "NV = 30\n",
    "NT = 1500"
   ]
  },
  {
   "cell_type": "code",
   "execution_count": 30,
   "metadata": {},
   "outputs": [],
   "source": [
    "# Option Features\n",
    "Strike = K"
   ]
  },
  {
   "cell_type": "code",
   "execution_count": 31,
   "metadata": {},
   "outputs": [
    {
     "name": "stdout",
     "output_type": "stream",
     "text": [
      "6.896551724137931 0.017241379310344827 0.00010006671114076051\n"
     ]
    }
   ],
   "source": [
    "'''\n",
    "' Finite differences for the Heston PDE for a European Call\n",
    "' Reference:\n",
    "' In 'T Hout and Foulon \"ADI Finite Difference Schemes for Option Pricing in the Heston Model with Correlation\" \n",
    "' Int J of Num Analysis and Modeling, 2010.\n",
    "' INPUTS\n",
    "'    params     = 6x1 vector of Heston parameters\n",
    "'    Strike     = Strike price\n",
    "'    r          = risk free rate\n",
    "'    q          = Dividend yield\n",
    "'    Smax, Smin = Max and Min values of stock price\n",
    "'    Vmax, Vmin = Max and Min values of volatility\n",
    "'    Tmax, Tmin = Max and Min values of maturity\n",
    "'    NS, NV, NT = Number of points on stock price, volatility, and maturity grids\n",
    "'    GridType   = Type of Grid (\"Uniform\" or \"NonUniform\")\n",
    "'    Si         = Value of Spot price at which to interpolate on U(S,V)\n",
    "'    Vi         = Value of Volatility at which to interpolate on U(S,V)\n",
    "' OUTPUT\n",
    "'    U(Si,Vi)   = Interpolated value of U(S,V) and points (Si,Vi)\n",
    "'''\n",
    "# Heston parameters. Note: only kappa, theta, and sigma are needed\n",
    "kappa = params[0]\n",
    "theta = params[1]\n",
    "sigma = params[2]\n",
    "\n",
    "# Increment for Stock Price, Volatility, and Maturity\n",
    "ds = (Smax - Smin) / (NS - 1)\n",
    "dv = (Vmax - Vmin) / (NV - 1)\n",
    "dt = (Tmax - Tmin) / (NT - 1)\n",
    "\n",
    "print(ds, dv, dt)"
   ]
  },
  {
   "cell_type": "markdown",
   "metadata": {},
   "source": [
    "### Building Grid"
   ]
  },
  {
   "cell_type": "markdown",
   "metadata": {},
   "source": [
    "Uniform grids are those that have equally spaced increments for the two state\n",
    "variables. These grids have two advantages: first, they are easy to construct, and\n",
    "second, since the increments are equal, the finite difference approximations to\n",
    "the derivatives in the PDE take on a simple form. Non-uniform grids are more\n",
    "complicated to construct, and the finite difference approximations to the derivatives\n",
    "are more complicated. These grids, however, can be made finer around\n",
    "certain points, in particular, around the region $(S, v) = (K, 0)$ where option prices\n",
    "are often required. Hence, non-uniform grids are often preferable since they produce\n",
    "more accurate prices with fewer grid points, and consequently, with less\n",
    "computation time."
   ]
  },
  {
   "cell_type": "markdown",
   "metadata": {},
   "source": [
    "#### Building a Uniform Grid"
   ]
  },
  {
   "cell_type": "markdown",
   "metadata": {},
   "source": [
    "We denote the maximum values of $S$, $v$, and $t$ as $Smax$, $Vmax$ and $Tmax = \\tau$ (the maturity), and the minimum values as $Smin$, $Vmin$, and $Tmin= 0$. We denote by $U^n_{i, j}= U(S_i, v_j, t_n)$ the value of an option at time $t_n$ when the stock price is $S_i$ and the volatility is $v_j$. We use $NS+ 1$ points for the stock price, $NV+ 1$ points for the volatility, and $NT+ 1$ points for the maturity. For convenience, sometimes we write simply $U(S_i, v_j)$ for $U^n_{i, j}$.\n",
    "\n",
    "Using the minimum values $Smin= Vmin= 0$ a uniform grid for $(S, v, t)$ can be constructed as\n",
    "\n",
    "\\begin{align*}\n",
    "&S_i = i \\times ds \\quad &i=0,1,\\dots, NS \\\\\n",
    "&v_j = j \\times dv \\quad &j=0,1,\\dots, NV \\\\\n",
    "&t_n = n \\times dt \\quad &n=0,1,\\dots, NT\n",
    "\\end{align*}"
   ]
  },
  {
   "cell_type": "code",
   "execution_count": 32,
   "metadata": {},
   "outputs": [
    {
     "name": "stdout",
     "output_type": "stream",
     "text": [
      "(1500,) (30,) (30,)\n"
     ]
    }
   ],
   "source": [
    "# Building a Uniform Grid\n",
    "Mat  = np.arange(Tmin, Tmax + dt, dt)\n",
    "Spot = np.arange(Smin, Smax + ds, ds)\n",
    "Vol  = np.arange(Vmin, Vmax + dv, dv)  \n",
    "# Make sure the array have the right dimension\n",
    "Mat  = Mat[:NT]\n",
    "Spot = Spot[:NS]\n",
    "Vol  = Vol[:NV]\n",
    "# Sanity check\n",
    "print(Mat.shape, Spot.shape, Vol.shape)"
   ]
  },
  {
   "cell_type": "markdown",
   "metadata": {},
   "source": [
    "#### Approximation of Derivatives\n",
    "\n",
    "Recall that we use the notation $U^n_{i,j}, U(S_i, v_j, t_n)$, or $U(S_i, v_j)$ to represent the value of a European option at time $t_n$ when the stock price is $S_i$ and the volatility is $v_j$. Whenever possible throughout this notebook, we use central difference approximations to the first- and second-order derivatives in the $S$ and $v$ directions in the PDE for $U^n_{i,j}$. In general, as we have already seen in the previous notebook, first- and second-order derivatives of $U^n_{i,j}$ at a point $(S_i, v_j)$ on the grid can be written in terms of sums of values of $U$ at points adjacent to $(S_i, v_j)$. Using a uniform grid we can write:"
   ]
  },
  {
   "cell_type": "markdown",
   "metadata": {},
   "source": [
    "\\begin{align}\n",
    "%--> second derivative of U with respect to S\n",
    "&\\frac{\\partial^2 U}{\\partial S^2} \\sim\n",
    "\\frac{U^{n}_{i+1,j} - 2 U^{n}_{i,j} + U^{n}_{i-1,j}}{(ds)^2} \\\\\n",
    "%-->  mixed second derivative of U with respect to S and v \n",
    "&\\frac{\\partial^2 U}{\\partial S \\partial v} \\sim\n",
    "\\frac{U^{n}_{i+1,j+1} + U^{n}_{i-1,j-1} - U^{n}_{i-1,j+1} - U^{n}_{i+1,j-1}}{4\\,ds\\,dv} \\\\\n",
    "%-->  second derivative of U with respect to v \n",
    "&\\frac{\\partial^2 U}{\\partial v^2} \\sim\n",
    "\\frac{U^{n}_{i,j+1} - 2 U^{n}_{i,j} + U^{n}_{i,j-1}}{(dv)^2} \\\\\n",
    "%-->  first derivative of U with respect to S \n",
    "&\\frac{\\partial U}{\\partial S} \\sim\n",
    "\\frac{U^{n}_{i+1,j} - U^{n}_{i-1,j}}{2\\,ds} \\\\\n",
    "%-->  first derivative of U with respect to v \n",
    "&\\frac{\\partial U}{\\partial v} \\sim\n",
    "\\frac{U^{n}_{i,j+1} - U^{n}_{i,j-1}}{2\\,dv}\n",
    "\\end{align}"
   ]
  },
  {
   "cell_type": "markdown",
   "metadata": {},
   "source": [
    "#### Discretization Scheme\n",
    "\n",
    "The explicit scheme produces an expression for the PDE that is very simple when the grids are uniform. Lets' re-write the PDE in the following form:\n",
    "\n",
    "\\begin{equation}\n",
    "    U_{i,j}^{n+1} = U_{i,j}^{n} + dt \\left[\n",
    "    \\frac{1}{2}v S^2 \\frac{\\partial^2}{\\partial S^2} +\n",
    "    \\rho \\sigma v S \\frac{\\partial^2}{\\partial v \\partial S} + \\frac{1}{2} \\sigma^2 v  \\frac{\\partial^2}{\\partial v^2}\n",
    "    -r + (r-q)S \\frac{\\partial}{\\partial S} + \\kappa(\\theta-v)\\frac{\\partial}{\\partial v}\n",
    "    \\right] U_{i,j}^{n}\n",
    "\\end{equation}\n",
    "\n",
    "Now we substitute the approximations to the derivatives under a uniform grid to obtain\n",
    "\n",
    "\\begin{align}\n",
    "U_{i,j}^{n+1} &= U_{i,j}^{n} + dt \\Biggl[\\frac{1}{2} v_j S_i^2  \\frac{U^{n}_{i+1,j} - 2 U^{n}_{i,j} + U^{n}_{i-1,j}}{(ds)^2} \\notag\\\\\n",
    "& + \\rho \\sigma v_j S_i  \\frac{U^{n}_{i+1,j+1} + U^{n}_{i-1,j-1} - U^{n}_{i-1,j+1} - U^{n}_{i+1,j-1}}{4\\,ds\\,dv}             \\notag\\\\\n",
    "& + \\frac{1}{2} \\sigma^2 v_j   \\frac{U^{n}_{i,j+1} - 2 U^{n}_{i,j} + U^{n}_{i,j-1}}{(dv)^2}       \\notag\\\\\n",
    "& + (r-q)S_i   \\frac{U^{n}_{i+1,j} - U^{n}_{i-1,j}}{2\\,ds}                                        \\notag\\\\\n",
    "& + \\kappa(\\theta-v) \\frac{U^{n}_{i,j+1} - U^{n}_{i,j-1}}{2\\,dv}\\Biggr] - r\\, dt\\,  U_{i,j}^{n}\n",
    "\\end{align}\n",
    "\n",
    "Grouping common terms "
   ]
  },
  {
   "cell_type": "markdown",
   "metadata": {},
   "source": [
    "\\begin{align}\n",
    "U_{i,j}^{n+1} &=\\Biggl[1 - dt \\Biggl(v_j \\frac{S_i^2}{(ds)^2} + \\sigma^2 \\frac{v_j}{(dv)^2} + r\\Biggr)\\Biggr]U_{i,j}^{n} \\notag\\\\\n",
    "&+ dt \\, \\Biggl[ \\frac{v_jS_i^2}{2(ds)^2} - \\frac{(r-q)S_i}{2\\,ds}\\Biggr] U^n_{i-1,j}   \\notag\\\\\n",
    "&+ dt \\, \\Biggl[ \\frac{v_jS_i^2}{2(ds)^2} + \\frac{(r-q)S_i}{2\\,ds}\\Biggr] U^n_{i+1,j}   \\notag\\\\\n",
    "&+ dt \\, \\Biggl[ \\frac{\\sigma^2 v_j}{2(dv)^2} - \\frac{\\kappa(\\theta - v_j)}{2\\, dv}\\Biggr] U^n_{i,j-1} \\notag\\\\\n",
    "&+ dt \\, \\Biggl[ \\frac{\\sigma^2 v_j}{2(dv)^2} + \\frac{\\kappa(\\theta - v_j)}{2\\, dv} \\Biggr] U^n_{i,j+1} \\notag\\\\\n",
    "&+ dt \\, \\frac{\\rho \\sigma v_j S_i}{4\\,ds\\,dv} \\Biggl( U^{n}_{i+1,j+1} + U^{n}_{i-1,j-1} - U^{n}_{i-1,j+1} - U^{n}_{i+1,j-1}\\Biggr)\n",
    "\\end{align}"
   ]
  },
  {
   "cell_type": "markdown",
   "metadata": {},
   "source": [
    "Noting that $S_i = i \\times ds$ and $v_j \\times dv$ we obtain"
   ]
  },
  {
   "cell_type": "markdown",
   "metadata": {},
   "source": [
    "\n",
    "\\begin{align}\n",
    "&C_1= \\Biggl[1 - dt \\Biggl(j \\, dv \\frac{i^2 \\, (ds)^2}{(ds)^2} + \\sigma^2 \\frac{j \\, dv}{(dv)^2} + r\\Biggr)\\Biggr] \n",
    "= \\Biggl[1 - dt \\Biggl(i^2 j \\, dv  + \\frac{\\sigma^2 j}{dv} + r\\Biggr)\\Biggr] \\notag\\\\\n",
    "&C_2= dt \\, \\Biggl[ \\frac{j \\, dv \\,i^2 \\, (ds)^2}{2(ds)^2} - \\frac{(r-q)i \\, ds}{2\\,ds}\\Biggr]  =\n",
    "\\Biggl[\\frac{i\\,dt}{2}(ij\\, dv -r +q) \\Biggr]\\notag\\\\\n",
    "&C_3= dt \\, \\Biggl[ \\frac{j \\, dv \\,i^2 \\, (ds)^2}{2(ds)^2} + \\frac{(r-q)i \\, ds}{2\\,ds}\\Biggr]  =\n",
    "\\Biggl[\\frac{i\\,dt}{2}(ij\\, dv +r -q) \\Biggr]\\notag\\\\\n",
    "&C_4= dt \\, \\Biggl[ \\frac{\\sigma^2 j \\, dv}{2(dv)^2} - \\frac{\\kappa(\\theta - j \\, dv)}{2\\, dv}\\Biggr] =\n",
    "\\Biggl[ \\frac{dt}{2\\, dv} \\Biggl( \\sigma^2 j - \\kappa(\\theta - j\\, dv) \\Biggr) \\Biggr]\\notag\\\\\n",
    "&C_5= dt \\, \\Biggl[ \\frac{\\sigma^2 j \\, dv}{2(dv)^2} + \\frac{\\kappa(\\theta - j \\, dv)}{2\\, dv}\\Biggr] =\n",
    "\\Biggl[ \\frac{dt}{2\\, dv} \\Biggl( \\sigma^2 j + \\kappa(\\theta - j\\, dv) \\Biggr) \\Biggr]\\notag\\\\\n",
    "&C_6= dt \\, \\frac{\\rho \\sigma j \\, dv i \\, ds}{4\\,ds\\,dv}  = \\frac{\\rho \\sigma j \\, i \\, dt}{4} \n",
    "\\end{align}"
   ]
  },
  {
   "cell_type": "markdown",
   "metadata": {},
   "source": [
    "\\begin{equation}\n",
    "U^{n+1}_{i,j} = C_1 U^{n}_{i,j} + C_2 U^{n}_{i-1,j} + C_3 U^{n}_{i+1,j} + C_4 U^{n}_{i,j-1} + C_5 U^{n}_{i,j+1} +\n",
    "C_6  \\left(U^{n}_{i+1,j+1} + U^{n}_{i-1,j-1} - U^{n}_{i-1,j+1} -U^{n}_{i+1,j-1} \\right)\n",
    "\\end{equation}"
   ]
  },
  {
   "cell_type": "markdown",
   "metadata": {},
   "source": [
    "#### Boundary Conditions for the PDE\n",
    "\n",
    "Boundary conditions for the PDE in Equation (10.1) for a European call are explained by Heston (1993) and by In’T Hout and Foulon (2010), among others. We describe them in the following paragraphs for a European call option, the generalization to other kind of payoff is left to the reader as an exercise.\n",
    "\n",
    "**Boundary Condition at Maturity**.\n",
    "\n",
    "At maturity $(t = 0)$ the value of the call is its intrinsic value (the payoff)\n",
    "\n",
    "$$U(S_i, v_j, 0) = max(0, S_i− K)$$\n",
    "\n",
    "This implies that the boundary condition for $t = 0$ is \n",
    "\n",
    "$$\n",
    "U^0_{i, j} =  (S_i− K)^+ \\quad \\text{ for } i = 0, 1, \\dots ,N_S \\text{ and } j = 0, 1, \\dots ,N_V\n",
    "$$\n",
    "\n",
    "**Boundary Contition for $S=S_{min}$**\n",
    "\n",
    "When $S = Smin= 0$, the call is worthless. Hence, we have $U(0, v_j, t_n) = 0$ and the\n",
    "boundary condition is \n",
    "\n",
    "$$\n",
    "U^n_{0, j} = 0 \\quad \\text{ for } n = 0, \\dots ,N_T \\text{ and }  j = 0, 1, \\dots ,N_V\n",
    "$$\n",
    "\n",
    "**Boundary Contition for $S=S_{max}$**\n",
    "\n",
    "As $S$ becomes large, delta for the call option approaches one. Hence, for $S = Smax$, we have\n",
    "\n",
    "$$\n",
    "\\frac{\\partial U}{\\partial S}(Smax, v_j, t_n) = 1\n",
    "$$\n",
    "\n",
    "The boundary condition for $Smax$ is, therefore, \n",
    "\n",
    "$$\n",
    "U^n_{N_S, j} = Smax - K e^{-rT} \\quad \\text{ for } n = 0, \\dots ,N_T \\text{ and } j = 0, . . . ,N_V\n",
    "$$\n",
    "\n",
    "**Boundary Contition for $v=v_{max}$**\n",
    "\n",
    "When $v$ becomes large, we have $U(S_i, vmax, t_n) = S_i$. The boundary condition for $vmax$ is, therefore:\n",
    "\n",
    "$$\n",
    "U^n_{i,N_V} = S_i \\quad \\text{ for } n = 0, \\dots ,N_T, \\text{ and } i = 0, \\dots ,N_S\n",
    "$$\n",
    "\n",
    "Since at $vmax$ we have $U = S_i$ and, therefore, $\\partial U / \\partial S = 1$.\n",
    "\n",
    "**Boundary Contition for $v=v_{min}$**. \n",
    "\n",
    "When $v=v_{min}=0$, the boundary condition is a little more complicated. When $v=0$ the PDE becomes\n",
    "\n",
    "\\begin{equation}\n",
    "\\frac{\\partial U}{\\partial t} = -rU +(r-q) S \\frac{\\partial U}{\\partial S} + \\kappa \\theta \\frac{\\partial U}{\\partial v}\n",
    "\\end{equation}\n",
    "\n",
    "We can use central difference for $\\partial U / \\partial S$\n",
    "\n",
    "\\begin{equation}\n",
    "\\frac{\\partial U}{\\partial S}(i,0,t_n) \\simeq\\frac{U(t,i+1,0) - U(t,i-1,0)}{dS}\n",
    "\\end{equation}\n",
    "\n",
    "and forward difference for $\\partial U / \\partial v$\n",
    "\n",
    "\\begin{equation}\n",
    "\\frac{\\partial U}{\\partial v}(i,0,t_n) \\simeq \\frac{U(t,i,1) - U(t,i,0)}{dv}\n",
    "\\end{equation}\n"
   ]
  },
  {
   "cell_type": "markdown",
   "metadata": {},
   "source": [
    "\\begin{align*}\n",
    "\\frac{U(t+1,i,0)-U(t,i,0)}{dt} &= -rU(t,i,0) + (r-q)S \\frac{U(t,i+1,0)-U(t,i-1,0)}{2dS} \\\\\n",
    "&+ \\kappa \\theta \\frac{U(t,i,1)-U(t,i,0)}{dv} \\notag\n",
    "\\end{align*}\n",
    "\n",
    "\\begin{align*}\n",
    "U(t+1,i,0) &= U(t,i,0) - rU(t,i,0) dt + \\frac{1}{2}(r-q)S \\frac{dt}{dS} \\left(U(t,i+1,0)-U(t,i-1,0)\\right) \\\\\n",
    "&+ \\kappa \\theta \\frac{dt}{dv}\\left( U(t,i,1)-U(t,i,0) \\right) \\\\\n",
    "&= U(t,i,0) \\left(1-rdt- \\kappa \\theta \\frac{dt}{dv}\\right) \\\\\n",
    "&+ \\frac{1}{2}(r-q)S \\frac{dt}{dS} \\left(U(t,i+1,0)-U(t,i-1,0)\\right)\\\\\n",
    "&+ \\kappa \\theta \\frac{dt}{dv}U(t,i,1)\n",
    "\\end{align*}"
   ]
  },
  {
   "cell_type": "code",
   "execution_count": 33,
   "metadata": {},
   "outputs": [],
   "source": [
    "# Initialize the 2-D grid with zeros\n",
    "U = np.zeros((NS, NV))\n",
    "\n",
    "# Temporary grid for previous time steps\n",
    "u = np.zeros((NS, NV))\n",
    "\n",
    "# Boundary condition for Call Option at t = Maturity\n",
    "for j in arange(NV):\n",
    "    U[:,j] = np.maximum(Spot - Strike, 0)\n",
    "\n",
    "# loop on maturity\n",
    "for tt in np.arange(NT):\n",
    "    # Boundary condition for Smin and Smax\n",
    "    U[0,:]    = 0\n",
    "    # CHECK!!!! It should be : = Smax - Strike*exp(-r*T) it's the same only because we are using r = 0\n",
    "    U[NS-1,:] = np.max(Smax - Strike, 0)\n",
    "    # Boundary condition for Vmax\n",
    "    U[:,NV-1] = np.maximum(Spot - Strike, 0)\n",
    "    # Update the temporary grid u(s,t) with the boundary conditions\n",
    "    u = U\n",
    "    # Boundary condition for Vmin.\n",
    "    # Previous time step values are in the temporary grid u(s,t)\n",
    "    for ss in np.arange(1, NS-1):\n",
    "        U[ss, 0] = u[ss, 0] * (1 - r * dt - kappa * theta * (dt/dv))      \\\n",
    "               + dt * 0.5 * (r - q) * (ss+1) * (u[ss + 1, 0] - u[ss - 1, 0])  \\\n",
    "               + kappa * theta * (dt/dv) * u[ss, 1]\n",
    "    \n",
    "    # Update the temporary grid u(s,t) with the boundary conditions\n",
    "    u = U\n",
    "    # Interior points of the grid (non boundary).\n",
    "    # As usual previous time step values are in the temporary grid u(s,t)\n",
    "    for ss in np.arange(1, NS - 1):\n",
    "        for vv in np.arange(1, NV - 1):\n",
    "            C1 = (1 - dt * ss * ss * vv * dv - sigma * sigma * vv * dt / dv - r * dt)\n",
    "            C2 = (1 / 2 * dt * ss * ss * vv * dv - 1 / 2 * dt * (r - q) * ss)\n",
    "            C3 = (1 / 2 * dt * ss * ss * vv * dv + 1 / 2 * dt * (r - q) * ss)\n",
    "            C4 = (1 / 2 * dt * sigma * sigma * vv / dv - 1 / 2 * dt * kappa * (theta - vv * dv) / dv)\n",
    "            C5 = (1 / 2 * dt * sigma * sigma * vv / dv + 1 / 2 * dt * kappa * (theta - vv * dv) / dv)\n",
    "            C6 = 1 / 4 * dt * sigma * ss * vv\n",
    "            # The PDE\n",
    "            U[ss, vv] = C1 * u[ss, vv] + C2 * u[ss - 1, vv] + C3 * u[ss + 1, vv] \\\n",
    "                   + C4 * u[ss, vv - 1] + C5 * u[ss, vv + 1] \\\n",
    "                   + C6 * (u[ss + 1, vv + 1] + u[ss - 1, vv - 1] - u[ss - 1, vv + 1] - u[ss + 1, vv - 1])\n"
   ]
  },
  {
   "cell_type": "code",
   "execution_count": 34,
   "metadata": {},
   "outputs": [],
   "source": [
    "df = pd.DataFrame(U, index = Spot.round(4), columns=Vol.round(4))\n",
    "\n",
    "df = df.round(4)\n",
    "df.to_csv('out.txt', sep=';')"
   ]
  },
  {
   "cell_type": "code",
   "execution_count": 35,
   "metadata": {},
   "outputs": [
    {
     "name": "stdout",
     "output_type": "stream",
     "text": [
      "European Option Price (Heston Model) = 4.2767840265270465\n"
     ]
    }
   ],
   "source": [
    "import scipy.interpolate\n",
    "\n",
    "f = scipy.interpolate.interp2d(Vol, Spot, U)\n",
    "\n",
    "Si = S\n",
    "vi = v0\n",
    "\n",
    "print(\"European Option Price (Heston Model) = \" + str(f(vi, Si)[0]))"
   ]
  },
  {
   "cell_type": "markdown",
   "metadata": {},
   "source": [
    "### Non Uniform Grid\n",
    "\n",
    "In’T Hout and Foulon (2010) describe a non-uniform grid that is finer around the strike price $K$ and around the spot volatility $v_0= 0$. Their grid of size $N_S+ 1$ for the stock price is\n",
    "\n",
    "$$\n",
    "S_i = K + c \\, \\sinh(\\xi_i), \\quad i=0,\\dots,N_S\n",
    "$$\n",
    "\n",
    "where we select $c= K/5$ and where $\\xi_i = \\sinh^{-1}(-K/c) + i \\Delta \\xi$ with\n",
    "\n",
    "$$\n",
    "\\Delta \\xi = \\frac{1}{N_S-1} \\left[\\sinh^{-1}\\left(\\frac{S_{max}-K}{c} \\right) - \\sinh^{-1}\\left( \\frac{-K}{c}\\right) \\right]\n",
    "$$\n",
    "\n",
    "The grid of size $N_v +1$ for the volatility is\n",
    "\n",
    "$$\n",
    "v_j = d \\, \\sinh \\left( j \\Delta \\eta \\right), \\quad j=0,\\dots,N_V\n",
    "$$\n",
    "\n",
    "with $\\Delta \\eta = \\sinh^{-1}(V_{max}/d)/(N_V-1)$\n",
    "\n",
    "The BuildGrid function is used throughout to construct uniform and nonuniform grids."
   ]
  },
  {
   "cell_type": "code",
   "execution_count": 47,
   "metadata": {},
   "outputs": [],
   "source": [
    "def BuildGrid(grid_type, p_grid, p_option):\n",
    "    \n",
    "    K     = p_option['Strike']\n",
    "    Smax  = p_grid['Smax']\n",
    "    Smin  = p_grid['Smin']\n",
    "    Vmax  = p_grid['Vmax']\n",
    "    Vmin  = p_grid['Vmin']\n",
    "    NS    = p_grid['NS']\n",
    "    NV    = p_grid['NV']\n",
    "    \n",
    "    if grid_type == 'uniform':\n",
    "        # Increment for Stock Price, Volatility, and Maturity\n",
    "        ds = (Smax - Smin) / (NS - 1)\n",
    "        dv = (Vmax - Vmin) / (NV - 1)\n",
    "        # Building a Uniform Grid\n",
    "        Spot = np.arange(Smin, Smax + ds, ds)\n",
    "        Vol  = np.arange(Vmin, Vmax + dv, dv)  \n",
    "        # Make sure the array have the right dimension\n",
    "        Spot = Spot[:NS]\n",
    "        Vol  = Vol[:NV]\n",
    "    else:\n",
    "        C = K / 5\n",
    "        dz = 1 / (NS - 1) * (math.asinh((Smax - K) / C) - math.asinh(-K / C))\n",
    "        # The Spot Price Grid\n",
    "        Z    = np.zeros(NS)\n",
    "        Spot = np.zeros(NS)\n",
    "        for i in range(NS):\n",
    "            Z[i] = math.asinh(-K / C) + (i - 1) * dz\n",
    "            Spot[i] = K + C * math.sinh(Z[i])\n",
    "        \n",
    "        # The volatility grid\n",
    "        d = Vmax / 10\n",
    "        dn = math.asinh(Vmax / d) / (NV - 1)\n",
    "        N = np.zeros(NV)\n",
    "        Vol = np.zeros(NV)\n",
    "        for j in range(NV):\n",
    "            N[j] = (j - 1) * dn\n",
    "            Vol[j] = d * math.sinh(N[j])\n",
    "\n",
    "    return (Spot, Vol)    "
   ]
  },
  {
   "cell_type": "markdown",
   "metadata": {},
   "source": [
    "Below the result of the previous function, the grid for the stock price is represented by blue lines and the volatility by red lines. Note that in the stock price dimension, the grid is finest around the strike price, while in the volatility dimension, the grid becomes finer as we progress toward zero."
   ]
  },
  {
   "cell_type": "code",
   "execution_count": 48,
   "metadata": {},
   "outputs": [],
   "source": [
    "    # Option features\n",
    "    p_option = {'Strike':87.5\n",
    "               ,'r':0.02\n",
    "               ,'q':0.05\n",
    "               }\n",
    "    # Grid parameters\n",
    "    p_grid   = {'NS':30\n",
    "               ,'NV':30\n",
    "               ,'NT':1500\n",
    "               ,'Smin':0\n",
    "               ,'Smax':2 * p_option['Strike']\n",
    "               ,'Vmin':0\n",
    "               ,'Vmax':0.5\n",
    "               ,'Tmin':0\n",
    "               ,'Tmax':0.15\n",
    "               }    \n",
    "\n",
    "(Spot, Vol) = BuildGrid('uniform', p_grid, p_option)"
   ]
  },
  {
   "cell_type": "code",
   "execution_count": 49,
   "metadata": {},
   "outputs": [
    {
     "data": {
      "image/png": "[encoded data removed]",
      "text/plain": [
       "<Figure size 432x288 with 1 Axes>"
      ]
     },
     "metadata": {
      "needs_background": "light"
     },
     "output_type": "display_data"
    }
   ],
   "source": [
    "for xc in Vol:\n",
    "    plt.axvline(x=xc, color='red', linestyle='-', linewidth = .5)\n",
    "\n",
    "for yc in Spot:\n",
    "    plt.axhline(y=yc, color='blue', linestyle='-', linewidth = .5)\n",
    "\n",
    "plt.ylim(min(Spot), max(Spot))\n",
    "plt.xlim(min(Vol), max(Vol))\n",
    "plt.show()"
   ]
  },
  {
   "cell_type": "code",
   "execution_count": 50,
   "metadata": {},
   "outputs": [],
   "source": [
    "(Spot, Vol) = BuildGrid('non-uniform', p_grid, p_option)"
   ]
  },
  {
   "cell_type": "code",
   "execution_count": 51,
   "metadata": {},
   "outputs": [
    {
     "data": {
      "image/png": "[encoded data removed]",
      "text/plain": [
       "<Figure size 432x288 with 1 Axes>"
      ]
     },
     "metadata": {
      "needs_background": "light"
     },
     "output_type": "display_data"
    }
   ],
   "source": [
    "for xc in Vol:\n",
    "    plt.axvline(x=xc, color='red', linestyle='-', linewidth = .5)\n",
    "\n",
    "for yc in Spot:\n",
    "    plt.axhline(y=yc, color='blue', linestyle='-', linewidth = .5)\n",
    "\n",
    "plt.ylim(min(Spot), max(Spot))\n",
    "plt.xlim(min(Vol), max(Vol))\n",
    "plt.show()"
   ]
  },
  {
   "cell_type": "markdown",
   "metadata": {},
   "source": [
    "### Derivatives Approximations for Non Uniform Grid"
   ]
  },
  {
   "cell_type": "markdown",
   "metadata": {},
   "source": [
    "$$\n",
    "\\frac{\\partial U}{\\partial S} (S_i, v_j) =\n",
    "\\left(\n",
    "\\frac{U^n_{i+1,j} − U^n_{i-1,j}}{S_{i+1}−S_{i-1}} \\right)\n",
    "$$\n",
    "\n",
    "$$\n",
    "\\frac{\\partial U}{\\partial v} (S_i, v_j) =\n",
    "\\left(\n",
    "\\frac{U^n_{i,j+1} − U^n_{i,j-1}}{v_{j+1}−v_{j-1}} \\right)\n",
    "$$"
   ]
  },
  {
   "cell_type": "markdown",
   "metadata": {},
   "source": [
    "$$\n",
    "\\frac{\\partial^2 U}{\\partial S^2} (S_i, v_j) =\n",
    "\\left(\n",
    "\\frac{U^n_{i+1,j} − U^n_{i,j}}{S_{i+1}−S_{i}}\n",
    "− \n",
    "\\frac{U^n_{i,j}−U^n_{i−1,j}}{S_{i}−S_{i−1}}\n",
    "\\right)\n",
    "\\frac{1}{S_{i+1}−S_{i}}\n",
    "$$"
   ]
  },
  {
   "cell_type": "markdown",
   "metadata": {},
   "source": [
    "$$\n",
    "\\frac{\\partial^2 U}{\\partial v^2} (S_i, v_j) =\n",
    "\\left(\n",
    "\\frac{U^n_{i,j+1} − U^n_{i,j}}{v_{j+1}−v_{j}}\n",
    "− \n",
    "\\frac{U^n_{i,j}−U^n_{i,j−1}}{v_{j}−v_{j−1}}\n",
    "\\right)\n",
    "\\frac{1}{v_{j+1}−v_{j}}\n",
    "$$"
   ]
  },
  {
   "cell_type": "markdown",
   "metadata": {},
   "source": [
    "$$\n",
    "\\frac{\\partial^2 U}{\\partial S \\partial v} (S_i, v_j) =\n",
    "\\left(\n",
    "\\frac{U^n_{i+1,j+1} − U^n_{i-1,j+1} - U^n_{i+1,j-1} + U^n_{i-1,j−1}}{(S_{i+1} - S_{i-1})(v_{j+1}−v_{j−1})}\n",
    "\\right)\n",
    "$$"
   ]
  },
  {
   "cell_type": "code",
   "execution_count": 52,
   "metadata": {},
   "outputs": [],
   "source": [
    "def HestonExplicitPDE_NU(Si, vi, p_heston, p_option, p_grid):\n",
    "    \n",
    "    start = time.time()\n",
    "    print('program starts...')\n",
    "    #\n",
    "    # Number of Steps in Each Dimension\n",
    "    #\n",
    "    NS = p_grid['NS']\n",
    "    NV = p_grid['NV']\n",
    "    NT = p_grid['NT']\n",
    "    #\n",
    "    # Option Features\n",
    "    #\n",
    "    Strike = p_option['Strike']\n",
    "    r      = p_option['r']\n",
    "    q      = p_option['q']\n",
    "    #\n",
    "    # Boundary Values for Stock Price, Volatility, and Maturity\n",
    "    #\n",
    "    Smax = p_grid['Smax']\n",
    "    Tmin = p_grid['Tmin']\n",
    "    Tmax = p_grid['Tmax']\n",
    "    #\n",
    "    # Heston parameters. Note: only kappa, theta, and sigma are needed\n",
    "    #\n",
    "    kappa = p_heston['kappa']\n",
    "    theta = p_heston['theta']\n",
    "    sigma = p_heston['sigma']\n",
    "    rho   = p_heston['rho']\n",
    "    #\n",
    "    # Building grid\n",
    "    #\n",
    "    (Spot, Vol) = BuildGrid('non-uniform', p_grid, p_option)\n",
    "    \n",
    "    # Increment for Maturity\n",
    "    dt = (Tmax - Tmin) / (NT - 1)\n",
    "    \n",
    "    # Initialize the 2-D grid with zeros\n",
    "    U = np.zeros((NS, NV))\n",
    "    \n",
    "    # Temporary grid for previous time steps\n",
    "    u = np.zeros((NS, NV))\n",
    "\n",
    "    # Boundary condition for Call Option at t = Maturity\n",
    "    for j in range(NV):\n",
    "        U[:,j] = np.maximum(Spot - Strike, 0)\n",
    "\n",
    "    for tt in range(NT):\n",
    "        # Boundary condition for Smin and Smax\n",
    "        U[0,:]    = 0\n",
    "        U[NS-1,:] = np.max(Smax - Strike, 0)\n",
    "        # Boundary condition for Vmax\n",
    "        U[:,NV-1] = np.maximum(Spot - Strike, 0)\n",
    "        # Update the temporary grid u(s,t) with the boundary conditions\n",
    "        u = U\n",
    "        # Boundary condition for Vmin.\n",
    "        # Previous time step values are in the temporary grid u(s,t)\n",
    "        for ss in range(1, NS-1):\n",
    "            DerV     = (u[ss, 1] - u[ss, 0]) / (Vol[1] - Vol[0])\n",
    "            DerS     = (u[ss + 1, 0] - u[ss - 1, 0]) / (Spot[ss + 1] - Spot[ss - 1])\n",
    "            LHS      = -r * u[ss, 0] + (r - q) * Spot[ss] * DerS + kappa * theta * DerV\n",
    "            U[ss, 0] = LHS * dt + u[ss, 0]\n",
    "        # Update the temporary grid u(s,t) with the boundary conditions\n",
    "        u = U\n",
    "        # Interior points of the grid (non boundary).\n",
    "        # As usual previous time step values are in the temporary grid u(s,t)\n",
    "        for s in range(1, NS - 1):\n",
    "            for v in range(1, NV - 1):\n",
    "                DerS = (u[s + 1, v] - u[s - 1, v]) / (Spot[s + 1] - Spot[s - 1])      # Central difference for dU/dS\n",
    "                DerV = (u[s, v + 1] - u[s, v - 1]) / (Vol[v + 1] - Vol[v - 1])        # Central difference for dU/dV\n",
    "                DerSS = ((u[s + 1, v] - u[s, v]) / \\\n",
    "                        (Spot[s + 1] - Spot[s]) - (u[s, v] - u[s - 1, v]) / \\\n",
    "                        (Spot[s] - Spot[s - 1])) / (Spot[s + 1] - Spot[s])            # d2U/dS2\n",
    "                DerVV = ((u[s, v + 1] - u[s, v]) / \\\n",
    "                        (Vol[v + 1] - Vol[v]) - (u[s, v] - u[s, v - 1]) / \\\n",
    "                        (Vol[v] - Vol[v - 1])) / (Vol[v + 1] - Vol[v])                # d2U/dV2\n",
    "                DerSV = (u[s + 1, v + 1] - u[s - 1, v + 1] - u[s + 1, v - 1] + u[s - 1, v - 1]) / \\\n",
    "                        (Spot[s + 1] - Spot[s - 1]) / (Vol[v + 1] - Vol[v - 1])       # d2U/dSdV\n",
    "                L = 0.5 * Vol[v] * Spot[s] * Spot[s] * DerSS + rho * sigma * Vol[v] * Spot[s] * DerSV \\\n",
    "                  + 0.5 * sigma * sigma * Vol[v] * DerVV - r * u[s, v] \\\n",
    "                  + (r - q) * Spot[s] * DerS + kappa * (theta - Vol[v]) * DerV\n",
    "                # The PDE\n",
    "                U[s, v] = L * dt + u[s, v]\n",
    "        \n",
    "    U = U.transpose()        \n",
    "        \n",
    "    f = scipy.interpolate.interp2d(Spot, Vol, U)\n",
    "    end = time.time()\n",
    "    print('program ends...')\n",
    "    return (f(Si, vi), end - start)    \n"
   ]
  },
  {
   "cell_type": "code",
   "execution_count": 53,
   "metadata": {},
   "outputs": [],
   "source": [
    "def HestonExplicitPDE(Si, vi, p_heston, p_option, p_grid):\n",
    "    '''\n",
    "    ' Finite differences for the Heston PDE for a European Call\n",
    "    ' Reference:\n",
    "    ' In 'T Hout and Foulon \"ADI Finite Difference Schemes for Option Pricing in the Heston Model with Correlation\" \n",
    "    ' Int J of Num Analysis and Modeling, 2010.\n",
    "    ' INPUTS\n",
    "    '    params     = 6x1 vector of Heston parameters\n",
    "    '    Strike     = Strike price\n",
    "    '    r          = risk free rate\n",
    "    '    q          = Dividend yield\n",
    "    '    Smax, Smin = Max and Min values of stock price\n",
    "    '    Vmax, Vmin = Max and Min values of volatility\n",
    "    '    Tmax, Tmin = Max and Min values of maturity\n",
    "    '    NS, NV, NT = Number of points on stock price, volatility, and maturity grids\n",
    "    '    GridType   = Type of Grid (\"Uniform\" or \"NonUniform\")\n",
    "    '    Si         = Value of Spot price at which to interpolate on U(S,V)\n",
    "    '    Vi         = Value of Volatility at which to interpolate on U(S,V)\n",
    "    ' OUTPUT\n",
    "    '    U(Si,Vi)   = Interpolated value of U(S,V) and points (Si,Vi)\n",
    "    '''\n",
    "    start = time.time()\n",
    "    print('program starts...')\n",
    "    #\n",
    "    # Number of Steps in Each Dimension\n",
    "    #\n",
    "    NS = p_grid['NS']\n",
    "    NV = p_grid['NV']\n",
    "    NT = p_grid['NT']\n",
    "    #\n",
    "    # Option Features\n",
    "    #\n",
    "    Strike = p_option['Strike']\n",
    "    r      = p_option['r']\n",
    "    q      = p_option['q']\n",
    "    #\n",
    "    # Boundary Values for Stock Price, Volatility, and Maturity\n",
    "    #\n",
    "    Smin = p_grid['Smin']\n",
    "    Smax = p_grid['Smax']\n",
    "    Vmin = p_grid['Vmin'] \n",
    "    Vmax = p_grid['Vmax']\n",
    "    Tmin = p_grid['Tmin']\n",
    "    Tmax = p_grid['Tmax']\n",
    "    # Heston parameters. Note: only kappa, theta, and sigma are needed\n",
    "    kappa = p_heston['kappa']\n",
    "    theta = p_heston['theta']\n",
    "    sigma = p_heston['sigma']\n",
    "    # Increment for Stock Price, Volatility, and Maturity\n",
    "    ds = (Smax - Smin) / (NS - 1)\n",
    "    dv = (Vmax - Vmin) / (NV - 1)\n",
    "    dt = (Tmax - Tmin) / (NT - 1)\n",
    "    # Building a Uniform Grid\n",
    "    Mat  = np.arange(Tmin, Tmax + dt, dt)\n",
    "    Spot = np.arange(Smin, Smax + ds, ds)\n",
    "    Vol  = np.arange(Vmin, Vmax + dv, dv)  \n",
    "    # Make sure the array have the right dimension\n",
    "    Mat  = Mat[:NT]\n",
    "    Spot = Spot[:NS]\n",
    "    Vol  = Vol[:NV]\n",
    "    \n",
    "    # Initialize the 2-D grid with zeros\n",
    "    U = np.zeros((NS, NV))\n",
    "    \n",
    "    # Temporary grid for previous time steps\n",
    "    u = np.zeros((NS, NV))\n",
    "    \n",
    "    # Boundary condition for Call Option at t = Maturity\n",
    "    for j in range(NV):\n",
    "        U[:,j] = np.maximum(Spot - Strike, 0)\n",
    "    \n",
    "    # loop on maturity\n",
    "    c1 = (1 - r * dt - kappa * theta * dt / dv)\n",
    "    c2 = dt * 0.5 * (r - q)/ds\n",
    "    c3 = kappa * theta * (dt/dv)\n",
    "    for tt in range(NT):\n",
    "        # Boundary condition for Smin and Smax\n",
    "        U[0,:]    = 0\n",
    "        U[NS-1,:] = np.max(Smax - Strike, 0)\n",
    "        # Boundary condition for Vmax\n",
    "        U[:,NV-1] = np.maximum(Spot - Strike, 0)\n",
    "        # Update the temporary grid u(s,t) with the boundary conditions\n",
    "        u = U\n",
    "        # Boundary condition for Vmin.\n",
    "        # Previous time step values are in the temporary grid u(s,t)\n",
    "           \n",
    "        U[1:NS-2,0] = c1 * u[1:NS-2,0] \\\n",
    "                    + c2 * Spot[1:NS-2] * (u[2:NS-1, 0] - u[0:NS-3,0]) \\\n",
    "                    + c3 * u[1:NS-2,1]  \n",
    "        \n",
    "        # Update the temporary grid u(s,t) with the boundary conditions\n",
    "        u = U\n",
    "        # Interior points of the grid (non boundary).\n",
    "        # As usual previous time step values are in the temporary grid u(s,t)\n",
    "        for i in range(1, NS - 1):\n",
    "            for j in range(1, NV - 1):\n",
    "                C1 = (1 - dt * i * i * j * dv - sigma * sigma * j * dt / dv - r * dt)\n",
    "                C2 = (0.5 * dt * i * i * j * dv - 0.5 * dt * (r - q) * i)\n",
    "                C3 = (0.5 * dt * i * i * j * dv + 0.5 * dt * (r - q) * i)\n",
    "                C4 = (0.5 * dt * sigma * sigma * j / dv - 0.5 * dt * kappa * (theta - j * dv) / dv)\n",
    "                C5 = (0.5 * dt * sigma * sigma * j / dv + 0.5 * dt * kappa * (theta - j * dv) / dv)\n",
    "                C6 = 0.25 * dt * sigma * i * j\n",
    "                # The PDE\n",
    "                U[i, j] = C1 * u[i, j] + C2 * u[i - 1, j] + C3 * u[i + 1, j] \\\n",
    "                       + C4 * u[i, j - 1] + C5 * u[i, j + 1] \\\n",
    "                       + C6 * (u[i + 1, j + 1] + u[i - 1, j - 1] - u[i - 1, j + 1] - u[i + 1, j - 1])\n",
    "                      \n",
    "    U = U.transpose()        \n",
    "        \n",
    "    f = scipy.interpolate.interp2d(Spot, Vol, U)\n",
    "    end = time.time()\n",
    "    print('program ends...')\n",
    "    return (f(Si, vi), end - start)    "
   ]
  },
  {
   "cell_type": "code",
   "execution_count": 54,
   "metadata": {},
   "outputs": [
    {
     "name": "stdout",
     "output_type": "stream",
     "text": [
      "program starts...\n",
      "program ends...\n",
      "program starts...\n",
      "program ends...\n",
      "[4.27674443] 9.961606979370117\n",
      "[4.04314205] 24.208297967910767\n"
     ]
    }
   ],
   "source": [
    "    # Heston Parameters\n",
    "    p_heston = {'kappa' :kappa\n",
    "               ,'theta' :theta\n",
    "               ,'sigma' :sigma\n",
    "               ,'v0'    :v0\n",
    "               ,'rho'   :rho\n",
    "               ,'lambda':0.00000}\n",
    "    # Option features\n",
    "    p_option = {'Strike':K\n",
    "               ,'r'     :r\n",
    "               ,'q'     :q\n",
    "               }\n",
    "    # Grid parameters\n",
    "    p_grid   = {'NS':30\n",
    "               ,'NV':30\n",
    "               ,'NT':1500\n",
    "               ,'Smin':0\n",
    "               ,'Smax':2 * p_option['Strike']\n",
    "               ,'Vmin':0\n",
    "               ,'Vmax':0.5\n",
    "               ,'Tmin':0\n",
    "               ,'Tmax':tau\n",
    "               }    \n",
    "    \n",
    "    Si = S\n",
    "    vi = p_heston['v0']\n",
    "    \n",
    "    call_price_1 =  HestonExplicitPDE(Si, vi, p_heston, p_option, p_grid)\n",
    "    call_price_2 =  HestonExplicitPDE_NU(Si, vi, p_heston, p_option, p_grid)\n",
    "    \n",
    "    print(call_price_1[0], call_price_1[1])\n",
    "    print(call_price_2[0], call_price_2[1])\n"
   ]
  },
  {
   "cell_type": "markdown",
   "metadata": {},
   "source": [
    "# References #\n",
    "\n",
    "*Rouah F. D.*, **The Heston Model and its Extensions in VBA**, Wiley Financial Series\n",
    "\n",
    "*Rouah F. D.*, **The Heston Model and its Extensions in Matlab and C#**, Wiley Financial Series\n"
   ]
  }
 ],
 "metadata": {
  "kernelspec": {
   "display_name": "Python 3",
   "language": "python",
   "name": "python3"
  },
  "language_info": {
   "codemirror_mode": {
    "name": "ipython",
    "version": 3
   },
   "file_extension": ".py",
   "mimetype": "text/x-python",
   "name": "python",
   "nbconvert_exporter": "python",
   "pygments_lexer": "ipython3",
   "version": "3.7.4"
  },
  "toc": {
   "base_numbering": 1,
   "nav_menu": {},
   "number_sections": true,
   "sideBar": true,
   "skip_h1_title": false,
   "title_cell": "Table of Contents",
   "title_sidebar": "Contents",
   "toc_cell": false,
   "toc_position": {},
   "toc_section_display": true,
   "toc_window_display": false
  }
 },
 "nbformat": 4,
 "nbformat_minor": 4
}
